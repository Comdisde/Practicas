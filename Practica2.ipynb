{
 "cells": [
  {
   "cell_type": "code",
   "execution_count": 1,
   "metadata": {},
   "outputs": [],
   "source": [
    "from __future__ import division\n",
    "import pandas as pd\n",
    "import numpy as np\n",
    "import matplotlib.pyplot as plt\n",
    "import dask.dataframe as dd\n",
    "from Tools import TrateNan, plot_predict, WOE, frecuencia\n",
    "import dask\n",
    "\n",
    "\n",
    "from sklearn.preprocessing import Imputer\n",
    "\n",
    "import unicodedata\n",
    "import re\n",
    "import string\n",
    "import nltk\n",
    "\n",
    "from sklearn.model_selection import cross_val_score\n",
    "from sklearn.feature_extraction.text import CountVectorizer\n",
    "import pickle\n",
    "\n",
    "from wordcloud import WordCloud, ImageColorGenerator\n",
    "from scipy.misc import imread\n",
    "from nltk.corpus import stopwords as sw\n",
    "\n",
    "    \n",
    "def elimina_tildes(s):\n",
    "    return ''.join((c for c in unicodedata.normalize('NFD', unicode(s)) if unicodedata.category(c) != 'Mn')) \n",
    "def replace_punctuation ( text ):\n",
    "    return re.sub('[%s]' % re.escape(string.punctuation), '', text)\n",
    "\n",
    "%matplotlib inline"
   ]
  },
  {
   "cell_type": "code",
   "execution_count": 28,
   "metadata": {},
   "outputs": [
    {
     "name": "stdout",
     "output_type": "stream",
     "text": [
      "CPU times: user 2.89 s, sys: 120 ms, total: 3.01 s\n",
      "Wall time: 3 s\n"
     ]
    }
   ],
   "source": [
    "%%time\n",
    "df=pd.read_csv(\"../../../Documentos/Data/Final TSC/train.csv\").sample(frac=.1,\n",
    "                                                    random_state=0).reset_index(drop=True)\n",
    "df.head()"
   ]
  },
  {
   "cell_type": "markdown",
   "metadata": {},
   "source": [
    "%%time\n",
    "df=dd.read_csv(\"../../../Documentos/Data/Final TSC/train.csv\")"
   ]
  },
  {
   "cell_type": "code",
   "execution_count": 29,
   "metadata": {},
   "outputs": [
    {
     "name": "stdout",
     "output_type": "stream",
     "text": [
      "(210171, 10)\n"
     ]
    }
   ],
   "source": [
    "print df.shape"
   ]
  },
  {
   "cell_type": "code",
   "execution_count": 30,
   "metadata": {},
   "outputs": [
    {
     "data": {
      "text/html": [
       "<div>\n",
       "<style scoped>\n",
       "    .dataframe tbody tr th:only-of-type {\n",
       "        vertical-align: middle;\n",
       "    }\n",
       "\n",
       "    .dataframe tbody tr th {\n",
       "        vertical-align: top;\n",
       "    }\n",
       "\n",
       "    .dataframe thead th {\n",
       "        text-align: right;\n",
       "    }\n",
       "</style>\n",
       "<table border=\"1\" class=\"dataframe\">\n",
       "  <thead>\n",
       "    <tr style=\"text-align: right;\">\n",
       "      <th></th>\n",
       "      <th>Columna</th>\n",
       "      <th>Cardinalidad</th>\n",
       "      <th>Num_NaN</th>\n",
       "    </tr>\n",
       "  </thead>\n",
       "  <tbody>\n",
       "    <tr>\n",
       "      <th>1</th>\n",
       "      <td>EMPLOYER_NAME</td>\n",
       "      <td>50221.0</td>\n",
       "      <td>3.0</td>\n",
       "    </tr>\n",
       "    <tr>\n",
       "      <th>2</th>\n",
       "      <td>SOC_NAME</td>\n",
       "      <td>1166.0</td>\n",
       "      <td>1277.0</td>\n",
       "    </tr>\n",
       "    <tr>\n",
       "      <th>3</th>\n",
       "      <td>JOB_TITLE</td>\n",
       "      <td>43580.0</td>\n",
       "      <td>4.0</td>\n",
       "    </tr>\n",
       "    <tr>\n",
       "      <th>4</th>\n",
       "      <td>FULL_TIME_POSITION</td>\n",
       "      <td>2.0</td>\n",
       "      <td>0.0</td>\n",
       "    </tr>\n",
       "    <tr>\n",
       "      <th>5</th>\n",
       "      <td>PREVAILING_WAGE</td>\n",
       "      <td>18849.0</td>\n",
       "      <td>6.0</td>\n",
       "    </tr>\n",
       "    <tr>\n",
       "      <th>6</th>\n",
       "      <td>YEAR</td>\n",
       "      <td>6.0</td>\n",
       "      <td>0.0</td>\n",
       "    </tr>\n",
       "    <tr>\n",
       "      <th>7</th>\n",
       "      <td>WORKSITE</td>\n",
       "      <td>6949.0</td>\n",
       "      <td>0.0</td>\n",
       "    </tr>\n",
       "    <tr>\n",
       "      <th>8</th>\n",
       "      <td>lon</td>\n",
       "      <td>2400.0</td>\n",
       "      <td>7529.0</td>\n",
       "    </tr>\n",
       "    <tr>\n",
       "      <th>9</th>\n",
       "      <td>lat</td>\n",
       "      <td>2402.0</td>\n",
       "      <td>7529.0</td>\n",
       "    </tr>\n",
       "    <tr>\n",
       "      <th>10</th>\n",
       "      <td>ELIGIBLE</td>\n",
       "      <td>2.0</td>\n",
       "      <td>0.0</td>\n",
       "    </tr>\n",
       "  </tbody>\n",
       "</table>\n",
       "</div>"
      ],
      "text/plain": [
       "               Columna  Cardinalidad  Num_NaN\n",
       "1        EMPLOYER_NAME       50221.0      3.0\n",
       "2             SOC_NAME        1166.0   1277.0\n",
       "3            JOB_TITLE       43580.0      4.0\n",
       "4   FULL_TIME_POSITION           2.0      0.0\n",
       "5      PREVAILING_WAGE       18849.0      6.0\n",
       "6                 YEAR           6.0      0.0\n",
       "7             WORKSITE        6949.0      0.0\n",
       "8                  lon        2400.0   7529.0\n",
       "9                  lat        2402.0   7529.0\n",
       "10            ELIGIBLE           2.0      0.0"
      ]
     },
     "execution_count": 30,
     "metadata": {},
     "output_type": "execute_result"
    }
   ],
   "source": [
    "trate_nan=TrateNan(df)\n",
    "trate_nan.count_nan()"
   ]
  },
  {
   "cell_type": "code",
   "execution_count": 31,
   "metadata": {
    "scrolled": true
   },
   "outputs": [
    {
     "name": "stdout",
     "output_type": "stream",
     "text": [
      "  ELIGIBLE  Conteo  Frecuencia\n",
      "0        1  182837    0.869944\n",
      "1        0   27334    0.130056 \n",
      "\n",
      "\n",
      "                       EMPLOYER_NAME  Conteo  Frecuencia\n",
      "0                    INFOSYS LIMITED    9296    0.044231\n",
      "1  TATA CONSULTANCY SERVICES LIMITED    4533    0.021568\n",
      "2                      WIPRO LIMITED    3372    0.016044\n",
      "3            DELOITTE CONSULTING LLP    2649    0.012604\n",
      "4                      ACCENTURE LLP    2401    0.011424 \n",
      "\n",
      "\n",
      "                            SOC_NAME  Conteo  Frecuencia\n",
      "0          Computer Systems Analysts   20520    0.097635\n",
      "1               Computer Programmers   15654    0.074482\n",
      "2  SOFTWARE DEVELOPERS, APPLICATIONS   15637    0.074401\n",
      "3          COMPUTER SYSTEMS ANALYSTS   15132    0.071999\n",
      "4  Software Developers, Applications   13328    0.063415 \n",
      "\n",
      "\n",
      "             JOB_TITLE  Conteo  Frecuencia\n",
      "0   PROGRAMMER ANALYST   17316    0.082390\n",
      "1    SOFTWARE ENGINEER    8592    0.040881\n",
      "2  COMPUTER PROGRAMMER    4990    0.023743\n",
      "3      SYSTEMS ANALYST    4362    0.020755\n",
      "4   SOFTWARE DEVELOPER    3022    0.014379 \n",
      "\n",
      "\n"
     ]
    }
   ],
   "source": [
    "frecuencia(df, columns=[\"ELIGIBLE\", \"EMPLOYER_NAME\", \"SOC_NAME\", \"JOB_TITLE\"])"
   ]
  },
  {
   "cell_type": "code",
   "execution_count": 32,
   "metadata": {},
   "outputs": [],
   "source": [
    "df.dropna(subset=[\"FULL_TIME_POSITION\",\"SOC_NAME\",\"JOB_TITLE\"\n",
    "                  ,\"EMPLOYER_NAME\"], inplace=True)"
   ]
  },
  {
   "cell_type": "code",
   "execution_count": 33,
   "metadata": {},
   "outputs": [],
   "source": [
    "imputer=Imputer(strategy=\"mean\")\n",
    "imputer.fit(df[[\"lon\",\"lat\",\"PREVAILING_WAGE\"]])\n",
    "df[[\"lon\",\"lat\",\"PREVAILING_WAGE\"]]=imputer.transform(df[[\"lon\",\"lat\",\"PREVAILING_WAGE\"]])"
   ]
  },
  {
   "cell_type": "code",
   "execution_count": 34,
   "metadata": {},
   "outputs": [],
   "source": [
    "df.EMPLOYER_NAME=df.EMPLOYER_NAME.map(replace_punctuation)"
   ]
  },
  {
   "cell_type": "code",
   "execution_count": 35,
   "metadata": {},
   "outputs": [],
   "source": [
    "df.reset_index(drop=True, inplace=True)"
   ]
  },
  {
   "cell_type": "markdown",
   "metadata": {},
   "source": [
    "texto=df.EMPLOYER_NAME.to_string(index=False).lower()\n",
    "\n",
    "texto=texto.split()\n",
    "\n",
    "stopwords=sw.words('english')\n",
    "\n",
    "texto=[pal for pal in texto if pal not in stopwords]\n",
    "\n",
    "freq=nltk.FreqDist(texto)\n",
    "\n",
    "texto=[x for x,y in freq.items() if y >1]\n",
    "stw=[x for x,y in freq.items() if y in range(1,5)]\n",
    "\n",
    "stw.extend(stopwords)"
   ]
  },
  {
   "cell_type": "code",
   "execution_count": 36,
   "metadata": {},
   "outputs": [],
   "source": [
    "stw=pickle.load(open(\"./X_words/stw.pkl\",\"rb\"))\n",
    "texto=pickle.load(open(\"./X_words/texto.pkl\",\"rb\"))\n",
    "freq=pickle.load(open(\"./X_words/freq.pkl\",\"rb\"))"
   ]
  },
  {
   "cell_type": "code",
   "execution_count": 37,
   "metadata": {},
   "outputs": [
    {
     "name": "stdout",
     "output_type": "stream",
     "text": [
      "CPU times: user 2.68 s, sys: 108 ms, total: 2.79 s\n",
      "Wall time: 2.61 s\n"
     ]
    }
   ],
   "source": [
    "%%time\n",
    "from sklearn.feature_extraction.text import TfidfVectorizer\n",
    "\n",
    "cvct= CountVectorizer(max_features=2000,\n",
    "                     stop_words=stw,\n",
    "                     #tokenizer=texto,\n",
    "                     ngram_range=(1,3))\n",
    "cvct.fit(df.EMPLOYER_NAME)\n",
    "\n"
   ]
  },
  {
   "cell_type": "code",
   "execution_count": 38,
   "metadata": {},
   "outputs": [],
   "source": [
    "dtm=cvct.transform(df.EMPLOYER_NAME)\n",
    "\n",
    "X_words=pd.DataFrame(dtm.toarray(),columns=cvct.get_feature_names(), )"
   ]
  },
  {
   "cell_type": "markdown",
   "metadata": {},
   "source": [
    "%%time\n",
    "aux_=np.zeros((0, 5000),)\n",
    "for j in range(1):\n",
    "    \n",
    "    dtm=cvct.transform(df.EMPLOYER_NAME[48877*(j):48877*(j+1)])\n",
    "\n",
    "    X_words=pd.DataFrame(dtm.toarray(),columns=cvct.get_feature_names(), )\n",
    "    \n",
    "    \n"
   ]
  },
  {
   "cell_type": "code",
   "execution_count": null,
   "metadata": {},
   "outputs": [],
   "source": [
    "pd.concat([X_words, df], axis=1)"
   ]
  },
  {
   "cell_type": "code",
   "execution_count": 28,
   "metadata": {},
   "outputs": [
    {
     "data": {
      "text/plain": [
       "[('lat', 0.0026345261733769967)]"
      ]
     },
     "execution_count": 28,
     "metadata": {},
     "output_type": "execute_result"
    }
   ],
   "source": [
    "woe=WOE(data=df, target=\"ELIGIBLE\")\n",
    "woe.iv([\"lat\"], bins=10)"
   ]
  },
  {
   "cell_type": "code",
   "execution_count": null,
   "metadata": {},
   "outputs": [],
   "source": [
    "woe.fit([])"
   ]
  }
 ],
 "metadata": {
  "kernelspec": {
   "display_name": "Python 2",
   "language": "python",
   "name": "python2"
  },
  "language_info": {
   "codemirror_mode": {
    "name": "ipython",
    "version": 2
   },
   "file_extension": ".py",
   "mimetype": "text/x-python",
   "name": "python",
   "nbconvert_exporter": "python",
   "pygments_lexer": "ipython2",
   "version": "2.7.15"
  }
 },
 "nbformat": 4,
 "nbformat_minor": 2
}
