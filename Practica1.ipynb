{
 "cells": [
  {
   "cell_type": "code",
   "execution_count": 1,
   "metadata": {},
   "outputs": [
    {
     "data": {
      "text/html": [
       "\n",
       "    <div class=\"bk-root\">\n",
       "        <a href=\"https://bokeh.pydata.org\" target=\"_blank\" class=\"bk-logo bk-logo-small bk-logo-notebook\"></a>\n",
       "        <span id=\"17af852a-de06-4823-afc9-79512388c310\">Loading BokehJS ...</span>\n",
       "    </div>"
      ]
     },
     "metadata": {},
     "output_type": "display_data"
    },
    {
     "data": {
      "application/javascript": [
       "\n",
       "(function(root) {\n",
       "  function now() {\n",
       "    return new Date();\n",
       "  }\n",
       "\n",
       "  var force = true;\n",
       "\n",
       "  if (typeof (root._bokeh_onload_callbacks) === \"undefined\" || force === true) {\n",
       "    root._bokeh_onload_callbacks = [];\n",
       "    root._bokeh_is_loading = undefined;\n",
       "  }\n",
       "\n",
       "  var JS_MIME_TYPE = 'application/javascript';\n",
       "  var HTML_MIME_TYPE = 'text/html';\n",
       "  var EXEC_MIME_TYPE = 'application/vnd.bokehjs_exec.v0+json';\n",
       "  var CLASS_NAME = 'output_bokeh rendered_html';\n",
       "\n",
       "  /**\n",
       "   * Render data to the DOM node\n",
       "   */\n",
       "  function render(props, node) {\n",
       "    var script = document.createElement(\"script\");\n",
       "    node.appendChild(script);\n",
       "  }\n",
       "\n",
       "  /**\n",
       "   * Handle when an output is cleared or removed\n",
       "   */\n",
       "  function handleClearOutput(event, handle) {\n",
       "    var cell = handle.cell;\n",
       "\n",
       "    var id = cell.output_area._bokeh_element_id;\n",
       "    var server_id = cell.output_area._bokeh_server_id;\n",
       "    // Clean up Bokeh references\n",
       "    if (id !== undefined) {\n",
       "      Bokeh.index[id].model.document.clear();\n",
       "      delete Bokeh.index[id];\n",
       "    }\n",
       "\n",
       "    if (server_id !== undefined) {\n",
       "      // Clean up Bokeh references\n",
       "      var cmd = \"from bokeh.io.state import curstate; print(curstate().uuid_to_server['\" + server_id + \"'].get_sessions()[0].document.roots[0]._id)\";\n",
       "      cell.notebook.kernel.execute(cmd, {\n",
       "        iopub: {\n",
       "          output: function(msg) {\n",
       "            var element_id = msg.content.text.trim();\n",
       "            Bokeh.index[element_id].model.document.clear();\n",
       "            delete Bokeh.index[element_id];\n",
       "          }\n",
       "        }\n",
       "      });\n",
       "      // Destroy server and session\n",
       "      var cmd = \"import bokeh.io.notebook as ion; ion.destroy_server('\" + server_id + \"')\";\n",
       "      cell.notebook.kernel.execute(cmd);\n",
       "    }\n",
       "  }\n",
       "\n",
       "  /**\n",
       "   * Handle when a new output is added\n",
       "   */\n",
       "  function handleAddOutput(event, handle) {\n",
       "    var output_area = handle.output_area;\n",
       "    var output = handle.output;\n",
       "\n",
       "    // limit handleAddOutput to display_data with EXEC_MIME_TYPE content only\n",
       "    if ((output.output_type != \"display_data\") || (!output.data.hasOwnProperty(EXEC_MIME_TYPE))) {\n",
       "      return\n",
       "    }\n",
       "\n",
       "    var toinsert = output_area.element.find(\".\" + CLASS_NAME.split(' ')[0]);\n",
       "\n",
       "    if (output.metadata[EXEC_MIME_TYPE][\"id\"] !== undefined) {\n",
       "      toinsert[toinsert.length - 1].firstChild.textContent = output.data[JS_MIME_TYPE];\n",
       "      // store reference to embed id on output_area\n",
       "      output_area._bokeh_element_id = output.metadata[EXEC_MIME_TYPE][\"id\"];\n",
       "    }\n",
       "    if (output.metadata[EXEC_MIME_TYPE][\"server_id\"] !== undefined) {\n",
       "      var bk_div = document.createElement(\"div\");\n",
       "      bk_div.innerHTML = output.data[HTML_MIME_TYPE];\n",
       "      var script_attrs = bk_div.children[0].attributes;\n",
       "      for (var i = 0; i < script_attrs.length; i++) {\n",
       "        toinsert[toinsert.length - 1].firstChild.setAttribute(script_attrs[i].name, script_attrs[i].value);\n",
       "      }\n",
       "      // store reference to server id on output_area\n",
       "      output_area._bokeh_server_id = output.metadata[EXEC_MIME_TYPE][\"server_id\"];\n",
       "    }\n",
       "  }\n",
       "\n",
       "  function register_renderer(events, OutputArea) {\n",
       "\n",
       "    function append_mime(data, metadata, element) {\n",
       "      // create a DOM node to render to\n",
       "      var toinsert = this.create_output_subarea(\n",
       "        metadata,\n",
       "        CLASS_NAME,\n",
       "        EXEC_MIME_TYPE\n",
       "      );\n",
       "      this.keyboard_manager.register_events(toinsert);\n",
       "      // Render to node\n",
       "      var props = {data: data, metadata: metadata[EXEC_MIME_TYPE]};\n",
       "      render(props, toinsert[toinsert.length - 1]);\n",
       "      element.append(toinsert);\n",
       "      return toinsert\n",
       "    }\n",
       "\n",
       "    /* Handle when an output is cleared or removed */\n",
       "    events.on('clear_output.CodeCell', handleClearOutput);\n",
       "    events.on('delete.Cell', handleClearOutput);\n",
       "\n",
       "    /* Handle when a new output is added */\n",
       "    events.on('output_added.OutputArea', handleAddOutput);\n",
       "\n",
       "    /**\n",
       "     * Register the mime type and append_mime function with output_area\n",
       "     */\n",
       "    OutputArea.prototype.register_mime_type(EXEC_MIME_TYPE, append_mime, {\n",
       "      /* Is output safe? */\n",
       "      safe: true,\n",
       "      /* Index of renderer in `output_area.display_order` */\n",
       "      index: 0\n",
       "    });\n",
       "  }\n",
       "\n",
       "  // register the mime type if in Jupyter Notebook environment and previously unregistered\n",
       "  if (root.Jupyter !== undefined) {\n",
       "    var events = require('base/js/events');\n",
       "    var OutputArea = require('notebook/js/outputarea').OutputArea;\n",
       "\n",
       "    if (OutputArea.prototype.mime_types().indexOf(EXEC_MIME_TYPE) == -1) {\n",
       "      register_renderer(events, OutputArea);\n",
       "    }\n",
       "  }\n",
       "\n",
       "  \n",
       "  if (typeof (root._bokeh_timeout) === \"undefined\" || force === true) {\n",
       "    root._bokeh_timeout = Date.now() + 5000;\n",
       "    root._bokeh_failed_load = false;\n",
       "  }\n",
       "\n",
       "  var NB_LOAD_WARNING = {'data': {'text/html':\n",
       "     \"<div style='background-color: #fdd'>\\n\"+\n",
       "     \"<p>\\n\"+\n",
       "     \"BokehJS does not appear to have successfully loaded. If loading BokehJS from CDN, this \\n\"+\n",
       "     \"may be due to a slow or bad network connection. Possible fixes:\\n\"+\n",
       "     \"</p>\\n\"+\n",
       "     \"<ul>\\n\"+\n",
       "     \"<li>re-rerun `output_notebook()` to attempt to load from CDN again, or</li>\\n\"+\n",
       "     \"<li>use INLINE resources instead, as so:</li>\\n\"+\n",
       "     \"</ul>\\n\"+\n",
       "     \"<code>\\n\"+\n",
       "     \"from bokeh.resources import INLINE\\n\"+\n",
       "     \"output_notebook(resources=INLINE)\\n\"+\n",
       "     \"</code>\\n\"+\n",
       "     \"</div>\"}};\n",
       "\n",
       "  function display_loaded() {\n",
       "    var el = document.getElementById(\"17af852a-de06-4823-afc9-79512388c310\");\n",
       "    if (el != null) {\n",
       "      el.textContent = \"BokehJS is loading...\";\n",
       "    }\n",
       "    if (root.Bokeh !== undefined) {\n",
       "      if (el != null) {\n",
       "        el.textContent = \"BokehJS \" + root.Bokeh.version + \" successfully loaded.\";\n",
       "      }\n",
       "    } else if (Date.now() < root._bokeh_timeout) {\n",
       "      setTimeout(display_loaded, 100)\n",
       "    }\n",
       "  }\n",
       "\n",
       "\n",
       "  function run_callbacks() {\n",
       "    try {\n",
       "      root._bokeh_onload_callbacks.forEach(function(callback) { callback() });\n",
       "    }\n",
       "    finally {\n",
       "      delete root._bokeh_onload_callbacks\n",
       "    }\n",
       "    console.info(\"Bokeh: all callbacks have finished\");\n",
       "  }\n",
       "\n",
       "  function load_libs(js_urls, callback) {\n",
       "    root._bokeh_onload_callbacks.push(callback);\n",
       "    if (root._bokeh_is_loading > 0) {\n",
       "      console.log(\"Bokeh: BokehJS is being loaded, scheduling callback at\", now());\n",
       "      return null;\n",
       "    }\n",
       "    if (js_urls == null || js_urls.length === 0) {\n",
       "      run_callbacks();\n",
       "      return null;\n",
       "    }\n",
       "    console.log(\"Bokeh: BokehJS not loaded, scheduling load and callback at\", now());\n",
       "    root._bokeh_is_loading = js_urls.length;\n",
       "    for (var i = 0; i < js_urls.length; i++) {\n",
       "      var url = js_urls[i];\n",
       "      var s = document.createElement('script');\n",
       "      s.src = url;\n",
       "      s.async = false;\n",
       "      s.onreadystatechange = s.onload = function() {\n",
       "        root._bokeh_is_loading--;\n",
       "        if (root._bokeh_is_loading === 0) {\n",
       "          console.log(\"Bokeh: all BokehJS libraries loaded\");\n",
       "          run_callbacks()\n",
       "        }\n",
       "      };\n",
       "      s.onerror = function() {\n",
       "        console.warn(\"failed to load library \" + url);\n",
       "      };\n",
       "      console.log(\"Bokeh: injecting script tag for BokehJS library: \", url);\n",
       "      document.getElementsByTagName(\"head\")[0].appendChild(s);\n",
       "    }\n",
       "  };var element = document.getElementById(\"17af852a-de06-4823-afc9-79512388c310\");\n",
       "  if (element == null) {\n",
       "    console.log(\"Bokeh: ERROR: autoload.js configured with elementid '17af852a-de06-4823-afc9-79512388c310' but no matching script tag was found. \")\n",
       "    return false;\n",
       "  }\n",
       "\n",
       "  var js_urls = [\"https://cdn.pydata.org/bokeh/release/bokeh-0.12.16.min.js\", \"https://cdn.pydata.org/bokeh/release/bokeh-widgets-0.12.16.min.js\", \"https://cdn.pydata.org/bokeh/release/bokeh-tables-0.12.16.min.js\", \"https://cdn.pydata.org/bokeh/release/bokeh-gl-0.12.16.min.js\"];\n",
       "\n",
       "  var inline_js = [\n",
       "    function(Bokeh) {\n",
       "      Bokeh.set_log_level(\"info\");\n",
       "    },\n",
       "    \n",
       "    function(Bokeh) {\n",
       "      \n",
       "    },\n",
       "    function(Bokeh) {\n",
       "      console.log(\"Bokeh: injecting CSS: https://cdn.pydata.org/bokeh/release/bokeh-0.12.16.min.css\");\n",
       "      Bokeh.embed.inject_css(\"https://cdn.pydata.org/bokeh/release/bokeh-0.12.16.min.css\");\n",
       "      console.log(\"Bokeh: injecting CSS: https://cdn.pydata.org/bokeh/release/bokeh-widgets-0.12.16.min.css\");\n",
       "      Bokeh.embed.inject_css(\"https://cdn.pydata.org/bokeh/release/bokeh-widgets-0.12.16.min.css\");\n",
       "      console.log(\"Bokeh: injecting CSS: https://cdn.pydata.org/bokeh/release/bokeh-tables-0.12.16.min.css\");\n",
       "      Bokeh.embed.inject_css(\"https://cdn.pydata.org/bokeh/release/bokeh-tables-0.12.16.min.css\");\n",
       "    }\n",
       "  ];\n",
       "\n",
       "  function run_inline_js() {\n",
       "    \n",
       "    if ((root.Bokeh !== undefined) || (force === true)) {\n",
       "      for (var i = 0; i < inline_js.length; i++) {\n",
       "        inline_js[i].call(root, root.Bokeh);\n",
       "      }if (force === true) {\n",
       "        display_loaded();\n",
       "      }} else if (Date.now() < root._bokeh_timeout) {\n",
       "      setTimeout(run_inline_js, 100);\n",
       "    } else if (!root._bokeh_failed_load) {\n",
       "      console.log(\"Bokeh: BokehJS failed to load within specified timeout.\");\n",
       "      root._bokeh_failed_load = true;\n",
       "    } else if (force !== true) {\n",
       "      var cell = $(document.getElementById(\"17af852a-de06-4823-afc9-79512388c310\")).parents('.cell').data().cell;\n",
       "      cell.output_area.append_execute_result(NB_LOAD_WARNING)\n",
       "    }\n",
       "\n",
       "  }\n",
       "\n",
       "  if (root._bokeh_is_loading === 0) {\n",
       "    console.log(\"Bokeh: BokehJS loaded, going straight to plotting\");\n",
       "    run_inline_js();\n",
       "  } else {\n",
       "    load_libs(js_urls, function() {\n",
       "      console.log(\"Bokeh: BokehJS plotting callback run at\", now());\n",
       "      run_inline_js();\n",
       "    });\n",
       "  }\n",
       "}(window));"
      ],
      "application/vnd.bokehjs_load.v0+json": "\n(function(root) {\n  function now() {\n    return new Date();\n  }\n\n  var force = true;\n\n  if (typeof (root._bokeh_onload_callbacks) === \"undefined\" || force === true) {\n    root._bokeh_onload_callbacks = [];\n    root._bokeh_is_loading = undefined;\n  }\n\n  \n\n  \n  if (typeof (root._bokeh_timeout) === \"undefined\" || force === true) {\n    root._bokeh_timeout = Date.now() + 5000;\n    root._bokeh_failed_load = false;\n  }\n\n  var NB_LOAD_WARNING = {'data': {'text/html':\n     \"<div style='background-color: #fdd'>\\n\"+\n     \"<p>\\n\"+\n     \"BokehJS does not appear to have successfully loaded. If loading BokehJS from CDN, this \\n\"+\n     \"may be due to a slow or bad network connection. Possible fixes:\\n\"+\n     \"</p>\\n\"+\n     \"<ul>\\n\"+\n     \"<li>re-rerun `output_notebook()` to attempt to load from CDN again, or</li>\\n\"+\n     \"<li>use INLINE resources instead, as so:</li>\\n\"+\n     \"</ul>\\n\"+\n     \"<code>\\n\"+\n     \"from bokeh.resources import INLINE\\n\"+\n     \"output_notebook(resources=INLINE)\\n\"+\n     \"</code>\\n\"+\n     \"</div>\"}};\n\n  function display_loaded() {\n    var el = document.getElementById(\"17af852a-de06-4823-afc9-79512388c310\");\n    if (el != null) {\n      el.textContent = \"BokehJS is loading...\";\n    }\n    if (root.Bokeh !== undefined) {\n      if (el != null) {\n        el.textContent = \"BokehJS \" + root.Bokeh.version + \" successfully loaded.\";\n      }\n    } else if (Date.now() < root._bokeh_timeout) {\n      setTimeout(display_loaded, 100)\n    }\n  }\n\n\n  function run_callbacks() {\n    try {\n      root._bokeh_onload_callbacks.forEach(function(callback) { callback() });\n    }\n    finally {\n      delete root._bokeh_onload_callbacks\n    }\n    console.info(\"Bokeh: all callbacks have finished\");\n  }\n\n  function load_libs(js_urls, callback) {\n    root._bokeh_onload_callbacks.push(callback);\n    if (root._bokeh_is_loading > 0) {\n      console.log(\"Bokeh: BokehJS is being loaded, scheduling callback at\", now());\n      return null;\n    }\n    if (js_urls == null || js_urls.length === 0) {\n      run_callbacks();\n      return null;\n    }\n    console.log(\"Bokeh: BokehJS not loaded, scheduling load and callback at\", now());\n    root._bokeh_is_loading = js_urls.length;\n    for (var i = 0; i < js_urls.length; i++) {\n      var url = js_urls[i];\n      var s = document.createElement('script');\n      s.src = url;\n      s.async = false;\n      s.onreadystatechange = s.onload = function() {\n        root._bokeh_is_loading--;\n        if (root._bokeh_is_loading === 0) {\n          console.log(\"Bokeh: all BokehJS libraries loaded\");\n          run_callbacks()\n        }\n      };\n      s.onerror = function() {\n        console.warn(\"failed to load library \" + url);\n      };\n      console.log(\"Bokeh: injecting script tag for BokehJS library: \", url);\n      document.getElementsByTagName(\"head\")[0].appendChild(s);\n    }\n  };var element = document.getElementById(\"17af852a-de06-4823-afc9-79512388c310\");\n  if (element == null) {\n    console.log(\"Bokeh: ERROR: autoload.js configured with elementid '17af852a-de06-4823-afc9-79512388c310' but no matching script tag was found. \")\n    return false;\n  }\n\n  var js_urls = [\"https://cdn.pydata.org/bokeh/release/bokeh-0.12.16.min.js\", \"https://cdn.pydata.org/bokeh/release/bokeh-widgets-0.12.16.min.js\", \"https://cdn.pydata.org/bokeh/release/bokeh-tables-0.12.16.min.js\", \"https://cdn.pydata.org/bokeh/release/bokeh-gl-0.12.16.min.js\"];\n\n  var inline_js = [\n    function(Bokeh) {\n      Bokeh.set_log_level(\"info\");\n    },\n    \n    function(Bokeh) {\n      \n    },\n    function(Bokeh) {\n      console.log(\"Bokeh: injecting CSS: https://cdn.pydata.org/bokeh/release/bokeh-0.12.16.min.css\");\n      Bokeh.embed.inject_css(\"https://cdn.pydata.org/bokeh/release/bokeh-0.12.16.min.css\");\n      console.log(\"Bokeh: injecting CSS: https://cdn.pydata.org/bokeh/release/bokeh-widgets-0.12.16.min.css\");\n      Bokeh.embed.inject_css(\"https://cdn.pydata.org/bokeh/release/bokeh-widgets-0.12.16.min.css\");\n      console.log(\"Bokeh: injecting CSS: https://cdn.pydata.org/bokeh/release/bokeh-tables-0.12.16.min.css\");\n      Bokeh.embed.inject_css(\"https://cdn.pydata.org/bokeh/release/bokeh-tables-0.12.16.min.css\");\n    }\n  ];\n\n  function run_inline_js() {\n    \n    if ((root.Bokeh !== undefined) || (force === true)) {\n      for (var i = 0; i < inline_js.length; i++) {\n        inline_js[i].call(root, root.Bokeh);\n      }if (force === true) {\n        display_loaded();\n      }} else if (Date.now() < root._bokeh_timeout) {\n      setTimeout(run_inline_js, 100);\n    } else if (!root._bokeh_failed_load) {\n      console.log(\"Bokeh: BokehJS failed to load within specified timeout.\");\n      root._bokeh_failed_load = true;\n    } else if (force !== true) {\n      var cell = $(document.getElementById(\"17af852a-de06-4823-afc9-79512388c310\")).parents('.cell').data().cell;\n      cell.output_area.append_execute_result(NB_LOAD_WARNING)\n    }\n\n  }\n\n  if (root._bokeh_is_loading === 0) {\n    console.log(\"Bokeh: BokehJS loaded, going straight to plotting\");\n    run_inline_js();\n  } else {\n    load_libs(js_urls, function() {\n      console.log(\"Bokeh: BokehJS plotting callback run at\", now());\n      run_inline_js();\n    });\n  }\n}(window));"
     },
     "metadata": {},
     "output_type": "display_data"
    }
   ],
   "source": [
    "import pandas as pd \n",
    "import numpy as np\n",
    "from Tools import TrateNan, plot_predict\n",
    "\n",
    "from bokeh.io import output_notebook, show\n",
    "from bokeh.layouts import gridplot\n",
    "from bokeh.plotting import figure\n",
    "output_notebook()\n",
    "\n",
    "from sklearn.preprocessing import Imputer, MinMaxScaler\n",
    "from sklearn.model_selection import train_test_split, GridSearchCV,RandomizedSearchCV\n",
    "from sklearn.ensemble import RandomForestRegressor, ExtraTreesRegressor\n",
    "from sklearn.metrics import r2_score, mean_absolute_error\n",
    "from xgboost import XGBRegressor\n",
    "\n",
    "\n",
    "\n",
    "pd.set_option(\"display.max_columns\",600)\n",
    "pd.options.display.float_format = '{:.1f}'.format"
   ]
  },
  {
   "cell_type": "code",
   "execution_count": 2,
   "metadata": {
    "slideshow": {
     "slide_type": "skip"
    }
   },
   "outputs": [],
   "source": [
    "df=pd.read_csv(\"../../../Documentos/Data/Examen/train.csv\")"
   ]
  },
  {
   "cell_type": "code",
   "execution_count": 3,
   "metadata": {},
   "outputs": [
    {
     "data": {
      "text/plain": [
       "(526, 547)"
      ]
     },
     "execution_count": 3,
     "metadata": {},
     "output_type": "execute_result"
    }
   ],
   "source": [
    "df.shape"
   ]
  },
  {
   "cell_type": "code",
   "execution_count": 4,
   "metadata": {},
   "outputs": [],
   "source": [
    "obj=df.target"
   ]
  },
  {
   "cell_type": "code",
   "execution_count": 5,
   "metadata": {},
   "outputs": [],
   "source": [
    "tratenan=TrateNan(df)"
   ]
  },
  {
   "cell_type": "code",
   "execution_count": 6,
   "metadata": {
    "scrolled": false
   },
   "outputs": [
    {
     "name": "stderr",
     "output_type": "stream",
     "text": [
      "Tools.py:234: FutureWarning: Sorting because non-concatenation axis is not aligned. A future version\n",
      "of pandas will change to not sort by default.\n",
      "\n",
      "To accept the future behavior, pass 'sort=True'.\n",
      "\n",
      "To retain the current behavior and silence the warning, pass sort=False\n",
      "\n",
      "  \"Cardinalidad\":[len(ser.value_counts().index)]})])\n"
     ]
    }
   ],
   "source": [
    "del df\n",
    "df=tratenan.df_to_var(tol_car=10,tol_nan=.2).copy()"
   ]
  },
  {
   "cell_type": "code",
   "execution_count": 7,
   "metadata": {},
   "outputs": [],
   "source": [
    "Incremento=lambda l: sum([int(x<y) for x, y in zip(l,l[1:])])\n",
    "Delta=lambda l: np.mean([(x-y) for x, y in zip(l,l[1:])])"
   ]
  },
  {
   "cell_type": "code",
   "execution_count": 8,
   "metadata": {},
   "outputs": [],
   "source": [
    "df[\"Incremento\"]=df[[x for x in df.columns \n",
    "                if \"ventas\" in x]].apply(\n",
    "                Incremento, axis=1)\n",
    "\n",
    "\n",
    "df[\"Delta\"]=df[[x for x in df.columns if \"ventas\" in x]].apply(\n",
    "    Delta, axis=1)"
   ]
  },
  {
   "cell_type": "code",
   "execution_count": 9,
   "metadata": {},
   "outputs": [],
   "source": [
    "df[\"target\"]=obj.copy()"
   ]
  },
  {
   "cell_type": "code",
   "execution_count": 10,
   "metadata": {
    "scrolled": false
   },
   "outputs": [],
   "source": [
    "df.dropna(subset=[\"target\"], inplace=True)\n",
    "df.reset_index(drop=True, inplace=True)"
   ]
  },
  {
   "cell_type": "code",
   "execution_count": 11,
   "metadata": {
    "scrolled": true
   },
   "outputs": [],
   "source": [
    "imputer=Imputer(strategy='mean', axis=0)\n",
    "imputer.fit(df[[x for x in df.columns if \"v_\" in x]])\n",
    "df[[x for x in df.columns if \"v_\" in x]]=pd.DataFrame(imputer.transform(\n",
    "                                         df[[x for x in df.columns if \"v_\" in x]]), \n",
    "                                        columns=[x for x in df.columns if \"v_\" in x])"
   ]
  },
  {
   "cell_type": "code",
   "execution_count": 12,
   "metadata": {},
   "outputs": [],
   "source": [
    "X=df.iloc[:,:-1]\n",
    "y=df[[\"target\"]]"
   ]
  },
  {
   "cell_type": "code",
   "execution_count": 13,
   "metadata": {
    "scrolled": false
   },
   "outputs": [],
   "source": [
    "scx = MinMaxScaler()\n",
    "scy = MinMaxScaler()\n",
    "scx.fit(X)\n",
    "scy.fit(y)\n",
    "Xs = pd.DataFrame(scx.transform(X),columns=X.columns)\n",
    "ys = pd.DataFrame(scy.transform(y))"
   ]
  },
  {
   "cell_type": "code",
   "execution_count": 14,
   "metadata": {},
   "outputs": [
    {
     "name": "stderr",
     "output_type": "stream",
     "text": [
      "/home/comdisde/anaconda2/lib/python2.7/site-packages/sklearn/model_selection/_split.py:2026: FutureWarning: From version 0.21, test_size will always complement train_size unless both are specified.\n",
      "  FutureWarning)\n"
     ]
    }
   ],
   "source": [
    "Xt,Xv,yt,yv = train_test_split(Xs,ys,train_size=0.7, random_state=0)"
   ]
  },
  {
   "cell_type": "code",
   "execution_count": 39,
   "metadata": {},
   "outputs": [
    {
     "name": "stderr",
     "output_type": "stream",
     "text": [
      "/home/comdisde/anaconda2/lib/python2.7/site-packages/ipykernel_launcher.py:2: DataConversionWarning: A column-vector y was passed when a 1d array was expected. Please change the shape of y to (n_samples,), for example using ravel().\n",
      "  \n"
     ]
    },
    {
     "data": {
      "text/plain": [
       "ExtraTreesRegressor(bootstrap=False, criterion='mse', max_depth=None,\n",
       "          max_features='auto', max_leaf_nodes=None,\n",
       "          min_impurity_decrease=0.0, min_impurity_split=None,\n",
       "          min_samples_leaf=1, min_samples_split=2,\n",
       "          min_weight_fraction_leaf=0.0, n_estimators=10, n_jobs=1,\n",
       "          oob_score=False, random_state=None, verbose=0, warm_start=False)"
      ]
     },
     "execution_count": 39,
     "metadata": {},
     "output_type": "execute_result"
    }
   ],
   "source": [
    "model=ExtraTreesRegressor()\n",
    "model.fit(Xt,yt)"
   ]
  },
  {
   "cell_type": "code",
   "execution_count": 40,
   "metadata": {},
   "outputs": [
    {
     "name": "stdout",
     "output_type": "stream",
     "text": [
      "1.0\n",
      "0.324975095007933\n"
     ]
    }
   ],
   "source": [
    "print r2_score(y_pred=model.predict(Xt),y_true=yt)\n",
    "print r2_score(y_pred=model.predict(Xv),y_true=yv)"
   ]
  },
  {
   "cell_type": "code",
   "execution_count": 44,
   "metadata": {},
   "outputs": [],
   "source": [
    "param_grid = dict(n_estimators=range(100,200,10),\n",
    "                  criterion = ['mse','mae'],\n",
    "                  max_depth = range(10,20)\n",
    "                 )"
   ]
  },
  {
   "cell_type": "code",
   "execution_count": 45,
   "metadata": {},
   "outputs": [],
   "source": [
    "grid = RandomizedSearchCV(cv=3,verbose=False,\n",
    "                          estimator=model,\n",
    "                          n_jobs=-1,\n",
    "                          param_distributions=param_grid,\n",
    "                          scoring='r2')"
   ]
  },
  {
   "cell_type": "code",
   "execution_count": 46,
   "metadata": {
    "scrolled": true
   },
   "outputs": [
    {
     "name": "stderr",
     "output_type": "stream",
     "text": [
      "/home/comdisde/anaconda2/lib/python2.7/site-packages/sklearn/model_selection/_validation.py:458: DataConversionWarning: A column-vector y was passed when a 1d array was expected. Please change the shape of y to (n_samples,), for example using ravel().\n",
      "  estimator.fit(X_train, y_train, **fit_params)\n",
      "/home/comdisde/anaconda2/lib/python2.7/site-packages/sklearn/model_selection/_validation.py:458: DataConversionWarning: A column-vector y was passed when a 1d array was expected. Please change the shape of y to (n_samples,), for example using ravel().\n",
      "  estimator.fit(X_train, y_train, **fit_params)\n",
      "/home/comdisde/anaconda2/lib/python2.7/site-packages/sklearn/model_selection/_validation.py:458: DataConversionWarning: A column-vector y was passed when a 1d array was expected. Please change the shape of y to (n_samples,), for example using ravel().\n",
      "  estimator.fit(X_train, y_train, **fit_params)\n",
      "/home/comdisde/anaconda2/lib/python2.7/site-packages/sklearn/model_selection/_validation.py:458: DataConversionWarning: A column-vector y was passed when a 1d array was expected. Please change the shape of y to (n_samples,), for example using ravel().\n",
      "  estimator.fit(X_train, y_train, **fit_params)\n",
      "/home/comdisde/anaconda2/lib/python2.7/site-packages/sklearn/model_selection/_validation.py:458: DataConversionWarning: A column-vector y was passed when a 1d array was expected. Please change the shape of y to (n_samples,), for example using ravel().\n",
      "  estimator.fit(X_train, y_train, **fit_params)\n",
      "/home/comdisde/anaconda2/lib/python2.7/site-packages/sklearn/model_selection/_validation.py:458: DataConversionWarning: A column-vector y was passed when a 1d array was expected. Please change the shape of y to (n_samples,), for example using ravel().\n",
      "  estimator.fit(X_train, y_train, **fit_params)\n",
      "/home/comdisde/anaconda2/lib/python2.7/site-packages/sklearn/model_selection/_validation.py:458: DataConversionWarning: A column-vector y was passed when a 1d array was expected. Please change the shape of y to (n_samples,), for example using ravel().\n",
      "  estimator.fit(X_train, y_train, **fit_params)\n",
      "/home/comdisde/anaconda2/lib/python2.7/site-packages/sklearn/model_selection/_validation.py:458: DataConversionWarning: A column-vector y was passed when a 1d array was expected. Please change the shape of y to (n_samples,), for example using ravel().\n",
      "  estimator.fit(X_train, y_train, **fit_params)\n",
      "/home/comdisde/anaconda2/lib/python2.7/site-packages/sklearn/model_selection/_validation.py:458: DataConversionWarning: A column-vector y was passed when a 1d array was expected. Please change the shape of y to (n_samples,), for example using ravel().\n",
      "  estimator.fit(X_train, y_train, **fit_params)\n",
      "/home/comdisde/anaconda2/lib/python2.7/site-packages/sklearn/model_selection/_validation.py:458: DataConversionWarning: A column-vector y was passed when a 1d array was expected. Please change the shape of y to (n_samples,), for example using ravel().\n",
      "  estimator.fit(X_train, y_train, **fit_params)\n",
      "/home/comdisde/anaconda2/lib/python2.7/site-packages/sklearn/model_selection/_validation.py:458: DataConversionWarning: A column-vector y was passed when a 1d array was expected. Please change the shape of y to (n_samples,), for example using ravel().\n",
      "  estimator.fit(X_train, y_train, **fit_params)\n",
      "/home/comdisde/anaconda2/lib/python2.7/site-packages/sklearn/model_selection/_validation.py:458: DataConversionWarning: A column-vector y was passed when a 1d array was expected. Please change the shape of y to (n_samples,), for example using ravel().\n",
      "  estimator.fit(X_train, y_train, **fit_params)\n",
      "/home/comdisde/anaconda2/lib/python2.7/site-packages/sklearn/model_selection/_validation.py:458: DataConversionWarning: A column-vector y was passed when a 1d array was expected. Please change the shape of y to (n_samples,), for example using ravel().\n",
      "  estimator.fit(X_train, y_train, **fit_params)\n",
      "/home/comdisde/anaconda2/lib/python2.7/site-packages/sklearn/model_selection/_validation.py:458: DataConversionWarning: A column-vector y was passed when a 1d array was expected. Please change the shape of y to (n_samples,), for example using ravel().\n",
      "  estimator.fit(X_train, y_train, **fit_params)\n",
      "/home/comdisde/anaconda2/lib/python2.7/site-packages/sklearn/model_selection/_validation.py:458: DataConversionWarning: A column-vector y was passed when a 1d array was expected. Please change the shape of y to (n_samples,), for example using ravel().\n",
      "  estimator.fit(X_train, y_train, **fit_params)\n",
      "/home/comdisde/anaconda2/lib/python2.7/site-packages/sklearn/model_selection/_validation.py:458: DataConversionWarning: A column-vector y was passed when a 1d array was expected. Please change the shape of y to (n_samples,), for example using ravel().\n",
      "  estimator.fit(X_train, y_train, **fit_params)\n",
      "/home/comdisde/anaconda2/lib/python2.7/site-packages/sklearn/model_selection/_validation.py:458: DataConversionWarning: A column-vector y was passed when a 1d array was expected. Please change the shape of y to (n_samples,), for example using ravel().\n",
      "  estimator.fit(X_train, y_train, **fit_params)\n",
      "/home/comdisde/anaconda2/lib/python2.7/site-packages/sklearn/model_selection/_validation.py:458: DataConversionWarning: A column-vector y was passed when a 1d array was expected. Please change the shape of y to (n_samples,), for example using ravel().\n",
      "  estimator.fit(X_train, y_train, **fit_params)\n",
      "/home/comdisde/anaconda2/lib/python2.7/site-packages/sklearn/model_selection/_validation.py:458: DataConversionWarning: A column-vector y was passed when a 1d array was expected. Please change the shape of y to (n_samples,), for example using ravel().\n",
      "  estimator.fit(X_train, y_train, **fit_params)\n",
      "/home/comdisde/anaconda2/lib/python2.7/site-packages/sklearn/model_selection/_validation.py:458: DataConversionWarning: A column-vector y was passed when a 1d array was expected. Please change the shape of y to (n_samples,), for example using ravel().\n",
      "  estimator.fit(X_train, y_train, **fit_params)\n",
      "/home/comdisde/anaconda2/lib/python2.7/site-packages/sklearn/model_selection/_validation.py:458: DataConversionWarning: A column-vector y was passed when a 1d array was expected. Please change the shape of y to (n_samples,), for example using ravel().\n",
      "  estimator.fit(X_train, y_train, **fit_params)\n",
      "/home/comdisde/anaconda2/lib/python2.7/site-packages/sklearn/model_selection/_validation.py:458: DataConversionWarning: A column-vector y was passed when a 1d array was expected. Please change the shape of y to (n_samples,), for example using ravel().\n",
      "  estimator.fit(X_train, y_train, **fit_params)\n",
      "/home/comdisde/anaconda2/lib/python2.7/site-packages/sklearn/model_selection/_validation.py:458: DataConversionWarning: A column-vector y was passed when a 1d array was expected. Please change the shape of y to (n_samples,), for example using ravel().\n",
      "  estimator.fit(X_train, y_train, **fit_params)\n",
      "/home/comdisde/anaconda2/lib/python2.7/site-packages/sklearn/model_selection/_validation.py:458: DataConversionWarning: A column-vector y was passed when a 1d array was expected. Please change the shape of y to (n_samples,), for example using ravel().\n",
      "  estimator.fit(X_train, y_train, **fit_params)\n",
      "/home/comdisde/anaconda2/lib/python2.7/site-packages/sklearn/model_selection/_validation.py:458: DataConversionWarning: A column-vector y was passed when a 1d array was expected. Please change the shape of y to (n_samples,), for example using ravel().\n",
      "  estimator.fit(X_train, y_train, **fit_params)\n",
      "/home/comdisde/anaconda2/lib/python2.7/site-packages/sklearn/model_selection/_validation.py:458: DataConversionWarning: A column-vector y was passed when a 1d array was expected. Please change the shape of y to (n_samples,), for example using ravel().\n",
      "  estimator.fit(X_train, y_train, **fit_params)\n",
      "/home/comdisde/anaconda2/lib/python2.7/site-packages/sklearn/model_selection/_validation.py:458: DataConversionWarning: A column-vector y was passed when a 1d array was expected. Please change the shape of y to (n_samples,), for example using ravel().\n",
      "  estimator.fit(X_train, y_train, **fit_params)\n",
      "/home/comdisde/anaconda2/lib/python2.7/site-packages/sklearn/model_selection/_validation.py:458: DataConversionWarning: A column-vector y was passed when a 1d array was expected. Please change the shape of y to (n_samples,), for example using ravel().\n",
      "  estimator.fit(X_train, y_train, **fit_params)\n"
     ]
    },
    {
     "name": "stderr",
     "output_type": "stream",
     "text": [
      "/home/comdisde/anaconda2/lib/python2.7/site-packages/sklearn/model_selection/_validation.py:458: DataConversionWarning: A column-vector y was passed when a 1d array was expected. Please change the shape of y to (n_samples,), for example using ravel().\n",
      "  estimator.fit(X_train, y_train, **fit_params)\n",
      "/home/comdisde/anaconda2/lib/python2.7/site-packages/sklearn/model_selection/_validation.py:458: DataConversionWarning: A column-vector y was passed when a 1d array was expected. Please change the shape of y to (n_samples,), for example using ravel().\n",
      "  estimator.fit(X_train, y_train, **fit_params)\n",
      "/home/comdisde/anaconda2/lib/python2.7/site-packages/sklearn/model_selection/_search.py:739: DataConversionWarning: A column-vector y was passed when a 1d array was expected. Please change the shape of y to (n_samples,), for example using ravel().\n",
      "  self.best_estimator_.fit(X, y, **fit_params)\n"
     ]
    }
   ],
   "source": [
    "grid.fit(Xs,ys)\n",
    "model = grid.best_estimator_"
   ]
  },
  {
   "cell_type": "code",
   "execution_count": 47,
   "metadata": {},
   "outputs": [
    {
     "name": "stdout",
     "output_type": "stream",
     "text": [
      "0.9999892180965785\n",
      "0.9999778805242349\n"
     ]
    }
   ],
   "source": [
    "print r2_score(y_pred=model.predict(Xt),y_true=yt)\n",
    "print r2_score(y_pred=model.predict(Xv),y_true=yv)"
   ]
  },
  {
   "cell_type": "code",
   "execution_count": 48,
   "metadata": {},
   "outputs": [
    {
     "data": {
      "text/html": [
       "\n",
       "<div class=\"bk-root\">\n",
       "    <div class=\"bk-plotdiv\" id=\"c53e309f-abd1-4f15-905b-852d16669a98\"></div>\n",
       "</div>"
      ]
     },
     "metadata": {},
     "output_type": "display_data"
    },
    {
     "data": {
      "application/javascript": [
       "(function(root) {\n",
       "  function embed_document(root) {\n",
       "    \n",
       "  var docs_json = {\"a8eef219-0208-48a9-84e1-b1e0689d0d32\":{\"roots\":{\"references\":[{\"attributes\":{\"data_source\":{\"id\":\"fb1d6c0e-d146-48eb-bc53-df4232572155\",\"type\":\"ColumnDataSource\"},\"glyph\":{\"id\":\"0e54467d-65e4-4541-a85a-67d32c4536ff\",\"type\":\"Line\"},\"hover_glyph\":null,\"muted_glyph\":null,\"nonselection_glyph\":{\"id\":\"b2681de2-1f70-4318-b46c-9dc8b45b2725\",\"type\":\"Line\"},\"selection_glyph\":null,\"view\":{\"id\":\"7e5ef695-52ca-4b58-9970-b1149d0b7959\",\"type\":\"CDSView\"}},\"id\":\"458f65de-70cc-4489-9dd2-70211571f026\",\"type\":\"GlyphRenderer\"},{\"attributes\":{},\"id\":\"e1d42d70-014e-4842-b8aa-5d9c9ef2c7d8\",\"type\":\"UnionRenderers\"},{\"attributes\":{\"label\":{\"value\":\"Real\"},\"renderers\":[{\"id\":\"1e2abea9-a7ed-4a0a-af35-1c4c7eb6181f\",\"type\":\"GlyphRenderer\"}]},\"id\":\"0207650a-f7df-4afa-b3e1-b59ed1c6fe37\",\"type\":\"LegendItem\"},{\"attributes\":{\"callback\":null},\"id\":\"1b854e1b-0070-4ce8-a427-043e5653a085\",\"type\":\"DataRange1d\"},{\"attributes\":{},\"id\":\"fdee6d81-8246-4814-a7c9-fdf2fdd063f1\",\"type\":\"BasicTickFormatter\"},{\"attributes\":{\"formatter\":{\"id\":\"772d479e-08f0-4af9-a9c9-dec7a4b7d892\",\"type\":\"BasicTickFormatter\"},\"plot\":{\"id\":\"6282b9af-2a88-4a99-9d17-e2ab0f3045fe\",\"subtype\":\"Figure\",\"type\":\"Plot\"},\"ticker\":{\"id\":\"96e68115-ac57-4429-82b4-841f892511e7\",\"type\":\"BasicTicker\"}},\"id\":\"8791561f-7c4e-4a36-a6dc-36002c3d4f11\",\"type\":\"LinearAxis\"},{\"attributes\":{\"data_source\":{\"id\":\"0dfcdcc9-4376-4805-99c4-99f7b06b11f7\",\"type\":\"ColumnDataSource\"},\"glyph\":{\"id\":\"2568bea6-f39c-4b46-991e-a101a7487c74\",\"type\":\"Line\"},\"hover_glyph\":null,\"muted_glyph\":null,\"nonselection_glyph\":{\"id\":\"c6bf688b-4de3-45e6-ad43-5e630cdd5966\",\"type\":\"Line\"},\"selection_glyph\":null,\"view\":{\"id\":\"805a2102-916b-49a1-9877-40529a42d747\",\"type\":\"CDSView\"}},\"id\":\"1e2abea9-a7ed-4a0a-af35-1c4c7eb6181f\",\"type\":\"GlyphRenderer\"},{\"attributes\":{\"callback\":null},\"id\":\"3131aedf-e99c-41ae-9ebc-b3edc392a757\",\"type\":\"DataRange1d\"},{\"attributes\":{},\"id\":\"df71dd60-a17c-491c-8838-089ede9302b7\",\"type\":\"LinearScale\"},{\"attributes\":{\"callback\":null,\"data\":{\"x\":[3,6,7,8,10,12,14,15,17,18,19,21,25,27,28,30,32,39,41,45,47,53,58,59,67,72,73,79,85,90,92,93,97,98,100,102,105,110,111,113,114,120,121,124,127,128,131,132,133,134,136,137,139,140,142,144,145,146,162,163,172,174,175,176,181,186,188,192,203,204,220,223,224,231,233,234,237,239,241,242,243,244,254,255,262,269,271,275,278,281,282,286,287,292,294,295,296,301,306],\"y\":{\"__ndarray__\":\"fw3lNZTX0D9jQ3kN5TXEP3ckDeduDMQ/Y0N5DeU1xD/lFaqB0jDEP52RDXwFWTg/Y0N5DeU1xD9jQ3kN5TXEP3FDLn0oZFE/Y0N5DeU1xD9jQ3kN5TXEPwJ6q7PcE8Q/Y0N5DeU1xD92pBviRRXEP/4ohVOpGMQ/AuU1lNdQ3j9/DeU1lNfQPwEAAAAAAPA/BfYQ20ZvLj9jQ3kN5TXEP2NDeQ3lNcQ/Y0N5DeU1xD9jQ3kN5TXEP3gor6G8huI/Y0N5DeU1xD94KK+hvIbiP2NDeQ3lNcQ/Mw6bmPqqSz8pZcW7PBY6P9JYCAGMO8Q/tnWpyHwvxD9jQ3kN5TXEPzUH4FBGb2c/Jn/CO0kuxD8+IPXknsRSP+UVqoHSMMQ/Y0N5DeU1xD8F9hDbRm8uPzUwMDAwMMQ/UAbLdFTIQz9jQ3kN5TXEP2NDeQ3lNcQ/ZTN3O5vewz8CCQpuqgPEP2NDeQ3lNcQ/Y0N5DeU1xD+IYmDrxynEPwLlNZTXUN4/k5cbrSPQ0D8elNdQXkPpP3vNNsEgM8Q/nZENfAVZOD9jQ3kN5TXEP2NDeQ3lNcQ/Y0N5DeU1xD+dkQ18BVk4P2NDeQ3lNcQ/eCivobyG4j9jQ3kN5TXEP2NDeQ3lNcQ/e802wSAzxD/eftKswMJnP38N5TWU19A/Y0N5DeU1xD9jQ3kN5TXEP52RDXwFWTg/Qqw6+TItxD8C5TWU11DePzvtOyVFIMQ/fw3lNZTX0D9jQ3kN5TXEP38N5TWU19A/Y0N5DeU1xD+DYGktAibEP52RDXwFWTg/BfYQ20ZvPj/+8LWYdTNwP0KsOvkyLcQ/HpTXUF5D6T+q9lSYER/EP38N5TWU19A/8gGzB8wexD9jQ3kN5TXEP2NDeQ3lNcQ/Y0N5DeU1xD9+fGdLqTvEPwX2ENtGby4/Y0N5DeU1xD9jQ3kN5TXEP2NDeQ3lNcQ/3VGYvIcsxD97zTbBIDPEP2NDeQ3lNcQ/mc7iFv4XxD9jQ3kN5TXEP2NDeQ3lNcQ/Y0N5DeU1xD9jQ3kN5TXEP2NDeQ3lNcQ/\",\"dtype\":\"float64\",\"shape\":[99]}},\"selected\":{\"id\":\"f8f56b75-4c0b-4fd2-a860-c6e496c57e3d\",\"type\":\"Selection\"},\"selection_policy\":{\"id\":\"929864e5-a1dc-439c-946c-5165bd03c9a5\",\"type\":\"UnionRenderers\"}},\"id\":\"e78befc7-dc5b-4330-bff2-09b34c494c54\",\"type\":\"ColumnDataSource\"},{\"attributes\":{},\"id\":\"f8f56b75-4c0b-4fd2-a860-c6e496c57e3d\",\"type\":\"Selection\"},{\"attributes\":{\"source\":{\"id\":\"fb1d6c0e-d146-48eb-bc53-df4232572155\",\"type\":\"ColumnDataSource\"}},\"id\":\"7e5ef695-52ca-4b58-9970-b1149d0b7959\",\"type\":\"CDSView\"},{\"attributes\":{\"overlay\":{\"id\":\"e9060d91-f2a0-44d0-b143-40e9062e8d10\",\"type\":\"BoxAnnotation\"}},\"id\":\"e439035f-3416-4197-872f-7152eee6bd9f\",\"type\":\"BoxZoomTool\"},{\"attributes\":{},\"id\":\"2e7f704d-0893-495f-a499-056994a7a2ce\",\"type\":\"BasicTicker\"},{\"attributes\":{},\"id\":\"c65c6947-211d-44c9-a5e1-7faad7fd1add\",\"type\":\"HelpTool\"},{\"attributes\":{\"source\":{\"id\":\"0dfcdcc9-4376-4805-99c4-99f7b06b11f7\",\"type\":\"ColumnDataSource\"}},\"id\":\"805a2102-916b-49a1-9877-40529a42d747\",\"type\":\"CDSView\"},{\"attributes\":{\"dimension\":1,\"plot\":{\"id\":\"6282b9af-2a88-4a99-9d17-e2ab0f3045fe\",\"subtype\":\"Figure\",\"type\":\"Plot\"},\"ticker\":{\"id\":\"2e7f704d-0893-495f-a499-056994a7a2ce\",\"type\":\"BasicTicker\"}},\"id\":\"a634054f-6db8-40aa-8970-c85886492bc7\",\"type\":\"Grid\"},{\"attributes\":{\"align\":\"center\",\"plot\":null,\"text\":\"Train\",\"text_font_size\":{\"value\":\"20pt\"}},\"id\":\"5fac0ece-f02a-4013-a908-84fd9443e519\",\"type\":\"Title\"},{\"attributes\":{},\"id\":\"3c6088c4-9d87-4aca-ba83-68424e725299\",\"type\":\"PanTool\"},{\"attributes\":{},\"id\":\"929864e5-a1dc-439c-946c-5165bd03c9a5\",\"type\":\"UnionRenderers\"},{\"attributes\":{\"line_alpha\":0.1,\"line_color\":\"#1f77b4\",\"line_width\":3,\"x\":{\"field\":\"x\"},\"y\":{\"field\":\"y\"}},\"id\":\"c6bf688b-4de3-45e6-ad43-5e630cdd5966\",\"type\":\"Line\"},{\"attributes\":{\"fill_alpha\":{\"value\":0.6},\"fill_color\":{\"value\":\"rgb(100, 191, 163)\"},\"line_alpha\":{\"value\":0.6},\"line_color\":{\"value\":\"rgb(100, 191, 163)\"},\"size\":{\"units\":\"screen\",\"value\":9},\"x\":{\"field\":\"x\"},\"y\":{\"field\":\"y\"}},\"id\":\"58eb92fa-d6b8-4de0-84e4-3b797f298e04\",\"type\":\"Circle\"},{\"attributes\":{},\"id\":\"96e68115-ac57-4429-82b4-841f892511e7\",\"type\":\"BasicTicker\"},{\"attributes\":{},\"id\":\"7ae3d702-3566-45ee-9d00-eb5264829ce0\",\"type\":\"LinearScale\"},{\"attributes\":{\"callback\":null,\"data\":{\"x\":[0,1,2,3,4,5,6,7,8,9,10,11,12,13,14,15,16,17,18,19,20,21,22,23,24,25,26,27,28,29,30,31,32,33,34,35,36,37,38,39,40,41,42,43,44,45,46,47,48,49,50,51,52,53,54,55,56,57,58,59,60,61,62,63,64,65,66,67,68,69,70,71,72,73,74,75,76,77,78,79,80,81,82,83,84,85,86,87,88,89,90,91,92,93,94,95,96,97,98,99,100,101,102,103,104,105,106,107,108,109,110,111,112,113,114,115,116,117,118,119,120,121,122,123,124,125,126,127,128,129,130,131,132,133,134,135,136,137,138,139,140,141,142,143,144,145,146,147,148,149,150,151,152,153,154,155,156,157,158,159,160,161,162,163,164,165,166,167,168,169,170,171,172,173,174,175,176,177,178,179,180,181,182,183,184,185,186,187,188,189,190,191,192,193,194,195,196,197,198,199,200,201,202,203,204,205,206,207,208,209,210,211,212,213,214,215,216,217,218,219,220,221,222,223,224,225,226,227,228,229,230,231,232,233,234,235,236,237,238,239,240,241,242,243,244,245,246,247,248,249,250,251,252,253,254,255,256,257,258,259,260,261,262,263,264,265,266,267,268,269,270,271,272,273,274,275,276,277,278,279,280,281,282,283,284,285,286,287,288,289,290,291,292,293,294,295,296,297,298,299,300,301,302,303,304,305,306,307,308,309,310,311,312,313,314],\"y\":{\"__ndarray__\":\"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\",\"dtype\":\"float64\",\"shape\":[315]}},\"selected\":{\"id\":\"f9cc114d-15e9-4fef-a181-b1b58282615c\",\"type\":\"Selection\"},\"selection_policy\":{\"id\":\"e1d42d70-014e-4842-b8aa-5d9c9ef2c7d8\",\"type\":\"UnionRenderers\"}},\"id\":\"49c64832-3455-46c3-849d-268cd6664e91\",\"type\":\"ColumnDataSource\"},{\"attributes\":{},\"id\":\"f9cc114d-15e9-4fef-a181-b1b58282615c\",\"type\":\"Selection\"},{\"attributes\":{\"formatter\":{\"id\":\"fdee6d81-8246-4814-a7c9-fdf2fdd063f1\",\"type\":\"BasicTickFormatter\"},\"plot\":{\"id\":\"6282b9af-2a88-4a99-9d17-e2ab0f3045fe\",\"subtype\":\"Figure\",\"type\":\"Plot\"},\"ticker\":{\"id\":\"2e7f704d-0893-495f-a499-056994a7a2ce\",\"type\":\"BasicTicker\"}},\"id\":\"405d17b5-eac5-4584-80f2-ea4d9fe131e6\",\"type\":\"LinearAxis\"},{\"attributes\":{\"line_alpha\":0.1,\"line_color\":\"#1f77b4\",\"line_width\":2,\"x\":{\"field\":\"x\"},\"y\":{\"field\":\"y\"}},\"id\":\"b2681de2-1f70-4318-b46c-9dc8b45b2725\",\"type\":\"Line\"},{\"attributes\":{\"fill_alpha\":{\"value\":0.1},\"fill_color\":{\"value\":\"#1f77b4\"},\"line_alpha\":{\"value\":0.1},\"line_color\":{\"value\":\"#1f77b4\"},\"size\":{\"units\":\"screen\",\"value\":9},\"x\":{\"field\":\"x\"},\"y\":{\"field\":\"y\"}},\"id\":\"8f585d99-a0f0-4873-b3d3-74f15c92075a\",\"type\":\"Circle\"},{\"attributes\":{\"active_drag\":\"auto\",\"active_inspect\":\"auto\",\"active_scroll\":\"auto\",\"active_tap\":\"auto\",\"tools\":[{\"id\":\"3c6088c4-9d87-4aca-ba83-68424e725299\",\"type\":\"PanTool\"},{\"id\":\"d3397b60-1e5f-4200-be4b-dd367eda154d\",\"type\":\"WheelZoomTool\"},{\"id\":\"e439035f-3416-4197-872f-7152eee6bd9f\",\"type\":\"BoxZoomTool\"},{\"id\":\"73b0caf3-bd1b-4727-af6f-c0b32f0ccd73\",\"type\":\"SaveTool\"},{\"id\":\"d91a103a-5bf5-485b-b2b1-4bd91c214019\",\"type\":\"ResetTool\"},{\"id\":\"c65c6947-211d-44c9-a5e1-7faad7fd1add\",\"type\":\"HelpTool\"}]},\"id\":\"6dbc3d46-33d6-4f21-a9fd-c223ca481115\",\"type\":\"Toolbar\"},{\"attributes\":{\"callback\":null,\"data\":{\"x\":[0,1,2,3,4,5,6,7,8,9,10,11,12,13,14,15,16,17,18,19,20,21,22,23,24,25,26,27,28,29,30,31,32,33,34,35,36,37,38,39,40,41,42,43,44,45,46,47,48,49,50,51,52,53,54,55,56,57,58,59,60,61,62,63,64,65,66,67,68,69,70,71,72,73,74,75,76,77,78,79,80,81,82,83,84,85,86,87,88,89,90,91,92,93,94,95,96,97,98,99,100,101,102,103,104,105,106,107,108,109,110,111,112,113,114,115,116,117,118,119,120,121,122,123,124,125,126,127,128,129,130,131,132,133,134,135,136,137,138,139,140,141,142,143,144,145,146,147,148,149,150,151,152,153,154,155,156,157,158,159,160,161,162,163,164,165,166,167,168,169,170,171,172,173,174,175,176,177,178,179,180,181,182,183,184,185,186,187,188,189,190,191,192,193,194,195,196,197,198,199,200,201,202,203,204,205,206,207,208,209,210,211,212,213,214,215,216,217,218,219,220,221,222,223,224,225,226,227,228,229,230,231,232,233,234,235,236,237,238,239,240,241,242,243,244,245,246,247,248,249,250,251,252,253,254,255,256,257,258,259,260,261,262,263,264,265,266,267,268,269,270,271,272,273,274,275,276,277,278,279,280,281,282,283,284,285,286,287,288,289,290,291,292,293,294,295,296,297,298,299,300,301,302,303,304,305,306,307,308,309,310,311,312,313,314],\"y\":{\"__ndarray__\":\"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\",\"dtype\":\"float64\",\"shape\":[315]}},\"selected\":{\"id\":\"b433c611-a80c-44e4-87b9-cd3fc3f7fc94\",\"type\":\"Selection\"},\"selection_policy\":{\"id\":\"12099d4c-0493-45b5-9312-fc4babc6637f\",\"type\":\"UnionRenderers\"}},\"id\":\"fb1d6c0e-d146-48eb-bc53-df4232572155\",\"type\":\"ColumnDataSource\"},{\"attributes\":{\"line_color\":\"rgb(249, 139, 96)\",\"line_width\":2,\"x\":{\"field\":\"x\"},\"y\":{\"field\":\"y\"}},\"id\":\"0e54467d-65e4-4541-a85a-67d32c4536ff\",\"type\":\"Line\"},{\"attributes\":{},\"id\":\"d91a103a-5bf5-485b-b2b1-4bd91c214019\",\"type\":\"ResetTool\"},{\"attributes\":{},\"id\":\"b433c611-a80c-44e4-87b9-cd3fc3f7fc94\",\"type\":\"Selection\"},{\"attributes\":{},\"id\":\"12099d4c-0493-45b5-9312-fc4babc6637f\",\"type\":\"UnionRenderers\"},{\"attributes\":{},\"id\":\"772d479e-08f0-4af9-a9c9-dec7a4b7d892\",\"type\":\"BasicTickFormatter\"},{\"attributes\":{\"label\":{\"value\":\"Predicci\\u00f3n\"},\"renderers\":[{\"id\":\"458f65de-70cc-4489-9dd2-70211571f026\",\"type\":\"GlyphRenderer\"}]},\"id\":\"51251ce3-8108-46ac-a835-8c692624013b\",\"type\":\"LegendItem\"},{\"attributes\":{},\"id\":\"73b0caf3-bd1b-4727-af6f-c0b32f0ccd73\",\"type\":\"SaveTool\"},{\"attributes\":{\"line_color\":\"rgb(100, 191, 163)\",\"line_width\":3,\"x\":{\"field\":\"x\"},\"y\":{\"field\":\"y\"}},\"id\":\"2568bea6-f39c-4b46-991e-a101a7487c74\",\"type\":\"Line\"},{\"attributes\":{\"source\":{\"id\":\"49c64832-3455-46c3-849d-268cd6664e91\",\"type\":\"ColumnDataSource\"}},\"id\":\"271b5568-d4f9-4e82-9bc0-fbf0e399c1da\",\"type\":\"CDSView\"},{\"attributes\":{},\"id\":\"ed15bda7-9c8c-4e53-ace4-2fc816c36a3d\",\"type\":\"Selection\"},{\"attributes\":{\"below\":[{\"id\":\"8791561f-7c4e-4a36-a6dc-36002c3d4f11\",\"type\":\"LinearAxis\"}],\"left\":[{\"id\":\"405d17b5-eac5-4584-80f2-ea4d9fe131e6\",\"type\":\"LinearAxis\"}],\"plot_height\":400,\"plot_width\":980,\"renderers\":[{\"id\":\"8791561f-7c4e-4a36-a6dc-36002c3d4f11\",\"type\":\"LinearAxis\"},{\"id\":\"94879fc0-4bd4-4ea7-a5ae-fa48ca80d45f\",\"type\":\"Grid\"},{\"id\":\"405d17b5-eac5-4584-80f2-ea4d9fe131e6\",\"type\":\"LinearAxis\"},{\"id\":\"a634054f-6db8-40aa-8970-c85886492bc7\",\"type\":\"Grid\"},{\"id\":\"e9060d91-f2a0-44d0-b143-40e9062e8d10\",\"type\":\"BoxAnnotation\"},{\"id\":\"8a62e325-5c24-42b9-9482-954faa7f771b\",\"type\":\"Legend\"},{\"id\":\"1e2abea9-a7ed-4a0a-af35-1c4c7eb6181f\",\"type\":\"GlyphRenderer\"},{\"id\":\"d546cd72-69dc-46ad-a59f-2b85f2bdc4de\",\"type\":\"GlyphRenderer\"},{\"id\":\"458f65de-70cc-4489-9dd2-70211571f026\",\"type\":\"GlyphRenderer\"},{\"id\":\"7719ded6-fe06-4a9a-b10b-538a610dd643\",\"type\":\"GlyphRenderer\"}],\"title\":{\"id\":\"5fac0ece-f02a-4013-a908-84fd9443e519\",\"type\":\"Title\"},\"toolbar\":{\"id\":\"6dbc3d46-33d6-4f21-a9fd-c223ca481115\",\"type\":\"Toolbar\"},\"x_range\":{\"id\":\"1b854e1b-0070-4ce8-a427-043e5653a085\",\"type\":\"DataRange1d\"},\"x_scale\":{\"id\":\"7ae3d702-3566-45ee-9d00-eb5264829ce0\",\"type\":\"LinearScale\"},\"y_range\":{\"id\":\"3131aedf-e99c-41ae-9ebc-b3edc392a757\",\"type\":\"DataRange1d\"},\"y_scale\":{\"id\":\"df71dd60-a17c-491c-8838-089ede9302b7\",\"type\":\"LinearScale\"}},\"id\":\"6282b9af-2a88-4a99-9d17-e2ab0f3045fe\",\"subtype\":\"Figure\",\"type\":\"Plot\"},{\"attributes\":{\"bottom_units\":\"screen\",\"fill_alpha\":{\"value\":0.5},\"fill_color\":{\"value\":\"lightgrey\"},\"left_units\":\"screen\",\"level\":\"overlay\",\"line_alpha\":{\"value\":1.0},\"line_color\":{\"value\":\"black\"},\"line_dash\":[4,4],\"line_width\":{\"value\":2},\"plot\":null,\"render_mode\":\"css\",\"right_units\":\"screen\",\"top_units\":\"screen\"},\"id\":\"e9060d91-f2a0-44d0-b143-40e9062e8d10\",\"type\":\"BoxAnnotation\"},{\"attributes\":{\"fill_alpha\":{\"value\":0.1},\"fill_color\":{\"value\":\"#1f77b4\"},\"line_alpha\":{\"value\":0.1},\"line_color\":{\"value\":\"#1f77b4\"},\"size\":{\"units\":\"screen\",\"value\":9},\"x\":{\"field\":\"x\"},\"y\":{\"field\":\"y\"}},\"id\":\"b52d695d-c153-4c20-ab1d-b0818964308c\",\"type\":\"Circle\"},{\"attributes\":{},\"id\":\"d3397b60-1e5f-4200-be4b-dd367eda154d\",\"type\":\"WheelZoomTool\"},{\"attributes\":{\"data_source\":{\"id\":\"e78befc7-dc5b-4330-bff2-09b34c494c54\",\"type\":\"ColumnDataSource\"},\"glyph\":{\"id\":\"4ffc70e6-2e02-418b-8757-f331b69fdcae\",\"type\":\"Circle\"},\"hover_glyph\":null,\"muted_glyph\":null,\"nonselection_glyph\":{\"id\":\"8f585d99-a0f0-4873-b3d3-74f15c92075a\",\"type\":\"Circle\"},\"selection_glyph\":null,\"view\":{\"id\":\"38893a17-7a03-4a6c-b79e-bd72b6b252da\",\"type\":\"CDSView\"}},\"id\":\"7719ded6-fe06-4a9a-b10b-538a610dd643\",\"type\":\"GlyphRenderer\"},{\"attributes\":{\"source\":{\"id\":\"e78befc7-dc5b-4330-bff2-09b34c494c54\",\"type\":\"ColumnDataSource\"}},\"id\":\"38893a17-7a03-4a6c-b79e-bd72b6b252da\",\"type\":\"CDSView\"},{\"attributes\":{\"items\":[{\"id\":\"0207650a-f7df-4afa-b3e1-b59ed1c6fe37\",\"type\":\"LegendItem\"},{\"id\":\"51251ce3-8108-46ac-a835-8c692624013b\",\"type\":\"LegendItem\"}],\"plot\":{\"id\":\"6282b9af-2a88-4a99-9d17-e2ab0f3045fe\",\"subtype\":\"Figure\",\"type\":\"Plot\"}},\"id\":\"8a62e325-5c24-42b9-9482-954faa7f771b\",\"type\":\"Legend\"},{\"attributes\":{\"data_source\":{\"id\":\"49c64832-3455-46c3-849d-268cd6664e91\",\"type\":\"ColumnDataSource\"},\"glyph\":{\"id\":\"58eb92fa-d6b8-4de0-84e4-3b797f298e04\",\"type\":\"Circle\"},\"hover_glyph\":null,\"muted_glyph\":null,\"nonselection_glyph\":{\"id\":\"b52d695d-c153-4c20-ab1d-b0818964308c\",\"type\":\"Circle\"},\"selection_glyph\":null,\"view\":{\"id\":\"271b5568-d4f9-4e82-9bc0-fbf0e399c1da\",\"type\":\"CDSView\"}},\"id\":\"d546cd72-69dc-46ad-a59f-2b85f2bdc4de\",\"type\":\"GlyphRenderer\"},{\"attributes\":{\"plot\":{\"id\":\"6282b9af-2a88-4a99-9d17-e2ab0f3045fe\",\"subtype\":\"Figure\",\"type\":\"Plot\"},\"ticker\":{\"id\":\"96e68115-ac57-4429-82b4-841f892511e7\",\"type\":\"BasicTicker\"}},\"id\":\"94879fc0-4bd4-4ea7-a5ae-fa48ca80d45f\",\"type\":\"Grid\"},{\"attributes\":{\"callback\":null,\"data\":{\"x\":[0,1,2,3,4,5,6,7,8,9,10,11,12,13,14,15,16,17,18,19,20,21,22,23,24,25,26,27,28,29,30,31,32,33,34,35,36,37,38,39,40,41,42,43,44,45,46,47,48,49,50,51,52,53,54,55,56,57,58,59,60,61,62,63,64,65,66,67,68,69,70,71,72,73,74,75,76,77,78,79,80,81,82,83,84,85,86,87,88,89,90,91,92,93,94,95,96,97,98,99,100,101,102,103,104,105,106,107,108,109,110,111,112,113,114,115,116,117,118,119,120,121,122,123,124,125,126,127,128,129,130,131,132,133,134,135,136,137,138,139,140,141,142,143,144,145,146,147,148,149,150,151,152,153,154,155,156,157,158,159,160,161,162,163,164,165,166,167,168,169,170,171,172,173,174,175,176,177,178,179,180,181,182,183,184,185,186,187,188,189,190,191,192,193,194,195,196,197,198,199,200,201,202,203,204,205,206,207,208,209,210,211,212,213,214,215,216,217,218,219,220,221,222,223,224,225,226,227,228,229,230,231,232,233,234,235,236,237,238,239,240,241,242,243,244,245,246,247,248,249,250,251,252,253,254,255,256,257,258,259,260,261,262,263,264,265,266,267,268,269,270,271,272,273,274,275,276,277,278,279,280,281,282,283,284,285,286,287,288,289,290,291,292,293,294,295,296,297,298,299,300,301,302,303,304,305,306,307,308,309,310,311,312,313,314],\"y\":{\"__ndarray__\":\"AAAAAAAAAAAAAAAAAAAAAAAAAAAAAAAAeg3lNZTX0D8AAAAAAAAAAAAAAAAAAAAAX0N5DeU1xD9fQ3kN5TXEP19DeQ3lNcQ/AAAAAAAAAABfQ3kN5TXEPwAAAAAAAAAAAAAAAAAAAAAAAAAAAAAAAF9DeQ3lNcQ/X0N5DeU1xD8AAAAAAAAAAAAAAAAAAAAAX0N5DeU1xD9fQ3kN5TXEPwAAAAAAAAAAX0N5DeU1xD8AAAAAAAAAAAAAAAAAAAAAAAAAAAAAAABfQ3kN5TXEPwAAAAAAAAAAX0N5DeU1xD9fQ3kN5TXEPwAAAAAAAAAAD+U1lNdQ3j8AAAAAAAAAAHoN5TWU19A/AAAAAAAAAAAAAAAAAAAAAAAAAAAAAAAAAAAAAAAAAAAAAAAAAAAAAAAAAAAAAAAAAQAAAAAA8D8AAAAAAAAAAAAAAAAAAAAAAAAAAAAAAAAAAAAAAAAAAAAAAAAAAAAAX0N5DeU1xD8AAAAAAAAAAF9DeQ3lNcQ/AAAAAAAAAAAAAAAAAAAAAAAAAAAAAAAAAAAAAAAAAAAAAAAAAAAAAF9DeQ3lNcQ/AAAAAAAAAAAAAAAAAAAAAAAAAAAAAAAAAAAAAAAAAABfQ3kN5TXEP2wor6G8huI/AAAAAAAAAAAAAAAAAAAAAAAAAAAAAAAAAAAAAAAAAAAAAAAAAAAAAAAAAAAAAAAAAAAAAAAAAABfQ3kN5TXEPwAAAAAAAAAAAAAAAAAAAAAAAAAAAAAAAAAAAAAAAAAAbCivobyG4j9fQ3kN5TXEPwAAAAAAAAAAAAAAAAAAAAAAAAAAAAAAAAAAAAAAAAAAAAAAAAAAAAAAAAAAAAAAAAAAAAAAAAAAAAAAAAAAAAAAAAAAAAAAAAAAAAAAAAAAAAAAAAAAAAAAAAAAAAAAAAAAAAAAAAAAAAAAAAAAAAAAAAAAAAAAAAAAAAAAAAAAX0N5DeU1xD8AAAAAAAAAAF9DeQ3lNcQ/X0N5DeU1xD8AAAAAAAAAAAAAAAAAAAAAAAAAAAAAAAAAAAAAAAAAAF9DeQ3lNcQ/AAAAAAAAAAAAAAAAAAAAAAAAAAAAAAAAX0N5DeU1xD8AAAAAAAAAAAAAAAAAAAAAX0N5DeU1xD8AAAAAAAAAAAAAAAAAAAAAAAAAAAAAAAAAAAAAAAAAAAAAAAAAAAAAX0N5DeU1xD8AAAAAAAAAAAAAAAAAAAAAX0N5DeU1xD8AAAAAAAAAAAAAAAAAAAAAAAAAAAAAAAAAAAAAAAAAAAAAAAAAAAAAX0N5DeU1xD9fQ3kN5TXEPwAAAAAAAAAAAAAAAAAAAABfQ3kN5TXEPwAAAAAAAAAAAAAAAAAAAABfQ3kN5TXEP19DeQ3lNcQ/AAAAAAAAAAAAAAAAAAAAAF9DeQ3lNcQ/D+U1lNdQ3j96DeU1lNfQPzaU11BeQ+k/AAAAAAAAAABfQ3kN5TXEPwAAAAAAAAAAAAAAAAAAAABfQ3kN5TXEP19DeQ3lNcQ/AAAAAAAAAABfQ3kN5TXEPwAAAAAAAAAAAAAAAAAAAABfQ3kN5TXEP2wor6G8huI/AAAAAAAAAAAAAAAAAAAAAAAAAAAAAAAAAAAAAAAAAAAAAAAAAAAAAAAAAAAAAAAAAAAAAAAAAAAAAAAAAAAAAAAAAAAAAAAAAAAAAAAAAAAAAAAAAAAAAAAAAAAAAAAAAAAAAAAAAAAAAAAAAAAAAAAAAAAAAAAAX0N5DeU1xD9fQ3kN5TXEPwAAAAAAAAAAAAAAAAAAAAAAAAAAAAAAAAAAAAAAAAAAAAAAAAAAAAAAAAAAAAAAAAAAAAAAAAAAAAAAAAAAAABfQ3kN5TXEPwAAAAAAAAAAAAAAAAAAAAB6DeU1lNfQP19DeQ3lNcQ/AAAAAAAAAAAAAAAAAAAAAAAAAAAAAAAAAAAAAAAAAABfQ3kN5TXEPwAAAAAAAAAAAAAAAAAAAAAAAAAAAAAAAAAAAAAAAAAAAAAAAAAAAAAAAAAAAAAAAF9DeQ3lNcQ/AAAAAAAAAAAAAAAAAAAAAAAAAAAAAAAAD+U1lNdQ3j8AAAAAAAAAAAAAAAAAAAAAAAAAAAAAAAAAAAAAAAAAAAAAAAAAAAAAAAAAAAAAAAAAAAAAAAAAAAAAAAAAAAAAAAAAAAAAAAAAAAAAAAAAAF9DeQ3lNcQ/eg3lNZTX0D8AAAAAAAAAAAAAAAAAAAAAAAAAAAAAAAAAAAAAAAAAAAAAAAAAAAAAAAAAAAAAAAAAAAAAAAAAAAAAAAAAAAAAAAAAAAAAAAAAAAAAAAAAAAAAAAAAAAAAAAAAAAAAAAAAAAAAAAAAAAAAAAAAAAAAAAAAAAAAAABfQ3kN5TXEPwAAAAAAAAAAAAAAAAAAAAB6DeU1lNfQP19DeQ3lNcQ/AAAAAAAAAAAAAAAAAAAAAAAAAAAAAAAAAAAAAAAAAAAAAAAAAAAAAAAAAAAAAAAAX0N5DeU1xD8AAAAAAAAAAAAAAAAAAAAAAAAAAAAAAAAAAAAAAAAAAAAAAAAAAAAAAAAAAAAAAAAAAAAAAAAAAF9DeQ3lNcQ/AAAAAAAAAAA2lNdQXkPpP19DeQ3lNcQ/eg3lNZTX0D9fQ3kN5TXEPwAAAAAAAAAAAAAAAAAAAAAAAAAAAAAAAAAAAAAAAAAAAAAAAAAAAAAAAAAAAAAAAAAAAAAAAAAAAAAAAAAAAAAAAAAAAAAAAF9DeQ3lNcQ/X0N5DeU1xD8AAAAAAAAAAAAAAAAAAAAAAAAAAAAAAAAAAAAAAAAAAAAAAAAAAAAAAAAAAAAAAABfQ3kN5TXEPwAAAAAAAAAAAAAAAAAAAAAAAAAAAAAAAAAAAAAAAAAAAAAAAAAAAAAAAAAAAAAAAF9DeQ3lNcQ/AAAAAAAAAAAAAAAAAAAAAAAAAAAAAAAAAAAAAAAAAAAAAAAAAAAAAF9DeQ3lNcQ/AAAAAAAAAAAAAAAAAAAAAF9DeQ3lNcQ/AAAAAAAAAAAAAAAAAAAAAF9DeQ3lNcQ/X0N5DeU1xD8AAAAAAAAAAAAAAAAAAAAAAAAAAAAAAABfQ3kN5TXEP19DeQ3lNcQ/AAAAAAAAAAAAAAAAAAAAAAAAAAAAAAAAAAAAAAAAAABfQ3kN5TXEPwAAAAAAAAAAX0N5DeU1xD9fQ3kN5TXEP19DeQ3lNcQ/AAAAAAAAAAAAAAAAAAAAAAAAAAAAAAAAAAAAAAAAAABfQ3kN5TXEPwAAAAAAAAAAAAAAAAAAAAAAAAAAAAAAAAAAAAAAAAAAX0N5DeU1xD8AAAAAAAAAAAAAAAAAAAAAAAAAAAAAAAAAAAAAAAAAAAAAAAAAAAAAAAAAAAAAAAAAAAAAAAAAAAAAAAAAAAAA\",\"dtype\":\"float64\",\"shape\":[315]}},\"selected\":{\"id\":\"ed15bda7-9c8c-4e53-ace4-2fc816c36a3d\",\"type\":\"Selection\"},\"selection_policy\":{\"id\":\"1b28fefd-7f79-4234-afa7-9eab864b1ec9\",\"type\":\"UnionRenderers\"}},\"id\":\"0dfcdcc9-4376-4805-99c4-99f7b06b11f7\",\"type\":\"ColumnDataSource\"},{\"attributes\":{},\"id\":\"1b28fefd-7f79-4234-afa7-9eab864b1ec9\",\"type\":\"UnionRenderers\"},{\"attributes\":{\"fill_alpha\":{\"value\":0.4},\"fill_color\":{\"value\":\"rgb(249, 139, 96)\"},\"line_alpha\":{\"value\":0.4},\"line_color\":{\"value\":\"rgb(249, 139, 96)\"},\"size\":{\"units\":\"screen\",\"value\":9},\"x\":{\"field\":\"x\"},\"y\":{\"field\":\"y\"}},\"id\":\"4ffc70e6-2e02-418b-8757-f331b69fdcae\",\"type\":\"Circle\"}],\"root_ids\":[\"6282b9af-2a88-4a99-9d17-e2ab0f3045fe\"]},\"title\":\"Bokeh Application\",\"version\":\"0.12.16\"}};\n",
       "  var render_items = [{\"docid\":\"a8eef219-0208-48a9-84e1-b1e0689d0d32\",\"elementid\":\"c53e309f-abd1-4f15-905b-852d16669a98\",\"modelid\":\"6282b9af-2a88-4a99-9d17-e2ab0f3045fe\"}];\n",
       "  root.Bokeh.embed.embed_items_notebook(docs_json, render_items);\n",
       "\n",
       "  }\n",
       "  if (root.Bokeh !== undefined) {\n",
       "    embed_document(root);\n",
       "  } else {\n",
       "    var attempts = 0;\n",
       "    var timer = setInterval(function(root) {\n",
       "      if (root.Bokeh !== undefined) {\n",
       "        embed_document(root);\n",
       "        clearInterval(timer);\n",
       "      }\n",
       "      attempts++;\n",
       "      if (attempts > 100) {\n",
       "        console.log(\"Bokeh: ERROR: Unable to run BokehJS code because BokehJS library is missing\")\n",
       "        clearInterval(timer);\n",
       "      }\n",
       "    }, 10, root)\n",
       "  }\n",
       "})(window);"
      ],
      "application/vnd.bokehjs_exec.v0+json": ""
     },
     "metadata": {
      "application/vnd.bokehjs_exec.v0+json": {
       "id": "6282b9af-2a88-4a99-9d17-e2ab0f3045fe"
      }
     },
     "output_type": "display_data"
    }
   ],
   "source": [
    "p = figure(plot_width=980, plot_height=400, title=\"Train\")\n",
    "p.title.text_font_size = '20pt'\n",
    "\n",
    "\n",
    "p.title.align=\"center\"\n",
    "\n",
    "p.line(y=yt[0],x=range(len(yt.values)),  line_width=3, color=(100,191,163), legend=\"Real\")\n",
    "\n",
    "p.circle(y=yt[0].where(yt[0]!=0),x=range(len(yt.values)), alpha=.6, size=9, color=(100,191,163))\n",
    "\n",
    "y_pred=model.predict(Xt).reshape(-1, 1).reshape(1,315)[0]\n",
    "\n",
    "\n",
    "p.line(y=y_pred,x=range(len(y_pred)),  line_width=2, color=(249, 139, 96), legend=u\"Predicción\")\n",
    "\n",
    "p.circle(y=y_pred[y_pred!=0], x=np.where(y_pred!=0)[0], alpha=.4, size=9, color=(249, 139, 96))\n",
    "\n",
    "\n",
    "\n",
    "\n",
    "show(p)\n",
    "\n"
   ]
  },
  {
   "cell_type": "code",
   "execution_count": 49,
   "metadata": {
    "scrolled": false
   },
   "outputs": [
    {
     "data": {
      "text/html": [
       "\n",
       "<div class=\"bk-root\">\n",
       "    <div class=\"bk-plotdiv\" id=\"8e20d020-137f-43df-94ad-9845496795eb\"></div>\n",
       "</div>"
      ]
     },
     "metadata": {},
     "output_type": "display_data"
    },
    {
     "data": {
      "application/javascript": [
       "(function(root) {\n",
       "  function embed_document(root) {\n",
       "    \n",
       "  var docs_json = {\"d086c744-f970-4652-ae7a-e37588e38b69\":{\"roots\":{\"references\":[{\"attributes\":{},\"id\":\"c0ace2a2-3383-4921-bd40-c12001a70f2c\",\"type\":\"LinearScale\"},{\"attributes\":{\"data_source\":{\"id\":\"9051700e-0041-4162-b579-25014e106a71\",\"type\":\"ColumnDataSource\"},\"glyph\":{\"id\":\"77856fbc-3772-4f9f-9601-73284f51ba5b\",\"type\":\"Circle\"},\"hover_glyph\":null,\"muted_glyph\":null,\"nonselection_glyph\":{\"id\":\"b99669a5-c05f-4640-b266-f2fec16146a0\",\"type\":\"Circle\"},\"selection_glyph\":null,\"view\":{\"id\":\"346d6301-8cc3-4717-973a-09430dc23c50\",\"type\":\"CDSView\"}},\"id\":\"811cbfb0-186a-4a9b-9629-a8cf65d23f52\",\"type\":\"GlyphRenderer\"},{\"attributes\":{\"callback\":null},\"id\":\"38f3bf99-ea44-4e02-a4ec-b7f15d1482d1\",\"type\":\"DataRange1d\"},{\"attributes\":{\"fill_alpha\":{\"value\":0.1},\"fill_color\":{\"value\":\"#1f77b4\"},\"line_alpha\":{\"value\":0.1},\"line_color\":{\"value\":\"#1f77b4\"},\"size\":{\"units\":\"screen\",\"value\":9},\"x\":{\"field\":\"x\"},\"y\":{\"field\":\"y\"}},\"id\":\"b99669a5-c05f-4640-b266-f2fec16146a0\",\"type\":\"Circle\"},{\"attributes\":{\"fill_alpha\":{\"value\":0.4},\"fill_color\":{\"value\":\"rgb(249, 139, 96)\"},\"line_alpha\":{\"value\":0.4},\"line_color\":{\"value\":\"rgb(249, 139, 96)\"},\"size\":{\"units\":\"screen\",\"value\":9},\"x\":{\"field\":\"x\"},\"y\":{\"field\":\"y\"}},\"id\":\"3fd6c32c-61d8-41e4-afe3-8a688baab917\",\"type\":\"Circle\"},{\"attributes\":{},\"id\":\"3edc9060-f476-466e-b435-b692a9f64734\",\"type\":\"LinearScale\"},{\"attributes\":{},\"id\":\"79f2af30-ab1a-4212-9a33-acb8afd1293d\",\"type\":\"BasicTicker\"},{\"attributes\":{},\"id\":\"ab0b4b34-50b2-4a5c-964b-fb501429fb42\",\"type\":\"HelpTool\"},{\"attributes\":{\"source\":{\"id\":\"5166f5ab-2a8d-4ac2-8bb0-5ce3e2f814d8\",\"type\":\"ColumnDataSource\"}},\"id\":\"3c7a4ee4-9732-41d2-bd8f-5c37f95d2a1e\",\"type\":\"CDSView\"},{\"attributes\":{},\"id\":\"4c1e4209-ab00-49ef-b03e-9fbfb8ccd4cf\",\"type\":\"Selection\"},{\"attributes\":{\"fill_alpha\":{\"value\":0.6},\"fill_color\":{\"value\":\"rgb(100, 191, 163)\"},\"line_alpha\":{\"value\":0.6},\"line_color\":{\"value\":\"rgb(100, 191, 163)\"},\"size\":{\"units\":\"screen\",\"value\":9},\"x\":{\"field\":\"x\"},\"y\":{\"field\":\"y\"}},\"id\":\"77856fbc-3772-4f9f-9601-73284f51ba5b\",\"type\":\"Circle\"},{\"attributes\":{},\"id\":\"8819868e-c26a-4860-b921-4bac137752c6\",\"type\":\"WheelZoomTool\"},{\"attributes\":{},\"id\":\"21567560-cbf1-47b4-9c0d-ccf35634f7d2\",\"type\":\"Selection\"},{\"attributes\":{},\"id\":\"1d27fbc0-5e32-4ae4-9d76-58ec3b3a7372\",\"type\":\"BasicTicker\"},{\"attributes\":{\"formatter\":{\"id\":\"cd0df690-a1c1-4c9f-b30b-0aff2aa551bc\",\"type\":\"BasicTickFormatter\"},\"plot\":{\"id\":\"24e27fab-2f76-470c-994c-2f78d06cd9d1\",\"subtype\":\"Figure\",\"type\":\"Plot\"},\"ticker\":{\"id\":\"1d27fbc0-5e32-4ae4-9d76-58ec3b3a7372\",\"type\":\"BasicTicker\"}},\"id\":\"eb3b73a4-c03b-4f80-afb2-3034fdc03b7d\",\"type\":\"LinearAxis\"},{\"attributes\":{},\"id\":\"964168bd-12c6-491c-b56d-f0a459aeb354\",\"type\":\"PanTool\"},{\"attributes\":{\"callback\":null,\"data\":{\"x\":[6,8,9,15,16,19,25,26,28,29,30,31,38,39,42,43,45,46,47,51,52,55,56,57,59,60,62,67,69,70,74,80,83,89,94,96,98,101,102,108,109,114,116,118,122,123,127,129,132,133],\"y\":{\"__ndarray__\":\"AnF/mmogxD97zTbBIDPEP2NDeQ3lNcQ/JiD4kgrwwz/pugtqrSbEP2NDeQ3lNcQ/fw3lNZTX0D8F9hDbRm8+P52RDXwFWTg/I+phBzf/wz8BRckd6SPEP5OXG60j0NA/fw3lNZTX0D9jQ3kN5TXEP2NDeQ3lNcQ/Y0N5DeU1xD+1vKHXa0PEP2NDeQ3lNcQ/c3+r/pMWxD9jQ3kN5TXEP2NDeQ3lNcQ/Y0N5DeU1xD9/DeU1lNfQP33xhn5mqmw/Y0N5DeU1xD+IYmDrxynEPwX2ENtGby4/BfYQ20ZvLj9jQ3kN5TXEPwX2ENtGbz4/BfYQ20ZvLj+2danIfC/EP03UeZwyvUU/Y0N5DeU1xD9jQ3kN5TXEP2NDeQ3lNcQ/57WlX4XT0D9jQ3kN5TXEP3vNNsEgM8Q/Y0N5DeU1xD8C5TWU11DeP38N5TWU19A/Y0N5DeU1xD9jQ3kN5TXEP7cCYaQdK8Q/7EK0M94RxD9jQ3kN5TXEPwX2ENtGby4/fw3lNZTX0D9jQ3kN5TXEPw==\",\"dtype\":\"float64\",\"shape\":[50]}},\"selected\":{\"id\":\"75b892a8-437a-4d9b-b49d-ab9388d2cedd\",\"type\":\"Selection\"},\"selection_policy\":{\"id\":\"6e771e97-d34a-478f-a547-906cdaf8c767\",\"type\":\"UnionRenderers\"}},\"id\":\"5b8da41c-1ed1-49ee-a71c-0375040b300f\",\"type\":\"ColumnDataSource\"},{\"attributes\":{},\"id\":\"6396df47-e2f4-480f-ad10-bed170409c76\",\"type\":\"BasicTickFormatter\"},{\"attributes\":{\"active_drag\":\"auto\",\"active_inspect\":\"auto\",\"active_scroll\":\"auto\",\"active_tap\":\"auto\",\"tools\":[{\"id\":\"964168bd-12c6-491c-b56d-f0a459aeb354\",\"type\":\"PanTool\"},{\"id\":\"8819868e-c26a-4860-b921-4bac137752c6\",\"type\":\"WheelZoomTool\"},{\"id\":\"a9d82ee6-a832-48a3-81a6-c5e6d6e6c471\",\"type\":\"BoxZoomTool\"},{\"id\":\"7009dce2-0c41-4553-8881-ce42c630ad2b\",\"type\":\"SaveTool\"},{\"id\":\"b4f3e49f-180d-49c5-88d7-2c3c44c12007\",\"type\":\"ResetTool\"},{\"id\":\"ab0b4b34-50b2-4a5c-964b-fb501429fb42\",\"type\":\"HelpTool\"}]},\"id\":\"4b333b17-a707-48f1-909b-cae12a42facf\",\"type\":\"Toolbar\"},{\"attributes\":{\"items\":[{\"id\":\"6910ebde-ecd7-4165-a392-6c510d9c9f34\",\"type\":\"LegendItem\"},{\"id\":\"87d39f3b-e1c9-4eac-a71b-98c7495dbf31\",\"type\":\"LegendItem\"}],\"plot\":{\"id\":\"24e27fab-2f76-470c-994c-2f78d06cd9d1\",\"subtype\":\"Figure\",\"type\":\"Plot\"}},\"id\":\"fa1bc43e-fb3f-498a-b597-6972d8600bb2\",\"type\":\"Legend\"},{\"attributes\":{\"fill_alpha\":{\"value\":0.1},\"fill_color\":{\"value\":\"#1f77b4\"},\"line_alpha\":{\"value\":0.1},\"line_color\":{\"value\":\"#1f77b4\"},\"size\":{\"units\":\"screen\",\"value\":9},\"x\":{\"field\":\"x\"},\"y\":{\"field\":\"y\"}},\"id\":\"5b42a64a-bd3f-4042-9a75-3bda0924dc45\",\"type\":\"Circle\"},{\"attributes\":{},\"id\":\"5b7b3de2-53b4-49d5-a5d8-5e11a332511a\",\"type\":\"UnionRenderers\"},{\"attributes\":{\"formatter\":{\"id\":\"6396df47-e2f4-480f-ad10-bed170409c76\",\"type\":\"BasicTickFormatter\"},\"plot\":{\"id\":\"24e27fab-2f76-470c-994c-2f78d06cd9d1\",\"subtype\":\"Figure\",\"type\":\"Plot\"},\"ticker\":{\"id\":\"79f2af30-ab1a-4212-9a33-acb8afd1293d\",\"type\":\"BasicTicker\"}},\"id\":\"65e07152-8ef7-47aa-96a0-078a0d97e2b9\",\"type\":\"LinearAxis\"},{\"attributes\":{\"bottom_units\":\"screen\",\"fill_alpha\":{\"value\":0.5},\"fill_color\":{\"value\":\"lightgrey\"},\"left_units\":\"screen\",\"level\":\"overlay\",\"line_alpha\":{\"value\":1.0},\"line_color\":{\"value\":\"black\"},\"line_dash\":[4,4],\"line_width\":{\"value\":2},\"plot\":null,\"render_mode\":\"css\",\"right_units\":\"screen\",\"top_units\":\"screen\"},\"id\":\"a8053af1-8f38-45c7-9d8b-18d2693a7c65\",\"type\":\"BoxAnnotation\"},{\"attributes\":{},\"id\":\"7009dce2-0c41-4553-8881-ce42c630ad2b\",\"type\":\"SaveTool\"},{\"attributes\":{\"source\":{\"id\":\"9051700e-0041-4162-b579-25014e106a71\",\"type\":\"ColumnDataSource\"}},\"id\":\"346d6301-8cc3-4717-973a-09430dc23c50\",\"type\":\"CDSView\"},{\"attributes\":{},\"id\":\"75b892a8-437a-4d9b-b49d-ab9388d2cedd\",\"type\":\"Selection\"},{\"attributes\":{\"label\":{\"value\":\"Predicci\\u00f3n\"},\"renderers\":[{\"id\":\"51ab2be8-f48b-48a4-996c-2502f01fd6c8\",\"type\":\"GlyphRenderer\"}]},\"id\":\"87d39f3b-e1c9-4eac-a71b-98c7495dbf31\",\"type\":\"LegendItem\"},{\"attributes\":{\"callback\":null,\"data\":{\"x\":[0,1,2,3,4,5,6,7,8,9,10,11,12,13,14,15,16,17,18,19,20,21,22,23,24,25,26,27,28,29,30,31,32,33,34,35,36,37,38,39,40,41,42,43,44,45,46,47,48,49,50,51,52,53,54,55,56,57,58,59,60,61,62,63,64,65,66,67,68,69,70,71,72,73,74,75,76,77,78,79,80,81,82,83,84,85,86,87,88,89,90,91,92,93,94,95,96,97,98,99,100,101,102,103,104,105,106,107,108,109,110,111,112,113,114,115,116,117,118,119,120,121,122,123,124,125,126,127,128,129,130,131,132,133,134],\"y\":{\"__ndarray__\":\"AAAAAAAA+H8AAAAAAAD4fwAAAAAAAPh/AAAAAAAA+H8AAAAAAAD4fwAAAAAAAPh/X0N5DeU1xD8AAAAAAAD4f19DeQ3lNcQ/X0N5DeU1xD8AAAAAAAD4fwAAAAAAAPh/AAAAAAAA+H8AAAAAAAD4fwAAAAAAAPh/X0N5DeU1xD9fQ3kN5TXEPwAAAAAAAPh/AAAAAAAA+H9fQ3kN5TXEPwAAAAAAAPh/AAAAAAAA+H8AAAAAAAD4fwAAAAAAAPh/AAAAAAAA+H96DeU1lNfQPwAAAAAAAPh/AAAAAAAA+H8AAAAAAAD4f19DeQ3lNcQ/X0N5DeU1xD96DeU1lNfQPwAAAAAAAPh/AAAAAAAA+H8AAAAAAAD4fwAAAAAAAPh/AAAAAAAA+H8AAAAAAAD4f3oN5TWU19A/X0N5DeU1xD8AAAAAAAD4fwAAAAAAAPh/X0N5DeU1xD9fQ3kN5TXEPwAAAAAAAPh/X0N5DeU1xD9fQ3kN5TXEP19DeQ3lNcQ/AAAAAAAA+H8AAAAAAAD4fwAAAAAAAPh/X0N5DeU1xD9fQ3kN5TXEPwAAAAAAAPh/AAAAAAAA+H9fQ3kN5TXEP3oN5TWU19A/AAAAAAAA+H8AAAAAAAD4f19DeQ3lNcQ/X0N5DeU1xD8AAAAAAAD4fwAAAAAAAPh/AAAAAAAA+H8AAAAAAAD4fwAAAAAAAPh/AAAAAAAA+H8AAAAAAAD4fwAAAAAAAPh/X0N5DeU1xD8AAAAAAAD4fwAAAAAAAPh/AAAAAAAA+H8AAAAAAAD4fwAAAAAAAPh/AAAAAAAA+H8AAAAAAAD4fwAAAAAAAPh/AAAAAAAA+H8AAAAAAAD4f19DeQ3lNcQ/AAAAAAAA+H8AAAAAAAD4fwAAAAAAAPh/AAAAAAAA+H8AAAAAAAD4fwAAAAAAAPh/AAAAAAAA+H8AAAAAAAD4f19DeQ3lNcQ/AAAAAAAA+H8AAAAAAAD4fwAAAAAAAPh/AAAAAAAA+H9fQ3kN5TXEPwAAAAAAAPh/X0N5DeU1xD8AAAAAAAD4f3oN5TWU19A/AAAAAAAA+H8AAAAAAAD4f19DeQ3lNcQ/X0N5DeU1xD8AAAAAAAD4fwAAAAAAAPh/AAAAAAAA+H8AAAAAAAD4fwAAAAAAAPh/X0N5DeU1xD8P5TWU11DePwAAAAAAAPh/AAAAAAAA+H8AAAAAAAD4fwAAAAAAAPh/eg3lNZTX0D8AAAAAAAD4f19DeQ3lNcQ/AAAAAAAA+H9fQ3kN5TXEPwAAAAAAAPh/AAAAAAAA+H8AAAAAAAD4f19DeQ3lNcQ/X0N5DeU1xD8AAAAAAAD4fwAAAAAAAPh/AAAAAAAA+H9fQ3kN5TXEPwAAAAAAAPh/AAAAAAAA+H8AAAAAAAD4fwAAAAAAAPh/eg3lNZTX0D9fQ3kN5TXEPwAAAAAAAPh/\",\"dtype\":\"float64\",\"shape\":[135]}},\"selected\":{\"id\":\"21567560-cbf1-47b4-9c0d-ccf35634f7d2\",\"type\":\"Selection\"},\"selection_policy\":{\"id\":\"5b7b3de2-53b4-49d5-a5d8-5e11a332511a\",\"type\":\"UnionRenderers\"}},\"id\":\"9051700e-0041-4162-b579-25014e106a71\",\"type\":\"ColumnDataSource\"},{\"attributes\":{\"callback\":null},\"id\":\"64272ee0-c9f4-4bbc-98ce-07e49912186b\",\"type\":\"DataRange1d\"},{\"attributes\":{\"line_color\":\"rgb(249, 139, 96)\",\"line_width\":2,\"x\":{\"field\":\"x\"},\"y\":{\"field\":\"y\"}},\"id\":\"b9886b35-2f14-4f17-909e-2bd171667973\",\"type\":\"Line\"},{\"attributes\":{\"dimension\":1,\"plot\":{\"id\":\"24e27fab-2f76-470c-994c-2f78d06cd9d1\",\"subtype\":\"Figure\",\"type\":\"Plot\"},\"ticker\":{\"id\":\"1d27fbc0-5e32-4ae4-9d76-58ec3b3a7372\",\"type\":\"BasicTicker\"}},\"id\":\"ff8a12f6-6b19-42d0-9ec6-daf1a3ce6de5\",\"type\":\"Grid\"},{\"attributes\":{\"line_alpha\":0.1,\"line_color\":\"#1f77b4\",\"line_width\":3,\"x\":{\"field\":\"x\"},\"y\":{\"field\":\"y\"}},\"id\":\"2b80db73-28fc-46ad-ae78-a7c92d344048\",\"type\":\"Line\"},{\"attributes\":{},\"id\":\"fb3c97d2-6d34-4172-bb8e-b9a46bd0f472\",\"type\":\"UnionRenderers\"},{\"attributes\":{\"data_source\":{\"id\":\"5166f5ab-2a8d-4ac2-8bb0-5ce3e2f814d8\",\"type\":\"ColumnDataSource\"},\"glyph\":{\"id\":\"b9886b35-2f14-4f17-909e-2bd171667973\",\"type\":\"Line\"},\"hover_glyph\":null,\"muted_glyph\":null,\"nonselection_glyph\":{\"id\":\"286fe208-e26e-49dc-922c-dd9647162384\",\"type\":\"Line\"},\"selection_glyph\":null,\"view\":{\"id\":\"3c7a4ee4-9732-41d2-bd8f-5c37f95d2a1e\",\"type\":\"CDSView\"}},\"id\":\"51ab2be8-f48b-48a4-996c-2502f01fd6c8\",\"type\":\"GlyphRenderer\"},{\"attributes\":{\"overlay\":{\"id\":\"a8053af1-8f38-45c7-9d8b-18d2693a7c65\",\"type\":\"BoxAnnotation\"}},\"id\":\"a9d82ee6-a832-48a3-81a6-c5e6d6e6c471\",\"type\":\"BoxZoomTool\"},{\"attributes\":{\"line_alpha\":0.1,\"line_color\":\"#1f77b4\",\"line_width\":2,\"x\":{\"field\":\"x\"},\"y\":{\"field\":\"y\"}},\"id\":\"286fe208-e26e-49dc-922c-dd9647162384\",\"type\":\"Line\"},{\"attributes\":{},\"id\":\"b4f3e49f-180d-49c5-88d7-2c3c44c12007\",\"type\":\"ResetTool\"},{\"attributes\":{\"below\":[{\"id\":\"65e07152-8ef7-47aa-96a0-078a0d97e2b9\",\"type\":\"LinearAxis\"}],\"left\":[{\"id\":\"eb3b73a4-c03b-4f80-afb2-3034fdc03b7d\",\"type\":\"LinearAxis\"}],\"plot_height\":400,\"plot_width\":980,\"renderers\":[{\"id\":\"65e07152-8ef7-47aa-96a0-078a0d97e2b9\",\"type\":\"LinearAxis\"},{\"id\":\"18d91c65-328c-4819-9ef7-83b483bf9e93\",\"type\":\"Grid\"},{\"id\":\"eb3b73a4-c03b-4f80-afb2-3034fdc03b7d\",\"type\":\"LinearAxis\"},{\"id\":\"ff8a12f6-6b19-42d0-9ec6-daf1a3ce6de5\",\"type\":\"Grid\"},{\"id\":\"a8053af1-8f38-45c7-9d8b-18d2693a7c65\",\"type\":\"BoxAnnotation\"},{\"id\":\"fa1bc43e-fb3f-498a-b597-6972d8600bb2\",\"type\":\"Legend\"},{\"id\":\"52ee86ca-0475-4348-bfd5-27147c7fb27b\",\"type\":\"GlyphRenderer\"},{\"id\":\"811cbfb0-186a-4a9b-9629-a8cf65d23f52\",\"type\":\"GlyphRenderer\"},{\"id\":\"51ab2be8-f48b-48a4-996c-2502f01fd6c8\",\"type\":\"GlyphRenderer\"},{\"id\":\"4811157e-e518-4877-9168-331f9c52eb9f\",\"type\":\"GlyphRenderer\"}],\"title\":{\"id\":\"070dea41-9886-4c3c-9607-9156df2888b4\",\"type\":\"Title\"},\"toolbar\":{\"id\":\"4b333b17-a707-48f1-909b-cae12a42facf\",\"type\":\"Toolbar\"},\"x_range\":{\"id\":\"38f3bf99-ea44-4e02-a4ec-b7f15d1482d1\",\"type\":\"DataRange1d\"},\"x_scale\":{\"id\":\"3edc9060-f476-466e-b435-b692a9f64734\",\"type\":\"LinearScale\"},\"y_range\":{\"id\":\"64272ee0-c9f4-4bbc-98ce-07e49912186b\",\"type\":\"DataRange1d\"},\"y_scale\":{\"id\":\"c0ace2a2-3383-4921-bd40-c12001a70f2c\",\"type\":\"LinearScale\"}},\"id\":\"24e27fab-2f76-470c-994c-2f78d06cd9d1\",\"subtype\":\"Figure\",\"type\":\"Plot\"},{\"attributes\":{},\"id\":\"cd0df690-a1c1-4c9f-b30b-0aff2aa551bc\",\"type\":\"BasicTickFormatter\"},{\"attributes\":{\"align\":\"center\",\"plot\":null,\"text\":\"Test-Validate\",\"text_font_size\":{\"value\":\"20pt\"}},\"id\":\"070dea41-9886-4c3c-9607-9156df2888b4\",\"type\":\"Title\"},{\"attributes\":{\"line_color\":\"rgb(100, 191, 163)\",\"line_width\":3,\"x\":{\"field\":\"x\"},\"y\":{\"field\":\"y\"}},\"id\":\"6156fc4a-ebda-4f2d-94b6-669ebded587d\",\"type\":\"Line\"},{\"attributes\":{\"data_source\":{\"id\":\"8c7c72f8-09fd-4ea6-afc9-6f3d9bd44d9f\",\"type\":\"ColumnDataSource\"},\"glyph\":{\"id\":\"6156fc4a-ebda-4f2d-94b6-669ebded587d\",\"type\":\"Line\"},\"hover_glyph\":null,\"muted_glyph\":null,\"nonselection_glyph\":{\"id\":\"2b80db73-28fc-46ad-ae78-a7c92d344048\",\"type\":\"Line\"},\"selection_glyph\":null,\"view\":{\"id\":\"14bf65b2-f510-4e95-8fbd-ecd0c0d62bfa\",\"type\":\"CDSView\"}},\"id\":\"52ee86ca-0475-4348-bfd5-27147c7fb27b\",\"type\":\"GlyphRenderer\"},{\"attributes\":{\"callback\":null,\"data\":{\"x\":[0,1,2,3,4,5,6,7,8,9,10,11,12,13,14,15,16,17,18,19,20,21,22,23,24,25,26,27,28,29,30,31,32,33,34,35,36,37,38,39,40,41,42,43,44,45,46,47,48,49,50,51,52,53,54,55,56,57,58,59,60,61,62,63,64,65,66,67,68,69,70,71,72,73,74,75,76,77,78,79,80,81,82,83,84,85,86,87,88,89,90,91,92,93,94,95,96,97,98,99,100,101,102,103,104,105,106,107,108,109,110,111,112,113,114,115,116,117,118,119,120,121,122,123,124,125,126,127,128,129,130,131,132,133,134],\"y\":{\"__ndarray__\":\"AAAAAAAAAAAAAAAAAAAAAAAAAAAAAAAAAAAAAAAAAAAAAAAAAAAAAAAAAAAAAAAAAnF/mmogxD8AAAAAAAAAAHvNNsEgM8Q/Y0N5DeU1xD8AAAAAAAAAAAAAAAAAAAAAAAAAAAAAAAAAAAAAAAAAAAAAAAAAAAAAJiD4kgrwwz/pugtqrSbEPwAAAAAAAAAAAAAAAAAAAABjQ3kN5TXEPwAAAAAAAAAAAAAAAAAAAAAAAAAAAAAAAAAAAAAAAAAAAAAAAAAAAAB/DeU1lNfQPwX2ENtGbz4/AAAAAAAAAACdkQ18BVk4PyPqYQc3/8M/AUXJHekjxD+TlxutI9DQPwAAAAAAAAAAAAAAAAAAAAAAAAAAAAAAAAAAAAAAAAAAAAAAAAAAAAAAAAAAAAAAAH8N5TWU19A/Y0N5DeU1xD8AAAAAAAAAAAAAAAAAAAAAY0N5DeU1xD9jQ3kN5TXEPwAAAAAAAAAAtbyh12tDxD9jQ3kN5TXEP3N/q/6TFsQ/AAAAAAAAAAAAAAAAAAAAAAAAAAAAAAAAY0N5DeU1xD9jQ3kN5TXEPwAAAAAAAAAAAAAAAAAAAABjQ3kN5TXEP38N5TWU19A/ffGGfmaqbD8AAAAAAAAAAGNDeQ3lNcQ/iGJg68cpxD8AAAAAAAAAAAX2ENtGby4/AAAAAAAAAAAAAAAAAAAAAAAAAAAAAAAAAAAAAAAAAAAF9hDbRm8uPwAAAAAAAAAAY0N5DeU1xD8F9hDbRm8+PwAAAAAAAAAAAAAAAAAAAAAAAAAAAAAAAAX2ENtGby4/AAAAAAAAAAAAAAAAAAAAAAAAAAAAAAAAAAAAAAAAAAAAAAAAAAAAALZ1qch8L8Q/AAAAAAAAAAAAAAAAAAAAAE3UeZwyvUU/AAAAAAAAAAAAAAAAAAAAAAAAAAAAAAAAAAAAAAAAAAAAAAAAAAAAAGNDeQ3lNcQ/AAAAAAAAAAAAAAAAAAAAAAAAAAAAAAAAAAAAAAAAAABjQ3kN5TXEPwAAAAAAAAAAY0N5DeU1xD8AAAAAAAAAAOe1pV+F09A/AAAAAAAAAAAAAAAAAAAAAGNDeQ3lNcQ/e802wSAzxD8AAAAAAAAAAAAAAAAAAAAAAAAAAAAAAAAAAAAAAAAAAAAAAAAAAAAAY0N5DeU1xD8C5TWU11DePwAAAAAAAAAAAAAAAAAAAAAAAAAAAAAAAAAAAAAAAAAAfw3lNZTX0D8AAAAAAAAAAGNDeQ3lNcQ/AAAAAAAAAABjQ3kN5TXEPwAAAAAAAAAAAAAAAAAAAAAAAAAAAAAAALcCYaQdK8Q/7EK0M94RxD8AAAAAAAAAAAAAAAAAAAAAAAAAAAAAAABjQ3kN5TXEPwAAAAAAAAAABfYQ20ZvLj8AAAAAAAAAAAAAAAAAAAAAfw3lNZTX0D9jQ3kN5TXEPwAAAAAAAAAA\",\"dtype\":\"float64\",\"shape\":[135]}},\"selected\":{\"id\":\"7ec73d99-461e-4770-ab9c-7f627c0300b6\",\"type\":\"Selection\"},\"selection_policy\":{\"id\":\"fac4f101-73bc-44eb-b994-986500adf021\",\"type\":\"UnionRenderers\"}},\"id\":\"5166f5ab-2a8d-4ac2-8bb0-5ce3e2f814d8\",\"type\":\"ColumnDataSource\"},{\"attributes\":{\"source\":{\"id\":\"5b8da41c-1ed1-49ee-a71c-0375040b300f\",\"type\":\"ColumnDataSource\"}},\"id\":\"fa14ad9e-ff62-46c5-b192-ce3f3c19f4c1\",\"type\":\"CDSView\"},{\"attributes\":{},\"id\":\"fac4f101-73bc-44eb-b994-986500adf021\",\"type\":\"UnionRenderers\"},{\"attributes\":{\"plot\":{\"id\":\"24e27fab-2f76-470c-994c-2f78d06cd9d1\",\"subtype\":\"Figure\",\"type\":\"Plot\"},\"ticker\":{\"id\":\"79f2af30-ab1a-4212-9a33-acb8afd1293d\",\"type\":\"BasicTicker\"}},\"id\":\"18d91c65-328c-4819-9ef7-83b483bf9e93\",\"type\":\"Grid\"},{\"attributes\":{\"label\":{\"value\":\"Real\"},\"renderers\":[{\"id\":\"52ee86ca-0475-4348-bfd5-27147c7fb27b\",\"type\":\"GlyphRenderer\"}]},\"id\":\"6910ebde-ecd7-4165-a392-6c510d9c9f34\",\"type\":\"LegendItem\"},{\"attributes\":{\"source\":{\"id\":\"8c7c72f8-09fd-4ea6-afc9-6f3d9bd44d9f\",\"type\":\"ColumnDataSource\"}},\"id\":\"14bf65b2-f510-4e95-8fbd-ecd0c0d62bfa\",\"type\":\"CDSView\"},{\"attributes\":{},\"id\":\"6e771e97-d34a-478f-a547-906cdaf8c767\",\"type\":\"UnionRenderers\"},{\"attributes\":{\"data_source\":{\"id\":\"5b8da41c-1ed1-49ee-a71c-0375040b300f\",\"type\":\"ColumnDataSource\"},\"glyph\":{\"id\":\"3fd6c32c-61d8-41e4-afe3-8a688baab917\",\"type\":\"Circle\"},\"hover_glyph\":null,\"muted_glyph\":null,\"nonselection_glyph\":{\"id\":\"5b42a64a-bd3f-4042-9a75-3bda0924dc45\",\"type\":\"Circle\"},\"selection_glyph\":null,\"view\":{\"id\":\"fa14ad9e-ff62-46c5-b192-ce3f3c19f4c1\",\"type\":\"CDSView\"}},\"id\":\"4811157e-e518-4877-9168-331f9c52eb9f\",\"type\":\"GlyphRenderer\"},{\"attributes\":{\"callback\":null,\"data\":{\"x\":[0,1,2,3,4,5,6,7,8,9,10,11,12,13,14,15,16,17,18,19,20,21,22,23,24,25,26,27,28,29,30,31,32,33,34,35,36,37,38,39,40,41,42,43,44,45,46,47,48,49,50,51,52,53,54,55,56,57,58,59,60,61,62,63,64,65,66,67,68,69,70,71,72,73,74,75,76,77,78,79,80,81,82,83,84,85,86,87,88,89,90,91,92,93,94,95,96,97,98,99,100,101,102,103,104,105,106,107,108,109,110,111,112,113,114,115,116,117,118,119,120,121,122,123,124,125,126,127,128,129,130,131,132,133,134],\"y\":{\"__ndarray__\":\"AAAAAAAAAAAAAAAAAAAAAAAAAAAAAAAAAAAAAAAAAAAAAAAAAAAAAAAAAAAAAAAAX0N5DeU1xD8AAAAAAAAAAF9DeQ3lNcQ/X0N5DeU1xD8AAAAAAAAAAAAAAAAAAAAAAAAAAAAAAAAAAAAAAAAAAAAAAAAAAAAAX0N5DeU1xD9fQ3kN5TXEPwAAAAAAAAAAAAAAAAAAAABfQ3kN5TXEPwAAAAAAAAAAAAAAAAAAAAAAAAAAAAAAAAAAAAAAAAAAAAAAAAAAAAB6DeU1lNfQPwAAAAAAAAAAAAAAAAAAAAAAAAAAAAAAAF9DeQ3lNcQ/X0N5DeU1xD96DeU1lNfQPwAAAAAAAAAAAAAAAAAAAAAAAAAAAAAAAAAAAAAAAAAAAAAAAAAAAAAAAAAAAAAAAHoN5TWU19A/X0N5DeU1xD8AAAAAAAAAAAAAAAAAAAAAX0N5DeU1xD9fQ3kN5TXEPwAAAAAAAAAAX0N5DeU1xD9fQ3kN5TXEP19DeQ3lNcQ/AAAAAAAAAAAAAAAAAAAAAAAAAAAAAAAAX0N5DeU1xD9fQ3kN5TXEPwAAAAAAAAAAAAAAAAAAAABfQ3kN5TXEP3oN5TWU19A/AAAAAAAAAAAAAAAAAAAAAF9DeQ3lNcQ/X0N5DeU1xD8AAAAAAAAAAAAAAAAAAAAAAAAAAAAAAAAAAAAAAAAAAAAAAAAAAAAAAAAAAAAAAAAAAAAAAAAAAAAAAAAAAAAAX0N5DeU1xD8AAAAAAAAAAAAAAAAAAAAAAAAAAAAAAAAAAAAAAAAAAAAAAAAAAAAAAAAAAAAAAAAAAAAAAAAAAAAAAAAAAAAAAAAAAAAAAAAAAAAAAAAAAF9DeQ3lNcQ/AAAAAAAAAAAAAAAAAAAAAAAAAAAAAAAAAAAAAAAAAAAAAAAAAAAAAAAAAAAAAAAAAAAAAAAAAAAAAAAAAAAAAF9DeQ3lNcQ/AAAAAAAAAAAAAAAAAAAAAAAAAAAAAAAAAAAAAAAAAABfQ3kN5TXEPwAAAAAAAAAAX0N5DeU1xD8AAAAAAAAAAHoN5TWU19A/AAAAAAAAAAAAAAAAAAAAAF9DeQ3lNcQ/X0N5DeU1xD8AAAAAAAAAAAAAAAAAAAAAAAAAAAAAAAAAAAAAAAAAAAAAAAAAAAAAX0N5DeU1xD8P5TWU11DePwAAAAAAAAAAAAAAAAAAAAAAAAAAAAAAAAAAAAAAAAAAeg3lNZTX0D8AAAAAAAAAAF9DeQ3lNcQ/AAAAAAAAAABfQ3kN5TXEPwAAAAAAAAAAAAAAAAAAAAAAAAAAAAAAAF9DeQ3lNcQ/X0N5DeU1xD8AAAAAAAAAAAAAAAAAAAAAAAAAAAAAAABfQ3kN5TXEPwAAAAAAAAAAAAAAAAAAAAAAAAAAAAAAAAAAAAAAAAAAeg3lNZTX0D9fQ3kN5TXEPwAAAAAAAAAA\",\"dtype\":\"float64\",\"shape\":[135]}},\"selected\":{\"id\":\"4c1e4209-ab00-49ef-b03e-9fbfb8ccd4cf\",\"type\":\"Selection\"},\"selection_policy\":{\"id\":\"fb3c97d2-6d34-4172-bb8e-b9a46bd0f472\",\"type\":\"UnionRenderers\"}},\"id\":\"8c7c72f8-09fd-4ea6-afc9-6f3d9bd44d9f\",\"type\":\"ColumnDataSource\"},{\"attributes\":{},\"id\":\"7ec73d99-461e-4770-ab9c-7f627c0300b6\",\"type\":\"Selection\"}],\"root_ids\":[\"24e27fab-2f76-470c-994c-2f78d06cd9d1\"]},\"title\":\"Bokeh Application\",\"version\":\"0.12.16\"}};\n",
       "  var render_items = [{\"docid\":\"d086c744-f970-4652-ae7a-e37588e38b69\",\"elementid\":\"8e20d020-137f-43df-94ad-9845496795eb\",\"modelid\":\"24e27fab-2f76-470c-994c-2f78d06cd9d1\"}];\n",
       "  root.Bokeh.embed.embed_items_notebook(docs_json, render_items);\n",
       "\n",
       "  }\n",
       "  if (root.Bokeh !== undefined) {\n",
       "    embed_document(root);\n",
       "  } else {\n",
       "    var attempts = 0;\n",
       "    var timer = setInterval(function(root) {\n",
       "      if (root.Bokeh !== undefined) {\n",
       "        embed_document(root);\n",
       "        clearInterval(timer);\n",
       "      }\n",
       "      attempts++;\n",
       "      if (attempts > 100) {\n",
       "        console.log(\"Bokeh: ERROR: Unable to run BokehJS code because BokehJS library is missing\")\n",
       "        clearInterval(timer);\n",
       "      }\n",
       "    }, 10, root)\n",
       "  }\n",
       "})(window);"
      ],
      "application/vnd.bokehjs_exec.v0+json": ""
     },
     "metadata": {
      "application/vnd.bokehjs_exec.v0+json": {
       "id": "24e27fab-2f76-470c-994c-2f78d06cd9d1"
      }
     },
     "output_type": "display_data"
    }
   ],
   "source": [
    "p = figure(plot_width=980, plot_height=400, title=\"Test-Validate\")\n",
    "p.title.text_font_size = '20pt'\n",
    "\n",
    "\n",
    "p.title.align=\"center\"\n",
    "\n",
    "p.line(y=yv[0],x=range(len(yv.values)),  line_width=3, color=(100,191,163), legend=\"Real\")\n",
    "\n",
    "p.circle(y=yv[0].where(yv[0]!=0),x=range(len(yv.values)), alpha=.6, size=9, color=(100,191,163))\n",
    "\n",
    "y_pred=model.predict(Xv).reshape(-1, 1).reshape(1,135)[0]\n",
    "\n",
    "\n",
    "p.line(y=y_pred,x=range(len(y_pred)),  line_width=2, color=(249, 139, 96), legend=u\"Predicción\")\n",
    "\n",
    "p.circle(y=y_pred[y_pred!=0], x=np.where(y_pred!=0)[0], alpha=.4, size=9, color=(249, 139, 96))\n",
    "\n",
    "\n",
    "\n",
    "\n",
    "show(p)\n",
    "\n"
   ]
  },
  {
   "cell_type": "code",
   "execution_count": 50,
   "metadata": {},
   "outputs": [],
   "source": [
    "df_v=pd.read_csv(\"../../../Documentos/Data/Examen/test.csv.csv\")\n"
   ]
  },
  {
   "cell_type": "code",
   "execution_count": 51,
   "metadata": {
    "scrolled": true
   },
   "outputs": [],
   "source": [
    "df_v[\"Incremento\"]=0\n",
    "df_v[\"Delta\"]=0\n",
    "df_v=df_v[[x for x in df.columns if not(x in [\"y^\",\"target\"])]].copy()"
   ]
  },
  {
   "cell_type": "code",
   "execution_count": 52,
   "metadata": {},
   "outputs": [],
   "source": [
    "df_v[[x for x in df_v.columns if \"v_\" in x]]=pd.DataFrame(imputer.transform(\n",
    "                                         df_v[[x for x in df_v.columns if \"v_\" in x]]), \n",
    "                                        columns=[x for x in df_v.columns if \"v_\" in x])"
   ]
  },
  {
   "cell_type": "code",
   "execution_count": 53,
   "metadata": {},
   "outputs": [],
   "source": [
    "imputer_ventas=Imputer(strategy='mean', axis=1)\n",
    "imputer_ventas.fit(df_v[[x for x in df_v.columns if \"ventas\" in x]])\n",
    "\n",
    "df_v[[x for x in df_v.columns if \"ventas\" in x]]=pd.DataFrame(imputer_ventas.transform(\n",
    "                                         df_v[[x for x in df_v.columns if \"ventas\" in x]]), \n",
    "                                        columns=[x for x in df_v.columns if \"ventas\" in x])\n"
   ]
  },
  {
   "cell_type": "code",
   "execution_count": 54,
   "metadata": {},
   "outputs": [],
   "source": [
    "df_v[\"Incremento\"]=df_v[[x for x in df_v.columns \n",
    "                if \"ventas\" in x]].apply(\n",
    "                Incremento, axis=1)\n",
    "\n",
    "\n",
    "df_v[\"Delta\"]=df_v[[x for x in df_v.columns if \"ventas\" in x]].apply(\n",
    "    Delta, axis=1)"
   ]
  },
  {
   "cell_type": "code",
   "execution_count": 55,
   "metadata": {},
   "outputs": [
    {
     "data": {
      "text/plain": [
       "ventas_mes_01_despues_de_lanzamiento    0\n",
       "ventas_mes_02_despues_de_lanzamiento    0\n",
       "ventas_mes_03_despues_de_lanzamiento    0\n",
       "ventas_mes_04_despues_de_lanzamiento    0\n",
       "ventas_mes_05_despues_de_lanzamiento    0\n",
       "ventas_mes_06_despues_de_lanzamiento    0\n",
       "v_1                                     0\n",
       "v_2                                     0\n",
       "v_3                                     0\n",
       "v_4                                     0\n",
       "v_15                                    0\n",
       "c_2                                     0\n",
       "c_3                                     0\n",
       "c_4                                     0\n",
       "c_5                                     0\n",
       "c_6                                     0\n",
       "c_7                                     0\n",
       "c_8                                     0\n",
       "c_15                                    0\n",
       "c_384                                   0\n",
       "c_460                                   0\n",
       "c_461                                   0\n",
       "c_490                                   0\n",
       "Incremento                              0\n",
       "Delta                                   0\n",
       "dtype: int64"
      ]
     },
     "execution_count": 55,
     "metadata": {},
     "output_type": "execute_result"
    }
   ],
   "source": [
    "df_v.isnull().sum()"
   ]
  },
  {
   "cell_type": "code",
   "execution_count": 56,
   "metadata": {},
   "outputs": [],
   "source": [
    "X_to_pred=pd.DataFrame(scx.transform(df_v), columns=df_v.columns)"
   ]
  },
  {
   "cell_type": "code",
   "execution_count": 57,
   "metadata": {},
   "outputs": [
    {
     "data": {
      "text/html": [
       "\n",
       "<div class=\"bk-root\">\n",
       "    <div class=\"bk-plotdiv\" id=\"9003f001-3655-4703-b1de-4b095b55669c\"></div>\n",
       "</div>"
      ]
     },
     "metadata": {},
     "output_type": "display_data"
    },
    {
     "data": {
      "application/javascript": [
       "(function(root) {\n",
       "  function embed_document(root) {\n",
       "    \n",
       "  var docs_json = {\"a228cdc1-b09c-401a-90d3-a0212d50937c\":{\"roots\":{\"references\":[{\"attributes\":{\"callback\":null,\"data\":{\"x\":[0],\"y\":[0]},\"selected\":{\"id\":\"96dd9e48-89ba-44a2-9128-7b9243765372\",\"type\":\"Selection\"},\"selection_policy\":{\"id\":\"ed9bf904-a7ea-4f56-b364-f0a21e200aac\",\"type\":\"UnionRenderers\"}},\"id\":\"2038b0e3-65b8-4e5d-8883-77c9c01a48de\",\"type\":\"ColumnDataSource\"},{\"attributes\":{},\"id\":\"ff2b3be4-15e8-4b50-84d2-19af820f90f5\",\"type\":\"ResetTool\"},{\"attributes\":{\"formatter\":{\"id\":\"4e99947b-f335-4c25-b0dd-fd217fb97892\",\"type\":\"BasicTickFormatter\"},\"plot\":{\"id\":\"632c2864-8465-4485-b5bd-aea04651d879\",\"subtype\":\"Figure\",\"type\":\"Plot\"},\"ticker\":{\"id\":\"ce7496c4-a643-443e-aeb8-9015c2524811\",\"type\":\"BasicTicker\"}},\"id\":\"4cbec2c3-84fa-41ca-a2de-588f072a9a0b\",\"type\":\"LinearAxis\"},{\"attributes\":{\"below\":[{\"id\":\"4cbec2c3-84fa-41ca-a2de-588f072a9a0b\",\"type\":\"LinearAxis\"}],\"left\":[{\"id\":\"c50dfb29-20b5-457d-b803-737b219d2df7\",\"type\":\"LinearAxis\"}],\"plot_height\":400,\"plot_width\":980,\"renderers\":[{\"id\":\"4cbec2c3-84fa-41ca-a2de-588f072a9a0b\",\"type\":\"LinearAxis\"},{\"id\":\"62c859e3-aaf3-4115-87bd-8e71b419ca64\",\"type\":\"Grid\"},{\"id\":\"c50dfb29-20b5-457d-b803-737b219d2df7\",\"type\":\"LinearAxis\"},{\"id\":\"677f180c-8be0-424a-8934-2378d4d78ffe\",\"type\":\"Grid\"},{\"id\":\"2b2a8b00-fa0a-470c-bb64-5553e4370111\",\"type\":\"BoxAnnotation\"},{\"id\":\"fecb875a-ffe1-44a8-ae2e-4cd909f0e8a2\",\"type\":\"Legend\"},{\"id\":\"e819813a-4027-45b9-992b-0ad7beafaf6c\",\"type\":\"GlyphRenderer\"},{\"id\":\"beb2d22d-6964-454e-86ee-0eabee7f119a\",\"type\":\"GlyphRenderer\"},{\"id\":\"080ad838-bdf4-4c96-b4f1-864e9a4b23d8\",\"type\":\"GlyphRenderer\"},{\"id\":\"fb56fe9c-6acb-4418-bedd-e06d2adedb1c\",\"type\":\"GlyphRenderer\"}],\"title\":{\"id\":\"3a591294-4001-4f25-9442-003446eb5fa1\",\"type\":\"Title\"},\"toolbar\":{\"id\":\"c66f95bb-48dc-4265-b58a-67b0002169f6\",\"type\":\"Toolbar\"},\"x_range\":{\"id\":\"8b969190-c23b-407f-a65b-6e983544c3df\",\"type\":\"DataRange1d\"},\"x_scale\":{\"id\":\"0a5d8944-9fe6-45a4-9424-5ef4a7494fd5\",\"type\":\"LinearScale\"},\"y_range\":{\"id\":\"000292ff-3d6f-4f29-945e-6c7f606d8e62\",\"type\":\"DataRange1d\"},\"y_scale\":{\"id\":\"1ab1e3d5-a03b-4d5f-82d7-bdee9ba4d57a\",\"type\":\"LinearScale\"}},\"id\":\"632c2864-8465-4485-b5bd-aea04651d879\",\"subtype\":\"Figure\",\"type\":\"Plot\"},{\"attributes\":{},\"id\":\"1ab1e3d5-a03b-4d5f-82d7-bdee9ba4d57a\",\"type\":\"LinearScale\"},{\"attributes\":{\"label\":{\"value\":\"Predicci\\u00f3n\"},\"renderers\":[{\"id\":\"080ad838-bdf4-4c96-b4f1-864e9a4b23d8\",\"type\":\"GlyphRenderer\"}]},\"id\":\"130fc73f-190b-46ae-b247-409e2bbcfd78\",\"type\":\"LegendItem\"},{\"attributes\":{\"fill_alpha\":{\"value\":0.1},\"fill_color\":{\"value\":\"#1f77b4\"},\"line_alpha\":{\"value\":0.1},\"line_color\":{\"value\":\"#1f77b4\"},\"size\":{\"units\":\"screen\",\"value\":9},\"x\":{\"field\":\"x\"},\"y\":{\"field\":\"y\"}},\"id\":\"af84b627-64d8-49ae-b9b5-fee8a7b0b57b\",\"type\":\"Circle\"},{\"attributes\":{\"align\":\"center\",\"plot\":null,\"text\":\"\",\"text_font_size\":{\"value\":\"20pt\"}},\"id\":\"3a591294-4001-4f25-9442-003446eb5fa1\",\"type\":\"Title\"},{\"attributes\":{\"source\":{\"id\":\"e125a6e0-97e4-4518-b1ab-ab0b36390c03\",\"type\":\"ColumnDataSource\"}},\"id\":\"95d06348-fde0-4929-8c07-8b3ffa889c38\",\"type\":\"CDSView\"},{\"attributes\":{\"dimension\":1,\"plot\":{\"id\":\"632c2864-8465-4485-b5bd-aea04651d879\",\"subtype\":\"Figure\",\"type\":\"Plot\"},\"ticker\":{\"id\":\"a29b654e-e9bb-439e-bc4c-11c6e0885ff6\",\"type\":\"BasicTicker\"}},\"id\":\"677f180c-8be0-424a-8934-2378d4d78ffe\",\"type\":\"Grid\"},{\"attributes\":{},\"id\":\"3f26af4f-8962-4374-8039-e8a9e9f11e79\",\"type\":\"SaveTool\"},{\"attributes\":{\"overlay\":{\"id\":\"2b2a8b00-fa0a-470c-bb64-5553e4370111\",\"type\":\"BoxAnnotation\"}},\"id\":\"1a1def94-cfed-4029-a739-8183fe56011c\",\"type\":\"BoxZoomTool\"},{\"attributes\":{\"data_source\":{\"id\":\"2038b0e3-65b8-4e5d-8883-77c9c01a48de\",\"type\":\"ColumnDataSource\"},\"glyph\":{\"id\":\"59df352a-5a26-4ce1-b936-45487b8ebdf6\",\"type\":\"Line\"},\"hover_glyph\":null,\"muted_glyph\":null,\"nonselection_glyph\":{\"id\":\"94b392f4-ac2a-4b36-b5bd-e00739ae542e\",\"type\":\"Line\"},\"selection_glyph\":null,\"view\":{\"id\":\"c167251a-207e-4067-86d5-121c76e174b7\",\"type\":\"CDSView\"}},\"id\":\"e819813a-4027-45b9-992b-0ad7beafaf6c\",\"type\":\"GlyphRenderer\"},{\"attributes\":{\"source\":{\"id\":\"9c049d80-a1fc-432c-8037-614daaa26d4a\",\"type\":\"ColumnDataSource\"}},\"id\":\"675ba099-f19c-445e-a2db-052e80c4c6fd\",\"type\":\"CDSView\"},{\"attributes\":{},\"id\":\"96dd9e48-89ba-44a2-9128-7b9243765372\",\"type\":\"Selection\"},{\"attributes\":{\"source\":{\"id\":\"9e954a87-3366-4d06-b1f8-e43f94e675cb\",\"type\":\"ColumnDataSource\"}},\"id\":\"bc933f46-c7d8-451b-8401-9818ae3842e1\",\"type\":\"CDSView\"},{\"attributes\":{},\"id\":\"c29b1c55-3cb4-49c3-9355-8c7bcdda9e84\",\"type\":\"BasicTickFormatter\"},{\"attributes\":{\"callback\":null,\"data\":{\"x\":[0,1,2,3,4,5,6,7,8,9,10,11,12,13,14,15,16,17,18,19,20,21,22,23,24,25,26,27,28,29,30,31,32,33,34,35,36,37,38,39,40,41,42,43,44,45,46,47,48,49,50,51,52,53,54,55,56,57,58,59,60,61,62,63,64,65,66,67,68,69,70,71,72,73,74,75,76,77,78,79,80,81,82,83,84,85,86,87,88,89,90,91,92,93,94,95,96,97,98,99,100,101,102,103,104,105,106,107,108,109,110,111,112,113,114,115,116,117,118,119,120,121,122,123,124,125,126,127,128,129,130,131,132,133,134,135,136,137,138,139,140,141,142,143,144,145,146,147,148,149,150,151,152,153,154,155,156,157,158,159,160,161,162,163,164,165,166,167,168,169,170,171,172,173,174,175,176,177,178,179,180,181,182,183,184,185,186,187,188,189,190,191,192,193,194,195,196,197,198,199,200,201,202,203,204,205,206,207,208,209,210,211,212,213,214,215,216,217,218,219,220,221,222,223,224],\"y\":{\"__ndarray__\":\"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\",\"dtype\":\"float64\",\"shape\":[225]}},\"selected\":{\"id\":\"fa980fb1-2e34-4cf7-b316-9919c47bdbef\",\"type\":\"Selection\"},\"selection_policy\":{\"id\":\"7c5760cb-8119-49ab-b435-9fd008251b4d\",\"type\":\"UnionRenderers\"}},\"id\":\"9c049d80-a1fc-432c-8037-614daaa26d4a\",\"type\":\"ColumnDataSource\"},{\"attributes\":{\"callback\":null},\"id\":\"8b969190-c23b-407f-a65b-6e983544c3df\",\"type\":\"DataRange1d\"},{\"attributes\":{\"label\":{\"value\":\"Real\"},\"renderers\":[{\"id\":\"e819813a-4027-45b9-992b-0ad7beafaf6c\",\"type\":\"GlyphRenderer\"}]},\"id\":\"e2b29f92-34f0-42a2-992c-1eebe9fa818d\",\"type\":\"LegendItem\"},{\"attributes\":{\"source\":{\"id\":\"2038b0e3-65b8-4e5d-8883-77c9c01a48de\",\"type\":\"ColumnDataSource\"}},\"id\":\"c167251a-207e-4067-86d5-121c76e174b7\",\"type\":\"CDSView\"},{\"attributes\":{\"plot\":{\"id\":\"632c2864-8465-4485-b5bd-aea04651d879\",\"subtype\":\"Figure\",\"type\":\"Plot\"},\"ticker\":{\"id\":\"ce7496c4-a643-443e-aeb8-9015c2524811\",\"type\":\"BasicTicker\"}},\"id\":\"62c859e3-aaf3-4115-87bd-8e71b419ca64\",\"type\":\"Grid\"},{\"attributes\":{\"data_source\":{\"id\":\"9c049d80-a1fc-432c-8037-614daaa26d4a\",\"type\":\"ColumnDataSource\"},\"glyph\":{\"id\":\"f29d8e4e-3e5b-49d4-8ea1-beb566914324\",\"type\":\"Circle\"},\"hover_glyph\":null,\"muted_glyph\":null,\"nonselection_glyph\":{\"id\":\"af84b627-64d8-49ae-b9b5-fee8a7b0b57b\",\"type\":\"Circle\"},\"selection_glyph\":null,\"view\":{\"id\":\"675ba099-f19c-445e-a2db-052e80c4c6fd\",\"type\":\"CDSView\"}},\"id\":\"fb56fe9c-6acb-4418-bedd-e06d2adedb1c\",\"type\":\"GlyphRenderer\"},{\"attributes\":{\"line_color\":\"rgb(100, 191, 163)\",\"line_width\":3,\"x\":{\"field\":\"x\"},\"y\":{\"field\":\"y\"}},\"id\":\"59df352a-5a26-4ce1-b936-45487b8ebdf6\",\"type\":\"Line\"},{\"attributes\":{},\"id\":\"a7526299-4311-4f1b-924d-696d5043d065\",\"type\":\"HelpTool\"},{\"attributes\":{},\"id\":\"7c5760cb-8119-49ab-b435-9fd008251b4d\",\"type\":\"UnionRenderers\"},{\"attributes\":{\"active_drag\":\"auto\",\"active_inspect\":\"auto\",\"active_scroll\":\"auto\",\"active_tap\":\"auto\",\"tools\":[{\"id\":\"d6b3e342-1ab8-436b-b57a-18acb5a59bb3\",\"type\":\"PanTool\"},{\"id\":\"cd793420-3764-43cb-b462-0ee474305649\",\"type\":\"WheelZoomTool\"},{\"id\":\"1a1def94-cfed-4029-a739-8183fe56011c\",\"type\":\"BoxZoomTool\"},{\"id\":\"3f26af4f-8962-4374-8039-e8a9e9f11e79\",\"type\":\"SaveTool\"},{\"id\":\"ff2b3be4-15e8-4b50-84d2-19af820f90f5\",\"type\":\"ResetTool\"},{\"id\":\"a7526299-4311-4f1b-924d-696d5043d065\",\"type\":\"HelpTool\"}]},\"id\":\"c66f95bb-48dc-4265-b58a-67b0002169f6\",\"type\":\"Toolbar\"},{\"attributes\":{\"fill_alpha\":{\"value\":0.1},\"fill_color\":{\"value\":\"#1f77b4\"},\"line_alpha\":{\"value\":0.1},\"line_color\":{\"value\":\"#1f77b4\"},\"size\":{\"units\":\"screen\",\"value\":9},\"x\":{\"field\":\"x\"},\"y\":{\"field\":\"y\"}},\"id\":\"eb5adcc4-a3e8-4036-8890-a07f9cb2ed61\",\"type\":\"Circle\"},{\"attributes\":{\"fill_alpha\":{\"value\":0.4},\"fill_color\":{\"value\":\"rgb(249, 139, 96)\"},\"line_alpha\":{\"value\":0.4},\"line_color\":{\"value\":\"rgb(249, 139, 96)\"},\"size\":{\"units\":\"screen\",\"value\":9},\"x\":{\"field\":\"x\"},\"y\":{\"field\":\"y\"}},\"id\":\"f29d8e4e-3e5b-49d4-8ea1-beb566914324\",\"type\":\"Circle\"},{\"attributes\":{\"data_source\":{\"id\":\"9e954a87-3366-4d06-b1f8-e43f94e675cb\",\"type\":\"ColumnDataSource\"},\"glyph\":{\"id\":\"8c2e1e14-de43-4dc6-ae7f-e5a8978eb8cd\",\"type\":\"Circle\"},\"hover_glyph\":null,\"muted_glyph\":null,\"nonselection_glyph\":{\"id\":\"eb5adcc4-a3e8-4036-8890-a07f9cb2ed61\",\"type\":\"Circle\"},\"selection_glyph\":null,\"view\":{\"id\":\"bc933f46-c7d8-451b-8401-9818ae3842e1\",\"type\":\"CDSView\"}},\"id\":\"beb2d22d-6964-454e-86ee-0eabee7f119a\",\"type\":\"GlyphRenderer\"},{\"attributes\":{\"formatter\":{\"id\":\"c29b1c55-3cb4-49c3-9355-8c7bcdda9e84\",\"type\":\"BasicTickFormatter\"},\"plot\":{\"id\":\"632c2864-8465-4485-b5bd-aea04651d879\",\"subtype\":\"Figure\",\"type\":\"Plot\"},\"ticker\":{\"id\":\"a29b654e-e9bb-439e-bc4c-11c6e0885ff6\",\"type\":\"BasicTicker\"}},\"id\":\"c50dfb29-20b5-457d-b803-737b219d2df7\",\"type\":\"LinearAxis\"},{\"attributes\":{\"items\":[{\"id\":\"e2b29f92-34f0-42a2-992c-1eebe9fa818d\",\"type\":\"LegendItem\"},{\"id\":\"130fc73f-190b-46ae-b247-409e2bbcfd78\",\"type\":\"LegendItem\"}],\"plot\":{\"id\":\"632c2864-8465-4485-b5bd-aea04651d879\",\"subtype\":\"Figure\",\"type\":\"Plot\"}},\"id\":\"fecb875a-ffe1-44a8-ae2e-4cd909f0e8a2\",\"type\":\"Legend\"},{\"attributes\":{},\"id\":\"d6b3e342-1ab8-436b-b57a-18acb5a59bb3\",\"type\":\"PanTool\"},{\"attributes\":{\"callback\":null,\"data\":{\"x\":[0,1,2,3,4,5,6,7,8,9,10,11,12,13,14,15,16,17,18,19,20,21,22,23,24,25,26,27,28,29,30,31,32,33,34,35,36,37,38,39,40,41,42,43,44,45,46,47,48,49,50,51,52,53,54,55,56,57,58,59,60,61,62,63,64,65,66,67,68,69,70,71,72,73,74,75,76,77,78,79,80,81,82,83,84,85,86,87,88,89,90,91,92,93,94,95,96,97,98,99,100,101,102,103,104,105,106,107,108,109,110,111,112,113,114,115,116,117,118,119,120,121,122,123,124,125,126,127,128,129,130,131,132,133,134,135,136,137,138,139,140,141,142,143,144,145,146,147,148,149,150,151,152,153,154,155,156,157,158,159,160,161,162,163,164,165,166,167,168,169,170,171,172,173,174,175,176,177,178,179,180,181,182,183,184,185,186,187,188,189,190,191,192,193,194,195,196,197,198,199,200,201,202,203,204,205,206,207,208,209,210,211,212,213,214,215,216,217,218,219,220,221,222,223,224],\"y\":{\"__ndarray__\":\"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\",\"dtype\":\"float64\",\"shape\":[225]}},\"selected\":{\"id\":\"600714da-a914-4eff-a4be-b441992ff73c\",\"type\":\"Selection\"},\"selection_policy\":{\"id\":\"37551efe-c56d-49a4-a0ac-226d2d6ff70d\",\"type\":\"UnionRenderers\"}},\"id\":\"e125a6e0-97e4-4518-b1ab-ab0b36390c03\",\"type\":\"ColumnDataSource\"},{\"attributes\":{\"line_color\":\"rgb(249, 139, 96)\",\"line_width\":2,\"x\":{\"field\":\"x\"},\"y\":{\"field\":\"y\"}},\"id\":\"f89346d6-766a-4304-8760-5c71136aac9a\",\"type\":\"Line\"},{\"attributes\":{},\"id\":\"a29b654e-e9bb-439e-bc4c-11c6e0885ff6\",\"type\":\"BasicTicker\"},{\"attributes\":{},\"id\":\"cd793420-3764-43cb-b462-0ee474305649\",\"type\":\"WheelZoomTool\"},{\"attributes\":{\"callback\":null},\"id\":\"000292ff-3d6f-4f29-945e-6c7f606d8e62\",\"type\":\"DataRange1d\"},{\"attributes\":{},\"id\":\"4e99947b-f335-4c25-b0dd-fd217fb97892\",\"type\":\"BasicTickFormatter\"},{\"attributes\":{},\"id\":\"0a5d8944-9fe6-45a4-9424-5ef4a7494fd5\",\"type\":\"LinearScale\"},{\"attributes\":{},\"id\":\"600714da-a914-4eff-a4be-b441992ff73c\",\"type\":\"Selection\"},{\"attributes\":{},\"id\":\"fa980fb1-2e34-4cf7-b316-9919c47bdbef\",\"type\":\"Selection\"},{\"attributes\":{\"callback\":null,\"data\":{\"x\":[0],\"y\":[0]},\"selected\":{\"id\":\"ec747d48-f091-44c4-a251-46ca80392084\",\"type\":\"Selection\"},\"selection_policy\":{\"id\":\"f4328d48-1f43-476d-8b98-b59e1c58b70d\",\"type\":\"UnionRenderers\"}},\"id\":\"9e954a87-3366-4d06-b1f8-e43f94e675cb\",\"type\":\"ColumnDataSource\"},{\"attributes\":{\"data_source\":{\"id\":\"e125a6e0-97e4-4518-b1ab-ab0b36390c03\",\"type\":\"ColumnDataSource\"},\"glyph\":{\"id\":\"f89346d6-766a-4304-8760-5c71136aac9a\",\"type\":\"Line\"},\"hover_glyph\":null,\"muted_glyph\":null,\"nonselection_glyph\":{\"id\":\"fbe01aa0-6522-4cf6-97ef-ec49989abe61\",\"type\":\"Line\"},\"selection_glyph\":null,\"view\":{\"id\":\"95d06348-fde0-4929-8c07-8b3ffa889c38\",\"type\":\"CDSView\"}},\"id\":\"080ad838-bdf4-4c96-b4f1-864e9a4b23d8\",\"type\":\"GlyphRenderer\"},{\"attributes\":{\"line_alpha\":0.1,\"line_color\":\"#1f77b4\",\"line_width\":2,\"x\":{\"field\":\"x\"},\"y\":{\"field\":\"y\"}},\"id\":\"fbe01aa0-6522-4cf6-97ef-ec49989abe61\",\"type\":\"Line\"},{\"attributes\":{\"bottom_units\":\"screen\",\"fill_alpha\":{\"value\":0.5},\"fill_color\":{\"value\":\"lightgrey\"},\"left_units\":\"screen\",\"level\":\"overlay\",\"line_alpha\":{\"value\":1.0},\"line_color\":{\"value\":\"black\"},\"line_dash\":[4,4],\"line_width\":{\"value\":2},\"plot\":null,\"render_mode\":\"css\",\"right_units\":\"screen\",\"top_units\":\"screen\"},\"id\":\"2b2a8b00-fa0a-470c-bb64-5553e4370111\",\"type\":\"BoxAnnotation\"},{\"attributes\":{},\"id\":\"ce7496c4-a643-443e-aeb8-9015c2524811\",\"type\":\"BasicTicker\"},{\"attributes\":{\"fill_alpha\":{\"value\":0.6},\"fill_color\":{\"value\":\"rgb(100, 191, 163)\"},\"line_alpha\":{\"value\":0.6},\"line_color\":{\"value\":\"rgb(100, 191, 163)\"},\"size\":{\"units\":\"screen\",\"value\":9},\"x\":{\"field\":\"x\"},\"y\":{\"field\":\"y\"}},\"id\":\"8c2e1e14-de43-4dc6-ae7f-e5a8978eb8cd\",\"type\":\"Circle\"},{\"attributes\":{},\"id\":\"ec747d48-f091-44c4-a251-46ca80392084\",\"type\":\"Selection\"},{\"attributes\":{},\"id\":\"ed9bf904-a7ea-4f56-b364-f0a21e200aac\",\"type\":\"UnionRenderers\"},{\"attributes\":{\"line_alpha\":0.1,\"line_color\":\"#1f77b4\",\"line_width\":3,\"x\":{\"field\":\"x\"},\"y\":{\"field\":\"y\"}},\"id\":\"94b392f4-ac2a-4b36-b5bd-e00739ae542e\",\"type\":\"Line\"},{\"attributes\":{},\"id\":\"37551efe-c56d-49a4-a0ac-226d2d6ff70d\",\"type\":\"UnionRenderers\"},{\"attributes\":{},\"id\":\"f4328d48-1f43-476d-8b98-b59e1c58b70d\",\"type\":\"UnionRenderers\"}],\"root_ids\":[\"632c2864-8465-4485-b5bd-aea04651d879\"]},\"title\":\"Bokeh Application\",\"version\":\"0.12.16\"}};\n",
       "  var render_items = [{\"docid\":\"a228cdc1-b09c-401a-90d3-a0212d50937c\",\"elementid\":\"9003f001-3655-4703-b1de-4b095b55669c\",\"modelid\":\"632c2864-8465-4485-b5bd-aea04651d879\"}];\n",
       "  root.Bokeh.embed.embed_items_notebook(docs_json, render_items);\n",
       "\n",
       "  }\n",
       "  if (root.Bokeh !== undefined) {\n",
       "    embed_document(root);\n",
       "  } else {\n",
       "    var attempts = 0;\n",
       "    var timer = setInterval(function(root) {\n",
       "      if (root.Bokeh !== undefined) {\n",
       "        embed_document(root);\n",
       "        clearInterval(timer);\n",
       "      }\n",
       "      attempts++;\n",
       "      if (attempts > 100) {\n",
       "        console.log(\"Bokeh: ERROR: Unable to run BokehJS code because BokehJS library is missing\")\n",
       "        clearInterval(timer);\n",
       "      }\n",
       "    }, 10, root)\n",
       "  }\n",
       "})(window);"
      ],
      "application/vnd.bokehjs_exec.v0+json": ""
     },
     "metadata": {
      "application/vnd.bokehjs_exec.v0+json": {
       "id": "632c2864-8465-4485-b5bd-aea04651d879"
      }
     },
     "output_type": "display_data"
    }
   ],
   "source": [
    "plot_predict(y_real=[0], y_pred=model.predict(X_to_pred))"
   ]
  },
  {
   "cell_type": "code",
   "execution_count": null,
   "metadata": {},
   "outputs": [],
   "source": []
  }
 ],
 "metadata": {
  "kernelspec": {
   "display_name": "Python 2",
   "language": "python",
   "name": "python2"
  },
  "language_info": {
   "codemirror_mode": {
    "name": "ipython",
    "version": 2
   },
   "file_extension": ".py",
   "mimetype": "text/x-python",
   "name": "python",
   "nbconvert_exporter": "python",
   "pygments_lexer": "ipython2",
   "version": "2.7.15"
  }
 },
 "nbformat": 4,
 "nbformat_minor": 2
}
