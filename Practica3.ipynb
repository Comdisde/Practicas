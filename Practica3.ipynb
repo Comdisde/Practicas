{
 "cells": [
  {
   "cell_type": "code",
   "execution_count": 60,
   "metadata": {},
   "outputs": [
    {
     "data": {
      "text/html": [
       "\n",
       "    <div class=\"bk-root\">\n",
       "        <a href=\"https://bokeh.pydata.org\" target=\"_blank\" class=\"bk-logo bk-logo-small bk-logo-notebook\"></a>\n",
       "        <span id=\"92289b86-3c0c-4ccc-9648-7a87d563c8db\">Loading BokehJS ...</span>\n",
       "    </div>"
      ]
     },
     "metadata": {},
     "output_type": "display_data"
    },
    {
     "data": {
      "application/javascript": [
       "\n",
       "(function(root) {\n",
       "  function now() {\n",
       "    return new Date();\n",
       "  }\n",
       "\n",
       "  var force = true;\n",
       "\n",
       "  if (typeof (root._bokeh_onload_callbacks) === \"undefined\" || force === true) {\n",
       "    root._bokeh_onload_callbacks = [];\n",
       "    root._bokeh_is_loading = undefined;\n",
       "  }\n",
       "\n",
       "  var JS_MIME_TYPE = 'application/javascript';\n",
       "  var HTML_MIME_TYPE = 'text/html';\n",
       "  var EXEC_MIME_TYPE = 'application/vnd.bokehjs_exec.v0+json';\n",
       "  var CLASS_NAME = 'output_bokeh rendered_html';\n",
       "\n",
       "  /**\n",
       "   * Render data to the DOM node\n",
       "   */\n",
       "  function render(props, node) {\n",
       "    var script = document.createElement(\"script\");\n",
       "    node.appendChild(script);\n",
       "  }\n",
       "\n",
       "  /**\n",
       "   * Handle when an output is cleared or removed\n",
       "   */\n",
       "  function handleClearOutput(event, handle) {\n",
       "    var cell = handle.cell;\n",
       "\n",
       "    var id = cell.output_area._bokeh_element_id;\n",
       "    var server_id = cell.output_area._bokeh_server_id;\n",
       "    // Clean up Bokeh references\n",
       "    if (id !== undefined) {\n",
       "      Bokeh.index[id].model.document.clear();\n",
       "      delete Bokeh.index[id];\n",
       "    }\n",
       "\n",
       "    if (server_id !== undefined) {\n",
       "      // Clean up Bokeh references\n",
       "      var cmd = \"from bokeh.io.state import curstate; print(curstate().uuid_to_server['\" + server_id + \"'].get_sessions()[0].document.roots[0]._id)\";\n",
       "      cell.notebook.kernel.execute(cmd, {\n",
       "        iopub: {\n",
       "          output: function(msg) {\n",
       "            var element_id = msg.content.text.trim();\n",
       "            Bokeh.index[element_id].model.document.clear();\n",
       "            delete Bokeh.index[element_id];\n",
       "          }\n",
       "        }\n",
       "      });\n",
       "      // Destroy server and session\n",
       "      var cmd = \"import bokeh.io.notebook as ion; ion.destroy_server('\" + server_id + \"')\";\n",
       "      cell.notebook.kernel.execute(cmd);\n",
       "    }\n",
       "  }\n",
       "\n",
       "  /**\n",
       "   * Handle when a new output is added\n",
       "   */\n",
       "  function handleAddOutput(event, handle) {\n",
       "    var output_area = handle.output_area;\n",
       "    var output = handle.output;\n",
       "\n",
       "    // limit handleAddOutput to display_data with EXEC_MIME_TYPE content only\n",
       "    if ((output.output_type != \"display_data\") || (!output.data.hasOwnProperty(EXEC_MIME_TYPE))) {\n",
       "      return\n",
       "    }\n",
       "\n",
       "    var toinsert = output_area.element.find(\".\" + CLASS_NAME.split(' ')[0]);\n",
       "\n",
       "    if (output.metadata[EXEC_MIME_TYPE][\"id\"] !== undefined) {\n",
       "      toinsert[toinsert.length - 1].firstChild.textContent = output.data[JS_MIME_TYPE];\n",
       "      // store reference to embed id on output_area\n",
       "      output_area._bokeh_element_id = output.metadata[EXEC_MIME_TYPE][\"id\"];\n",
       "    }\n",
       "    if (output.metadata[EXEC_MIME_TYPE][\"server_id\"] !== undefined) {\n",
       "      var bk_div = document.createElement(\"div\");\n",
       "      bk_div.innerHTML = output.data[HTML_MIME_TYPE];\n",
       "      var script_attrs = bk_div.children[0].attributes;\n",
       "      for (var i = 0; i < script_attrs.length; i++) {\n",
       "        toinsert[toinsert.length - 1].firstChild.setAttribute(script_attrs[i].name, script_attrs[i].value);\n",
       "      }\n",
       "      // store reference to server id on output_area\n",
       "      output_area._bokeh_server_id = output.metadata[EXEC_MIME_TYPE][\"server_id\"];\n",
       "    }\n",
       "  }\n",
       "\n",
       "  function register_renderer(events, OutputArea) {\n",
       "\n",
       "    function append_mime(data, metadata, element) {\n",
       "      // create a DOM node to render to\n",
       "      var toinsert = this.create_output_subarea(\n",
       "        metadata,\n",
       "        CLASS_NAME,\n",
       "        EXEC_MIME_TYPE\n",
       "      );\n",
       "      this.keyboard_manager.register_events(toinsert);\n",
       "      // Render to node\n",
       "      var props = {data: data, metadata: metadata[EXEC_MIME_TYPE]};\n",
       "      render(props, toinsert[toinsert.length - 1]);\n",
       "      element.append(toinsert);\n",
       "      return toinsert\n",
       "    }\n",
       "\n",
       "    /* Handle when an output is cleared or removed */\n",
       "    events.on('clear_output.CodeCell', handleClearOutput);\n",
       "    events.on('delete.Cell', handleClearOutput);\n",
       "\n",
       "    /* Handle when a new output is added */\n",
       "    events.on('output_added.OutputArea', handleAddOutput);\n",
       "\n",
       "    /**\n",
       "     * Register the mime type and append_mime function with output_area\n",
       "     */\n",
       "    OutputArea.prototype.register_mime_type(EXEC_MIME_TYPE, append_mime, {\n",
       "      /* Is output safe? */\n",
       "      safe: true,\n",
       "      /* Index of renderer in `output_area.display_order` */\n",
       "      index: 0\n",
       "    });\n",
       "  }\n",
       "\n",
       "  // register the mime type if in Jupyter Notebook environment and previously unregistered\n",
       "  if (root.Jupyter !== undefined) {\n",
       "    var events = require('base/js/events');\n",
       "    var OutputArea = require('notebook/js/outputarea').OutputArea;\n",
       "\n",
       "    if (OutputArea.prototype.mime_types().indexOf(EXEC_MIME_TYPE) == -1) {\n",
       "      register_renderer(events, OutputArea);\n",
       "    }\n",
       "  }\n",
       "\n",
       "  \n",
       "  if (typeof (root._bokeh_timeout) === \"undefined\" || force === true) {\n",
       "    root._bokeh_timeout = Date.now() + 5000;\n",
       "    root._bokeh_failed_load = false;\n",
       "  }\n",
       "\n",
       "  var NB_LOAD_WARNING = {'data': {'text/html':\n",
       "     \"<div style='background-color: #fdd'>\\n\"+\n",
       "     \"<p>\\n\"+\n",
       "     \"BokehJS does not appear to have successfully loaded. If loading BokehJS from CDN, this \\n\"+\n",
       "     \"may be due to a slow or bad network connection. Possible fixes:\\n\"+\n",
       "     \"</p>\\n\"+\n",
       "     \"<ul>\\n\"+\n",
       "     \"<li>re-rerun `output_notebook()` to attempt to load from CDN again, or</li>\\n\"+\n",
       "     \"<li>use INLINE resources instead, as so:</li>\\n\"+\n",
       "     \"</ul>\\n\"+\n",
       "     \"<code>\\n\"+\n",
       "     \"from bokeh.resources import INLINE\\n\"+\n",
       "     \"output_notebook(resources=INLINE)\\n\"+\n",
       "     \"</code>\\n\"+\n",
       "     \"</div>\"}};\n",
       "\n",
       "  function display_loaded() {\n",
       "    var el = document.getElementById(\"92289b86-3c0c-4ccc-9648-7a87d563c8db\");\n",
       "    if (el != null) {\n",
       "      el.textContent = \"BokehJS is loading...\";\n",
       "    }\n",
       "    if (root.Bokeh !== undefined) {\n",
       "      if (el != null) {\n",
       "        el.textContent = \"BokehJS \" + root.Bokeh.version + \" successfully loaded.\";\n",
       "      }\n",
       "    } else if (Date.now() < root._bokeh_timeout) {\n",
       "      setTimeout(display_loaded, 100)\n",
       "    }\n",
       "  }\n",
       "\n",
       "\n",
       "  function run_callbacks() {\n",
       "    try {\n",
       "      root._bokeh_onload_callbacks.forEach(function(callback) { callback() });\n",
       "    }\n",
       "    finally {\n",
       "      delete root._bokeh_onload_callbacks\n",
       "    }\n",
       "    console.info(\"Bokeh: all callbacks have finished\");\n",
       "  }\n",
       "\n",
       "  function load_libs(js_urls, callback) {\n",
       "    root._bokeh_onload_callbacks.push(callback);\n",
       "    if (root._bokeh_is_loading > 0) {\n",
       "      console.log(\"Bokeh: BokehJS is being loaded, scheduling callback at\", now());\n",
       "      return null;\n",
       "    }\n",
       "    if (js_urls == null || js_urls.length === 0) {\n",
       "      run_callbacks();\n",
       "      return null;\n",
       "    }\n",
       "    console.log(\"Bokeh: BokehJS not loaded, scheduling load and callback at\", now());\n",
       "    root._bokeh_is_loading = js_urls.length;\n",
       "    for (var i = 0; i < js_urls.length; i++) {\n",
       "      var url = js_urls[i];\n",
       "      var s = document.createElement('script');\n",
       "      s.src = url;\n",
       "      s.async = false;\n",
       "      s.onreadystatechange = s.onload = function() {\n",
       "        root._bokeh_is_loading--;\n",
       "        if (root._bokeh_is_loading === 0) {\n",
       "          console.log(\"Bokeh: all BokehJS libraries loaded\");\n",
       "          run_callbacks()\n",
       "        }\n",
       "      };\n",
       "      s.onerror = function() {\n",
       "        console.warn(\"failed to load library \" + url);\n",
       "      };\n",
       "      console.log(\"Bokeh: injecting script tag for BokehJS library: \", url);\n",
       "      document.getElementsByTagName(\"head\")[0].appendChild(s);\n",
       "    }\n",
       "  };var element = document.getElementById(\"92289b86-3c0c-4ccc-9648-7a87d563c8db\");\n",
       "  if (element == null) {\n",
       "    console.log(\"Bokeh: ERROR: autoload.js configured with elementid '92289b86-3c0c-4ccc-9648-7a87d563c8db' but no matching script tag was found. \")\n",
       "    return false;\n",
       "  }\n",
       "\n",
       "  var js_urls = [\"https://cdn.pydata.org/bokeh/release/bokeh-0.12.16.min.js\", \"https://cdn.pydata.org/bokeh/release/bokeh-widgets-0.12.16.min.js\", \"https://cdn.pydata.org/bokeh/release/bokeh-tables-0.12.16.min.js\", \"https://cdn.pydata.org/bokeh/release/bokeh-gl-0.12.16.min.js\"];\n",
       "\n",
       "  var inline_js = [\n",
       "    function(Bokeh) {\n",
       "      Bokeh.set_log_level(\"info\");\n",
       "    },\n",
       "    \n",
       "    function(Bokeh) {\n",
       "      \n",
       "    },\n",
       "    function(Bokeh) {\n",
       "      console.log(\"Bokeh: injecting CSS: https://cdn.pydata.org/bokeh/release/bokeh-0.12.16.min.css\");\n",
       "      Bokeh.embed.inject_css(\"https://cdn.pydata.org/bokeh/release/bokeh-0.12.16.min.css\");\n",
       "      console.log(\"Bokeh: injecting CSS: https://cdn.pydata.org/bokeh/release/bokeh-widgets-0.12.16.min.css\");\n",
       "      Bokeh.embed.inject_css(\"https://cdn.pydata.org/bokeh/release/bokeh-widgets-0.12.16.min.css\");\n",
       "      console.log(\"Bokeh: injecting CSS: https://cdn.pydata.org/bokeh/release/bokeh-tables-0.12.16.min.css\");\n",
       "      Bokeh.embed.inject_css(\"https://cdn.pydata.org/bokeh/release/bokeh-tables-0.12.16.min.css\");\n",
       "    }\n",
       "  ];\n",
       "\n",
       "  function run_inline_js() {\n",
       "    \n",
       "    if ((root.Bokeh !== undefined) || (force === true)) {\n",
       "      for (var i = 0; i < inline_js.length; i++) {\n",
       "        inline_js[i].call(root, root.Bokeh);\n",
       "      }if (force === true) {\n",
       "        display_loaded();\n",
       "      }} else if (Date.now() < root._bokeh_timeout) {\n",
       "      setTimeout(run_inline_js, 100);\n",
       "    } else if (!root._bokeh_failed_load) {\n",
       "      console.log(\"Bokeh: BokehJS failed to load within specified timeout.\");\n",
       "      root._bokeh_failed_load = true;\n",
       "    } else if (force !== true) {\n",
       "      var cell = $(document.getElementById(\"92289b86-3c0c-4ccc-9648-7a87d563c8db\")).parents('.cell').data().cell;\n",
       "      cell.output_area.append_execute_result(NB_LOAD_WARNING)\n",
       "    }\n",
       "\n",
       "  }\n",
       "\n",
       "  if (root._bokeh_is_loading === 0) {\n",
       "    console.log(\"Bokeh: BokehJS loaded, going straight to plotting\");\n",
       "    run_inline_js();\n",
       "  } else {\n",
       "    load_libs(js_urls, function() {\n",
       "      console.log(\"Bokeh: BokehJS plotting callback run at\", now());\n",
       "      run_inline_js();\n",
       "    });\n",
       "  }\n",
       "}(window));"
      ],
      "application/vnd.bokehjs_load.v0+json": "\n(function(root) {\n  function now() {\n    return new Date();\n  }\n\n  var force = true;\n\n  if (typeof (root._bokeh_onload_callbacks) === \"undefined\" || force === true) {\n    root._bokeh_onload_callbacks = [];\n    root._bokeh_is_loading = undefined;\n  }\n\n  \n\n  \n  if (typeof (root._bokeh_timeout) === \"undefined\" || force === true) {\n    root._bokeh_timeout = Date.now() + 5000;\n    root._bokeh_failed_load = false;\n  }\n\n  var NB_LOAD_WARNING = {'data': {'text/html':\n     \"<div style='background-color: #fdd'>\\n\"+\n     \"<p>\\n\"+\n     \"BokehJS does not appear to have successfully loaded. If loading BokehJS from CDN, this \\n\"+\n     \"may be due to a slow or bad network connection. Possible fixes:\\n\"+\n     \"</p>\\n\"+\n     \"<ul>\\n\"+\n     \"<li>re-rerun `output_notebook()` to attempt to load from CDN again, or</li>\\n\"+\n     \"<li>use INLINE resources instead, as so:</li>\\n\"+\n     \"</ul>\\n\"+\n     \"<code>\\n\"+\n     \"from bokeh.resources import INLINE\\n\"+\n     \"output_notebook(resources=INLINE)\\n\"+\n     \"</code>\\n\"+\n     \"</div>\"}};\n\n  function display_loaded() {\n    var el = document.getElementById(\"92289b86-3c0c-4ccc-9648-7a87d563c8db\");\n    if (el != null) {\n      el.textContent = \"BokehJS is loading...\";\n    }\n    if (root.Bokeh !== undefined) {\n      if (el != null) {\n        el.textContent = \"BokehJS \" + root.Bokeh.version + \" successfully loaded.\";\n      }\n    } else if (Date.now() < root._bokeh_timeout) {\n      setTimeout(display_loaded, 100)\n    }\n  }\n\n\n  function run_callbacks() {\n    try {\n      root._bokeh_onload_callbacks.forEach(function(callback) { callback() });\n    }\n    finally {\n      delete root._bokeh_onload_callbacks\n    }\n    console.info(\"Bokeh: all callbacks have finished\");\n  }\n\n  function load_libs(js_urls, callback) {\n    root._bokeh_onload_callbacks.push(callback);\n    if (root._bokeh_is_loading > 0) {\n      console.log(\"Bokeh: BokehJS is being loaded, scheduling callback at\", now());\n      return null;\n    }\n    if (js_urls == null || js_urls.length === 0) {\n      run_callbacks();\n      return null;\n    }\n    console.log(\"Bokeh: BokehJS not loaded, scheduling load and callback at\", now());\n    root._bokeh_is_loading = js_urls.length;\n    for (var i = 0; i < js_urls.length; i++) {\n      var url = js_urls[i];\n      var s = document.createElement('script');\n      s.src = url;\n      s.async = false;\n      s.onreadystatechange = s.onload = function() {\n        root._bokeh_is_loading--;\n        if (root._bokeh_is_loading === 0) {\n          console.log(\"Bokeh: all BokehJS libraries loaded\");\n          run_callbacks()\n        }\n      };\n      s.onerror = function() {\n        console.warn(\"failed to load library \" + url);\n      };\n      console.log(\"Bokeh: injecting script tag for BokehJS library: \", url);\n      document.getElementsByTagName(\"head\")[0].appendChild(s);\n    }\n  };var element = document.getElementById(\"92289b86-3c0c-4ccc-9648-7a87d563c8db\");\n  if (element == null) {\n    console.log(\"Bokeh: ERROR: autoload.js configured with elementid '92289b86-3c0c-4ccc-9648-7a87d563c8db' but no matching script tag was found. \")\n    return false;\n  }\n\n  var js_urls = [\"https://cdn.pydata.org/bokeh/release/bokeh-0.12.16.min.js\", \"https://cdn.pydata.org/bokeh/release/bokeh-widgets-0.12.16.min.js\", \"https://cdn.pydata.org/bokeh/release/bokeh-tables-0.12.16.min.js\", \"https://cdn.pydata.org/bokeh/release/bokeh-gl-0.12.16.min.js\"];\n\n  var inline_js = [\n    function(Bokeh) {\n      Bokeh.set_log_level(\"info\");\n    },\n    \n    function(Bokeh) {\n      \n    },\n    function(Bokeh) {\n      console.log(\"Bokeh: injecting CSS: https://cdn.pydata.org/bokeh/release/bokeh-0.12.16.min.css\");\n      Bokeh.embed.inject_css(\"https://cdn.pydata.org/bokeh/release/bokeh-0.12.16.min.css\");\n      console.log(\"Bokeh: injecting CSS: https://cdn.pydata.org/bokeh/release/bokeh-widgets-0.12.16.min.css\");\n      Bokeh.embed.inject_css(\"https://cdn.pydata.org/bokeh/release/bokeh-widgets-0.12.16.min.css\");\n      console.log(\"Bokeh: injecting CSS: https://cdn.pydata.org/bokeh/release/bokeh-tables-0.12.16.min.css\");\n      Bokeh.embed.inject_css(\"https://cdn.pydata.org/bokeh/release/bokeh-tables-0.12.16.min.css\");\n    }\n  ];\n\n  function run_inline_js() {\n    \n    if ((root.Bokeh !== undefined) || (force === true)) {\n      for (var i = 0; i < inline_js.length; i++) {\n        inline_js[i].call(root, root.Bokeh);\n      }if (force === true) {\n        display_loaded();\n      }} else if (Date.now() < root._bokeh_timeout) {\n      setTimeout(run_inline_js, 100);\n    } else if (!root._bokeh_failed_load) {\n      console.log(\"Bokeh: BokehJS failed to load within specified timeout.\");\n      root._bokeh_failed_load = true;\n    } else if (force !== true) {\n      var cell = $(document.getElementById(\"92289b86-3c0c-4ccc-9648-7a87d563c8db\")).parents('.cell').data().cell;\n      cell.output_area.append_execute_result(NB_LOAD_WARNING)\n    }\n\n  }\n\n  if (root._bokeh_is_loading === 0) {\n    console.log(\"Bokeh: BokehJS loaded, going straight to plotting\");\n    run_inline_js();\n  } else {\n    load_libs(js_urls, function() {\n      console.log(\"Bokeh: BokehJS plotting callback run at\", now());\n      run_inline_js();\n    });\n  }\n}(window));"
     },
     "metadata": {},
     "output_type": "display_data"
    }
   ],
   "source": [
    "import pandas as pd\n",
    "import numpy as np\n",
    "import matplotlib.pyplot as plt\n",
    "import os\n",
    "\n",
    "from bokeh.io import output_notebook, show\n",
    "from bokeh.layouts import gridplot\n",
    "from bokeh.plotting import figure\n",
    "output_notebook()\n",
    "from Tools import mean_st,replace_punctuation, plot_predict\n",
    "\n",
    "%matplotlib inline"
   ]
  },
  {
   "cell_type": "code",
   "execution_count": 2,
   "metadata": {},
   "outputs": [],
   "source": [
    "ruta=\"/home/comdisde/Documentos/Data/AccionesMexico/\""
   ]
  },
  {
   "cell_type": "code",
   "execution_count": 3,
   "metadata": {
    "scrolled": true
   },
   "outputs": [
    {
     "name": "stdout",
     "output_type": "stream",
     "text": [
      "df_C Error_Cierrre (660, 19)\n",
      "df_BSMXB  (663, 19)\n",
      "df_CMXCPO  (663, 19)\n",
      "df_ALSEA  (663, 19)\n",
      "df_PENOLES  (663, 19)\n",
      "df_BIMBOA  (663, 19)\n"
     ]
    }
   ],
   "source": [
    "for archivo in os.listdir(ruta):\n",
    "    if 'Datos hist\\xc3\\xb3ricos ' in archivo:\n",
    "        os.rename(ruta+archivo, ruta+archivo.replace('Datos hist\\xc3\\xb3ricos ',\"\"))\n",
    "        print archivo.replace('Datos hist\\xc3\\xb3ricos ',\"\")\n",
    "    \n",
    "    \n",
    "    nmb=archivo.replace(\".csv\",\"\")\n",
    "    \n",
    "    exec(\"df_%s=pd.read_csv('%s')[['Fecha','Cierre','Apertura','Vol.']]\" %(nmb,ruta+archivo))\n",
    "    \n",
    "    \n",
    "    \n",
    "    exec(\"df_%s['Fecha']=pd.to_datetime(df_%s['Fecha'].map(lambda x: (x[3:5]+'/'+x[:2]+'/'+x[-4:])))\" %(nmb\n",
    "                                                           ,nmb))\n",
    "    \n",
    "    exec(\"df_%s['Dia']=df_%s.Fecha.dt.day\" %(nmb,nmb))\n",
    "    exec(\"df_%s['Mes']=df_%s.Fecha.dt.month\" %(nmb,nmb))\n",
    "   \n",
    "\n",
    "    exec('df_%s[\"Vol.\"]=df_%s[\"Vol.\"].iloc[:-1].map(lambda x: float(x[:-1])*1000 if x[-1]==\"K\" else float(x[:-1])*1000000)'\n",
    "        %(nmb,nmb))\n",
    "    \n",
    "    exec(\"aux=df_%s\" %nmb)\n",
    "    aux[\"Vol. anterior\"]=[np.nan]+[x for x in aux[\"Vol.\"].iloc[:-1]]\n",
    "    aux[\"Cierre anterior\"]=[np.nan]+[x for x in aux[\"Cierre\"].iloc[:-1]]\n",
    "    \n",
    "    control=\"Error_Cierrre\"\n",
    "    \n",
    "    try:\n",
    "        aux.Cierre=aux.Cierre.map(replace_punctuation).map(lambda x: x[:-2]+\".\"+x[-2:]).astype(float)\n",
    "    except: control= \"\"\n",
    "    \n",
    "    exec('df_%s=mean_st(dfr=df_%s, target=\"Cierre\",n=[2,5,7,10]).iloc[10:].reset_index(drop=True)' \n",
    "         %(nmb,nmb))\n",
    "    \n",
    "    exec(\"\"\"df_%s=df_%s[['Fecha','Vol.',\"Apertura\", \"Dia\", \"Mes\", \"Vol. anterior\", \n",
    "               \"Cierre anterior\"]+[x for x in df_C.columns if \"ob\" in x]+[\"Cierre\"]]\"\"\" %(nmb,nmb))\n",
    "    \n",
    "    \n",
    "    for k in range(1,4):\n",
    "        exec('df_%s[\"Cierre_dia%d\"]=df_%s.Cierre.tolist()[%d:]+[np.nan for x in range(%d)]' \n",
    "             %(nmb, k+1,nmb , k, k) )\n",
    "    \n",
    "    \n",
    "    exec('df_%s.rename(columns={\"Cierre\":\"Cierre_dia1\"}, inplace=True)' %nmb)\n",
    "    #del aux\n",
    "    print \"df_%s\" %(nmb), control,\n",
    "    exec(\"print df_%s.shape\" %(nmb))\n",
    "    "
   ]
  },
  {
   "cell_type": "code",
   "execution_count": 40,
   "metadata": {},
   "outputs": [],
   "source": [
    "from sklearn.preprocessing import  MinMaxScaler\n",
    "from sklearn.model_selection import train_test_split, GridSearchCV,RandomizedSearchCV\n",
    "from sklearn.ensemble import RandomForestRegressor, ExtraTreesRegressor\n",
    "from sklearn.svm import SVR\n",
    "from sklearn.metrics import r2_score, mean_absolute_error\n",
    "from xgboost import XGBRegressor"
   ]
  },
  {
   "cell_type": "code",
   "execution_count": 41,
   "metadata": {},
   "outputs": [],
   "source": [
    "Cierres=[\"Cierre_dia%d\" %x for x in range(1,5)]"
   ]
  },
  {
   "cell_type": "code",
   "execution_count": 62,
   "metadata": {
    "scrolled": false
   },
   "outputs": [
    {
     "name": "stdout",
     "output_type": "stream",
     "text": [
      "(663, 13) (663, 1)\n",
      "Error con muestra de entrenamiento: 99.38%\n",
      "Error con muestra de prueba: 97.52%\n",
      "(662, 13) (662, 1)\n",
      "Error con muestra de entrenamiento: 99.04%\n",
      "Error con muestra de prueba: 96.31%\n",
      "(661, 13) (661, 1)\n",
      "Error con muestra de entrenamiento: 98.63%\n",
      "Error con muestra de prueba: 95.80%\n",
      "(660, 13) (660, 1)\n",
      "Error con muestra de entrenamiento: 98.56%\n",
      "Error con muestra de prueba: 94.98%\n"
     ]
    }
   ],
   "source": [
    "dic_modelos={}\n",
    "for dia in range(len(Cierres)): \n",
    "    df=df_BIMBOA.copy()\n",
    "    \n",
    "    if dia==0:X=df[[x for x in df.columns if not(\"Cierre_dia\") in x]].iloc[:,2:].values\n",
    "    else: X=df[[x for x in df.columns if not(\"Cierre_dia\") in x]].iloc[:-dia,2:].values\n",
    "    \n",
    "    y=df[[\"Cierre_dia%d\" %(dia+1)]].dropna().values.reshape(-1,1)\n",
    "    \n",
    "    print X.shape,y.shape\n",
    "\n",
    "    \n",
    "    scx = MinMaxScaler()\n",
    "    scy = MinMaxScaler()\n",
    "    scx.fit(X)\n",
    "    scy.fit(y)\n",
    "    \n",
    "    Xs = scx.transform(X)\n",
    "    ys = scy.transform(y)\n",
    "    \n",
    "    Xt,Xv,yt,yv = train_test_split(Xs,ys,train_size=0.7, random_state=0)\n",
    "    \n",
    "    dic_modelos[\"X_dia%d\" %(dia+1)]=X\n",
    "    dic_modelos[\"y_dia%d\" %(dia+1)]=y \n",
    "    dic_modelos[\"Xs_dia%d\" %(dia+1)]=Xs\n",
    "    dic_modelos[\"ys_dia%d\" %(dia+1)]=ys\n",
    "    dic_modelos[\"scx_dia%d\" %(dia+1)]=scx\n",
    "    dic_modelos[\"scy_dia%d\" %(dia+1)]=scy\n",
    "    model=XGBRegressor()\n",
    "    model.fit(Xt,yt)\n",
    "    print\"Error con muestra de entrenamiento: {0:.2f}%\".format(100*r2_score(y_pred=model.predict(Xt),y_true=yt)) \n",
    "    print \"Error con muestra de prueba: {0:.2f}%\".format(100*r2_score(y_pred=model.predict(Xv),y_true=yv))\n",
    "\n",
    "    "
   ]
  },
  {
   "cell_type": "code",
   "execution_count": 134,
   "metadata": {},
   "outputs": [
    {
     "name": "stdout",
     "output_type": "stream",
     "text": [
      "Error con muestra de entrenamiento: 99.38%\n",
      "Error con muestra de prueba: 97.52%\n"
     ]
    }
   ],
   "source": [
    "model=XGBRegressor()\n",
    "model.fit(Xt,yt)\n",
    "print\"Error con muestra de entrenamiento: {0:.2f}%\".format(100*r2_score(y_pred=model.predict(Xt),y_true=yt)) \n",
    "print \"Error con muestra de prueba: {0:.2f}%\".format(100*r2_score(y_pred=model.predict(Xv),y_true=yv))\n"
   ]
  },
  {
   "cell_type": "code",
   "execution_count": 136,
   "metadata": {},
   "outputs": [
    {
     "data": {
      "text/html": [
       "\n",
       "<div class=\"bk-root\">\n",
       "    <div class=\"bk-plotdiv\" id=\"8cb700f8-5698-4fdc-a7bb-a84302b3935f\"></div>\n",
       "</div>"
      ]
     },
     "metadata": {},
     "output_type": "display_data"
    },
    {
     "data": {
      "application/javascript": [
       "(function(root) {\n",
       "  function embed_document(root) {\n",
       "    \n",
       "  var docs_json = {\"bf703daa-fa6e-464e-b0a6-f36aeaac5c9a\":{\"roots\":{\"references\":[{\"attributes\":{},\"id\":\"fe1b2306-ead7-424b-aa9c-460b08a280e6\",\"type\":\"BasicTickFormatter\"},{\"attributes\":{\"callback\":null,\"data\":{\"x\":[0,1,2,3,4,5,6,7,8,9,10,11,12,13,14,15,16,17,18,19,20,21,22,23,24,25,26,27,28,29,30,31,32,33,34,35,36,37,38,39,40,41,42,43,44,45,46,47,48,49,50,51,52,53,54,55,56,57,58,59,60,61,62,63,64,65,66,67,68,69,70,71,72,73,74,75,76,77,78,79,80,81,82,83,84,85,86,87,88,89,90,91,92,93,94,95,96,97,98,99,100,101,102,103,104,105,106,107,108,109,110,111,112,113,114,115,116,117,118,119,120,121,122,123,124,125,126,127,128,129,130,131,132,133,134,135,136,137,138,139,140,141,142,143,144,145,146,147,148,149,150,151,152,153,154,155,156,157,158,159,160,161,162,163,164,165,166,167,168,169,170,171,172,173,174,175,176,177,178,179,180,181,182,183,184,185,186,187,188,189,190,191,192,193,194,195,196,197,198,199,200,201,202,203,204,205,206,207,208,209,210,211,212,213,214,215,216,217,218,219,220,221,222,223,224,225,226,227,228,229,230,231,232,233,234,235,236,237,238,239,240,241,242,243,244,245,246,247,248,249,250,251,252,253,254,255,256,257,258,259,260,261,262,263,264,265,266,267,268,269,270,271,272,273,274,275,276,277,278,279,280,281,282,283,284,285,286,287,288,289,290,291,292,293,294,295,296,297,298,299,300,301,302,303,304,305,306,307,308,309,310,311,312,313,314,315,316,317,318,319,320,321,322,323,324,325,326,327,328,329,330,331,332,333,334,335,336,337,338,339,340,341,342,343,344,345,346,347,348,349,350,351,352,353,354,355,356,357,358,359,360,361,362,363,364,365,366,367,368,369,370,371,372,373,374,375,376,377,378,379,380,381,382,383,384,385,386,387,388,389,390,391,392,393,394,395,396,397,398,399,400,401,402,403,404,405,406,407,408,409,410,411,412,413,414,415,416,417,418,419,420,421,422,423,424,425,426,427,428,429,430,431,432,433,434,435,436,437,438,439,440,441,442,443,444,445,446,447,448,449,450,451,452,453,454,455,456,457,458,459,460,461,462,463],\"y\":{\"__ndarray__\":\"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\",\"dtype\":\"float64\",\"shape\":[464]}},\"selected\":{\"id\":\"5c07daa3-0c5f-416d-9faf-795f0119e696\",\"type\":\"Selection\"},\"selection_policy\":{\"id\":\"a1d1272e-8587-40f5-8b08-2f9e852c257a\",\"type\":\"UnionRenderers\"}},\"id\":\"2d6db8bf-bcf2-4faf-98a3-289aba92a663\",\"type\":\"ColumnDataSource\"},{\"attributes\":{},\"id\":\"1aa9d192-285c-467b-9e88-114c05d395e3\",\"type\":\"UnionRenderers\"},{\"attributes\":{\"fill_alpha\":{\"value\":0.1},\"fill_color\":{\"value\":\"#1f77b4\"},\"line_alpha\":{\"value\":0.1},\"line_color\":{\"value\":\"#1f77b4\"},\"size\":{\"units\":\"screen\",\"value\":9},\"x\":{\"field\":\"x\"},\"y\":{\"field\":\"y\"}},\"id\":\"93c74768-06c5-4c32-9db7-599f838da471\",\"type\":\"Circle\"},{\"attributes\":{\"fill_alpha\":{\"value\":0.1},\"fill_color\":{\"value\":\"#1f77b4\"},\"line_alpha\":{\"value\":0.1},\"line_color\":{\"value\":\"#1f77b4\"},\"size\":{\"units\":\"screen\",\"value\":9},\"x\":{\"field\":\"x\"},\"y\":{\"field\":\"y\"}},\"id\":\"6a3aec7b-283a-4ce2-ac21-744a333e49b0\",\"type\":\"Circle\"},{\"attributes\":{\"data_source\":{\"id\":\"2d6db8bf-bcf2-4faf-98a3-289aba92a663\",\"type\":\"ColumnDataSource\"},\"glyph\":{\"id\":\"d0c93a17-f23f-472f-a58f-a94478b62b86\",\"type\":\"Line\"},\"hover_glyph\":null,\"muted_glyph\":null,\"nonselection_glyph\":{\"id\":\"46169866-871c-415c-80ba-19bfda6e7fc9\",\"type\":\"Line\"},\"selection_glyph\":null,\"view\":{\"id\":\"df5001f0-94f5-467e-82ff-e9f5f14217cd\",\"type\":\"CDSView\"}},\"id\":\"0c6503d4-8339-4008-aad2-f1a7cc500906\",\"type\":\"GlyphRenderer\"},{\"attributes\":{\"data_source\":{\"id\":\"f346393c-a56d-4a6c-95dc-fbeed57fe4cd\",\"type\":\"ColumnDataSource\"},\"glyph\":{\"id\":\"d02c5b16-1812-4b41-90ba-b015c03c0dbf\",\"type\":\"Line\"},\"hover_glyph\":null,\"muted_glyph\":null,\"nonselection_glyph\":{\"id\":\"04834c48-a489-4f82-be5f-0e0f7bf899d6\",\"type\":\"Line\"},\"selection_glyph\":null,\"view\":{\"id\":\"7cdb01be-3a18-47e2-abbc-47f0493e25e2\",\"type\":\"CDSView\"}},\"id\":\"c744abb9-0163-46bd-b47b-4069ed69de1f\",\"type\":\"GlyphRenderer\"},{\"attributes\":{\"line_alpha\":0.1,\"line_color\":\"#1f77b4\",\"line_width\":2,\"x\":{\"field\":\"x\"},\"y\":{\"field\":\"y\"}},\"id\":\"46169866-871c-415c-80ba-19bfda6e7fc9\",\"type\":\"Line\"},{\"attributes\":{},\"id\":\"40c0bc5d-a604-425c-a0d1-b8f1c1ebbbbb\",\"type\":\"BasicTicker\"},{\"attributes\":{\"items\":[{\"id\":\"a1b36061-5663-475c-a44a-997ad92ba4a8\",\"type\":\"LegendItem\"},{\"id\":\"af9b8a33-06bc-467e-901a-5cb561a799de\",\"type\":\"LegendItem\"}],\"plot\":{\"id\":\"089f0e39-34ba-4aa8-a7be-2685ff6d8ed0\",\"subtype\":\"Figure\",\"type\":\"Plot\"}},\"id\":\"9d9ecfbc-5b44-4b36-88f1-1eca5d3025ee\",\"type\":\"Legend\"},{\"attributes\":{\"dimension\":1,\"plot\":{\"id\":\"089f0e39-34ba-4aa8-a7be-2685ff6d8ed0\",\"subtype\":\"Figure\",\"type\":\"Plot\"},\"ticker\":{\"id\":\"01714e8e-7b59-4c33-9394-a4b1f4114670\",\"type\":\"BasicTicker\"}},\"id\":\"da945113-4d8e-49a0-b065-acbd2f140456\",\"type\":\"Grid\"},{\"attributes\":{},\"id\":\"c0328407-83bb-4a98-a1f2-2239037bf1a6\",\"type\":\"LinearScale\"},{\"attributes\":{},\"id\":\"88a61603-e747-4e99-a5b6-c34fb0b650ff\",\"type\":\"WheelZoomTool\"},{\"attributes\":{},\"id\":\"0f3ede6d-9fad-463e-98a6-9ac6d354e244\",\"type\":\"UnionRenderers\"},{\"attributes\":{},\"id\":\"0c79a191-a7f9-4207-94c8-70759f6c4781\",\"type\":\"UnionRenderers\"},{\"attributes\":{},\"id\":\"3ea750fb-4c1e-4f30-897f-dbe58c60d10c\",\"type\":\"Selection\"},{\"attributes\":{\"label\":{\"value\":\"Real\"},\"renderers\":[{\"id\":\"c744abb9-0163-46bd-b47b-4069ed69de1f\",\"type\":\"GlyphRenderer\"}]},\"id\":\"a1b36061-5663-475c-a44a-997ad92ba4a8\",\"type\":\"LegendItem\"},{\"attributes\":{\"callback\":null,\"data\":{\"x\":[0,1,2,3,4,5,6,7,8,9,10,11,12,13,14,15,16,17,18,19,20,21,22,23,24,25,26,27,28,29,30,31,32,33,34,35,36,37,38,39,40,41,42,43,44,45,46,47,48,49,50,51,52,53,54,55,56,57,58,59,60,61,62,63,64,65,66,67,68,69,70,71,72,73,74,75,76,77,78,79,80,81,82,83,84,85,86,87,88,89,90,91,92,93,94,95,96,97,98,99,100,101,102,103,104,105,106,107,108,109,110,111,112,113,114,115,116,117,118,119,120,121,122,123,124,125,126,127,128,129,130,131,132,133,134,135,136,137,138,139,140,141,142,143,144,145,146,147,148,149,150,151,152,153,154,155,156,157,158,159,160,161,162,163,164,165,166,167,168,169,170,171,172,173,174,175,176,177,178,179,180,181,182,183,184,185,186,187,188,189,190,191,192,193,194,195,196,197,198,199,200,201,202,203,204,205,206,207,208,209,210,211,212,213,214,215,216,217,218,219,220,221,222,223,224,225,226,227,228,229,230,231,232,233,234,235,236,237,238,239,240,241,242,243,244,245,246,247,248,249,250,251,252,253,254,255,256,257,258,259,260,261,262,263,264,265,266,267,268,269,270,271,272,273,274,275,276,277,278,279,280,281,282,283,284,285,286,287,288,289,290,291,292,293,294,295,296,297,298,299,300,301,302,303,304,305,306,307,308,309,310,311,312,313,314,315,316,317,318,319,320,321,322,323,324,325,326,327,328,329,330,331,332,333,334,335,336,337,338,339,340,341,342,343,344,345,346,347,348,349,350,351,352,353,354,355,356,357,358,359,360,361,362,363,364,365,366,367,368,369,370,371,372,373,374,375,376,377,378,379,380,381,382,383,384,385,386,387,388,389,390,391,392,393,394,395,396,397,398,399,400,401,402,403,404,405,406,407,408,409,410,411,412,413,414,415,416,417,418,419,420,421,422,423,424,425,426,427,428,429,430,431,432,433,434,435,436,437,438,439,440,441,442,443,444,445,446,447,448,449,450,451,452,453,454,455,456,457,458,459,460,461,462,463],\"y\":{\"__ndarray__\":\"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\",\"dtype\":\"float64\",\"shape\":[464]}},\"selected\":{\"id\":\"38c013af-014a-4690-a1d3-f28c34acd65f\",\"type\":\"Selection\"},\"selection_policy\":{\"id\":\"0c79a191-a7f9-4207-94c8-70759f6c4781\",\"type\":\"UnionRenderers\"}},\"id\":\"ab3d361d-5c21-45fc-b3ed-36356da67ad1\",\"type\":\"ColumnDataSource\"},{\"attributes\":{\"data_source\":{\"id\":\"94bc01d2-37f0-4e23-9639-b408999ab6ae\",\"type\":\"ColumnDataSource\"},\"glyph\":{\"id\":\"a19674b9-3b58-4bd0-aa54-28436cb8d730\",\"type\":\"Circle\"},\"hover_glyph\":null,\"muted_glyph\":null,\"nonselection_glyph\":{\"id\":\"6a3aec7b-283a-4ce2-ac21-744a333e49b0\",\"type\":\"Circle\"},\"selection_glyph\":null,\"view\":{\"id\":\"cd4fb7e2-4c49-4a31-ac2f-f9421cca88ba\",\"type\":\"CDSView\"}},\"id\":\"6af22545-4e57-473b-aca5-977fb6b47a05\",\"type\":\"GlyphRenderer\"},{\"attributes\":{\"data_source\":{\"id\":\"ab3d361d-5c21-45fc-b3ed-36356da67ad1\",\"type\":\"ColumnDataSource\"},\"glyph\":{\"id\":\"7efc70d5-2d7f-4943-b054-82589ca9c0cc\",\"type\":\"Circle\"},\"hover_glyph\":null,\"muted_glyph\":null,\"nonselection_glyph\":{\"id\":\"93c74768-06c5-4c32-9db7-599f838da471\",\"type\":\"Circle\"},\"selection_glyph\":null,\"view\":{\"id\":\"7cdcb123-7a83-4254-bc5a-5f62d8bf3fd9\",\"type\":\"CDSView\"}},\"id\":\"7fc4aa09-74c4-435d-afb2-f8178dfb318b\",\"type\":\"GlyphRenderer\"},{\"attributes\":{\"below\":[{\"id\":\"827816f7-e6b2-407f-9dcc-137e758d09ce\",\"type\":\"LinearAxis\"}],\"left\":[{\"id\":\"459c9221-5324-44d9-ad6d-105734003594\",\"type\":\"LinearAxis\"}],\"plot_height\":400,\"plot_width\":980,\"renderers\":[{\"id\":\"827816f7-e6b2-407f-9dcc-137e758d09ce\",\"type\":\"LinearAxis\"},{\"id\":\"2b8a2cb2-6248-4bd3-b21d-272d9c2cfe96\",\"type\":\"Grid\"},{\"id\":\"459c9221-5324-44d9-ad6d-105734003594\",\"type\":\"LinearAxis\"},{\"id\":\"da945113-4d8e-49a0-b065-acbd2f140456\",\"type\":\"Grid\"},{\"id\":\"ca4287b7-0f11-47d2-a0a6-225d2d0bfdce\",\"type\":\"BoxAnnotation\"},{\"id\":\"9d9ecfbc-5b44-4b36-88f1-1eca5d3025ee\",\"type\":\"Legend\"},{\"id\":\"c744abb9-0163-46bd-b47b-4069ed69de1f\",\"type\":\"GlyphRenderer\"},{\"id\":\"6af22545-4e57-473b-aca5-977fb6b47a05\",\"type\":\"GlyphRenderer\"},{\"id\":\"0c6503d4-8339-4008-aad2-f1a7cc500906\",\"type\":\"GlyphRenderer\"},{\"id\":\"7fc4aa09-74c4-435d-afb2-f8178dfb318b\",\"type\":\"GlyphRenderer\"}],\"title\":{\"id\":\"427b7ef6-78e9-4b19-a923-7d46e981dd5d\",\"type\":\"Title\"},\"toolbar\":{\"id\":\"032ce90f-cf85-4ee7-98b8-8eba29122fe1\",\"type\":\"Toolbar\"},\"x_range\":{\"id\":\"02ab2581-6ba0-496f-9cb5-fce8f2ff4d6e\",\"type\":\"DataRange1d\"},\"x_scale\":{\"id\":\"a1a73b79-f6be-4066-a291-403fb41243b1\",\"type\":\"LinearScale\"},\"y_range\":{\"id\":\"69a99af8-b639-4a02-988b-437494d19f66\",\"type\":\"DataRange1d\"},\"y_scale\":{\"id\":\"c0328407-83bb-4a98-a1f2-2239037bf1a6\",\"type\":\"LinearScale\"}},\"id\":\"089f0e39-34ba-4aa8-a7be-2685ff6d8ed0\",\"subtype\":\"Figure\",\"type\":\"Plot\"},{\"attributes\":{\"bottom_units\":\"screen\",\"fill_alpha\":{\"value\":0.5},\"fill_color\":{\"value\":\"lightgrey\"},\"left_units\":\"screen\",\"level\":\"overlay\",\"line_alpha\":{\"value\":1.0},\"line_color\":{\"value\":\"black\"},\"line_dash\":[4,4],\"line_width\":{\"value\":2},\"plot\":null,\"render_mode\":\"css\",\"right_units\":\"screen\",\"top_units\":\"screen\"},\"id\":\"ca4287b7-0f11-47d2-a0a6-225d2d0bfdce\",\"type\":\"BoxAnnotation\"},{\"attributes\":{\"source\":{\"id\":\"ab3d361d-5c21-45fc-b3ed-36356da67ad1\",\"type\":\"ColumnDataSource\"}},\"id\":\"7cdcb123-7a83-4254-bc5a-5f62d8bf3fd9\",\"type\":\"CDSView\"},{\"attributes\":{\"callback\":null,\"data\":{\"x\":[0,1,2,3,4,5,6,7,8,9,10,11,12,13,14,15,16,17,18,19,20,21,22,23,24,25,26,27,28,29,30,31,32,33,34,35,36,37,38,39,40,41,42,43,44,45,46,47,48,49,50,51,52,53,54,55,56,57,58,59,60,61,62,63,64,65,66,67,68,69,70,71,72,73,74,75,76,77,78,79,80,81,82,83,84,85,86,87,88,89,90,91,92,93,94,95,96,97,98,99,100,101,102,103,104,105,106,107,108,109,110,111,112,113,114,115,116,117,118,119,120,121,122,123,124,125,126,127,128,129,130,131,132,133,134,135,136,137,138,139,140,141,142,143,144,145,146,147,148,149,150,151,152,153,154,155,156,157,158,159,160,161,162,163,164,165,166,167,168,169,170,171,172,173,174,175,176,177,178,179,180,181,182,183,184,185,186,187,188,189,190,191,192,193,194,195,196,197,198,199,200,201,202,203,204,205,206,207,208,209,210,211,212,213,214,215,216,217,218,219,220,221,222,223,224,225,226,227,228,229,230,231,232,233,234,235,236,237,238,239,240,241,242,243,244,245,246,247,248,249,250,251,252,253,254,255,256,257,258,259,260,261,262,263,264,265,266,267,268,269,270,271,272,273,274,275,276,277,278,279,280,281,282,283,284,285,286,287,288,289,290,291,292,293,294,295,296,297,298,299,300,301,302,303,304,305,306,307,308,309,310,311,312,313,314,315,316,317,318,319,320,321,322,323,324,325,326,327,328,329,330,331,332,333,334,335,336,337,338,339,340,341,342,343,344,345,346,347,348,349,350,351,352,353,354,355,356,357,358,359,360,361,362,363,364,365,366,367,368,369,370,371,372,373,374,375,376,377,378,379,380,381,382,383,384,385,386,387,388,389,390,391,392,393,394,395,396,397,398,399,400,401,402,403,404,405,406,407,408,409,410,411,412,413,414,415,416,417,418,419,420,421,422,423,424,425,426,427,428,429,430,431,432,433,434,435,436,437,438,439,440,441,442,443,444,445,446,447,448,449,450,451,452,453,454,455,456,457,458,459,460,461,462,463],\"y\":{\"__ndarray__\":\"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\",\"dtype\":\"float64\",\"shape\":[464]}},\"selected\":{\"id\":\"ba8f7dce-ccaf-4921-a17f-b669f94b573f\",\"type\":\"Selection\"},\"selection_policy\":{\"id\":\"0f3ede6d-9fad-463e-98a6-9ac6d354e244\",\"type\":\"UnionRenderers\"}},\"id\":\"94bc01d2-37f0-4e23-9639-b408999ab6ae\",\"type\":\"ColumnDataSource\"},{\"attributes\":{\"callback\":null,\"data\":{\"x\":[0,1,2,3,4,5,6,7,8,9,10,11,12,13,14,15,16,17,18,19,20,21,22,23,24,25,26,27,28,29,30,31,32,33,34,35,36,37,38,39,40,41,42,43,44,45,46,47,48,49,50,51,52,53,54,55,56,57,58,59,60,61,62,63,64,65,66,67,68,69,70,71,72,73,74,75,76,77,78,79,80,81,82,83,84,85,86,87,88,89,90,91,92,93,94,95,96,97,98,99,100,101,102,103,104,105,106,107,108,109,110,111,112,113,114,115,116,117,118,119,120,121,122,123,124,125,126,127,128,129,130,131,132,133,134,135,136,137,138,139,140,141,142,143,144,145,146,147,148,149,150,151,152,153,154,155,156,157,158,159,160,161,162,163,164,165,166,167,168,169,170,171,172,173,174,175,176,177,178,179,180,181,182,183,184,185,186,187,188,189,190,191,192,193,194,195,196,197,198,199,200,201,202,203,204,205,206,207,208,209,210,211,212,213,214,215,216,217,218,219,220,221,222,223,224,225,226,227,228,229,230,231,232,233,234,235,236,237,238,239,240,241,242,243,244,245,246,247,248,249,250,251,252,253,254,255,256,257,258,259,260,261,262,263,264,265,266,267,268,269,270,271,272,273,274,275,276,277,278,279,280,281,282,283,284,285,286,287,288,289,290,291,292,293,294,295,296,297,298,299,300,301,302,303,304,305,306,307,308,309,310,311,312,313,314,315,316,317,318,319,320,321,322,323,324,325,326,327,328,329,330,331,332,333,334,335,336,337,338,339,340,341,342,343,344,345,346,347,348,349,350,351,352,353,354,355,356,357,358,359,360,361,362,363,364,365,366,367,368,369,370,371,372,373,374,375,376,377,378,379,380,381,382,383,384,385,386,387,388,389,390,391,392,393,394,395,396,397,398,399,400,401,402,403,404,405,406,407,408,409,410,411,412,413,414,415,416,417,418,419,420,421,422,423,424,425,426,427,428,429,430,431,432,433,434,435,436,437,438,439,440,441,442,443,444,445,446,447,448,449,450,451,452,453,454,455,456,457,458,459,460,461,462,463],\"y\":{\"__ndarray__\":\"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\",\"dtype\":\"float64\",\"shape\":[464]}},\"selected\":{\"id\":\"3ea750fb-4c1e-4f30-897f-dbe58c60d10c\",\"type\":\"Selection\"},\"selection_policy\":{\"id\":\"1aa9d192-285c-467b-9e88-114c05d395e3\",\"type\":\"UnionRenderers\"}},\"id\":\"f346393c-a56d-4a6c-95dc-fbeed57fe4cd\",\"type\":\"ColumnDataSource\"},{\"attributes\":{\"line_alpha\":0.1,\"line_color\":\"#1f77b4\",\"line_width\":3,\"x\":{\"field\":\"x\"},\"y\":{\"field\":\"y\"}},\"id\":\"04834c48-a489-4f82-be5f-0e0f7bf899d6\",\"type\":\"Line\"},{\"attributes\":{\"callback\":null},\"id\":\"69a99af8-b639-4a02-988b-437494d19f66\",\"type\":\"DataRange1d\"},{\"attributes\":{\"fill_alpha\":{\"value\":0.4},\"fill_color\":{\"value\":\"rgb(249, 139, 96)\"},\"line_alpha\":{\"value\":0.4},\"line_color\":{\"value\":\"rgb(249, 139, 96)\"},\"size\":{\"units\":\"screen\",\"value\":9},\"x\":{\"field\":\"x\"},\"y\":{\"field\":\"y\"}},\"id\":\"7efc70d5-2d7f-4943-b054-82589ca9c0cc\",\"type\":\"Circle\"},{\"attributes\":{\"source\":{\"id\":\"f346393c-a56d-4a6c-95dc-fbeed57fe4cd\",\"type\":\"ColumnDataSource\"}},\"id\":\"7cdb01be-3a18-47e2-abbc-47f0493e25e2\",\"type\":\"CDSView\"},{\"attributes\":{},\"id\":\"5c07daa3-0c5f-416d-9faf-795f0119e696\",\"type\":\"Selection\"},{\"attributes\":{\"overlay\":{\"id\":\"ca4287b7-0f11-47d2-a0a6-225d2d0bfdce\",\"type\":\"BoxAnnotation\"}},\"id\":\"9c749ef4-8493-446c-8f04-9c78170df35f\",\"type\":\"BoxZoomTool\"},{\"attributes\":{},\"id\":\"ba8f7dce-ccaf-4921-a17f-b669f94b573f\",\"type\":\"Selection\"},{\"attributes\":{},\"id\":\"436ac4c9-d50a-4fbe-bd76-f31f3914d770\",\"type\":\"HelpTool\"},{\"attributes\":{},\"id\":\"569730b2-73c9-4d17-b0af-191a2149782f\",\"type\":\"PanTool\"},{\"attributes\":{\"callback\":null},\"id\":\"02ab2581-6ba0-496f-9cb5-fce8f2ff4d6e\",\"type\":\"DataRange1d\"},{\"attributes\":{\"active_drag\":\"auto\",\"active_inspect\":\"auto\",\"active_scroll\":\"auto\",\"active_tap\":\"auto\",\"tools\":[{\"id\":\"569730b2-73c9-4d17-b0af-191a2149782f\",\"type\":\"PanTool\"},{\"id\":\"88a61603-e747-4e99-a5b6-c34fb0b650ff\",\"type\":\"WheelZoomTool\"},{\"id\":\"9c749ef4-8493-446c-8f04-9c78170df35f\",\"type\":\"BoxZoomTool\"},{\"id\":\"9177e5fb-c620-4202-9ba5-9ae39d26e549\",\"type\":\"SaveTool\"},{\"id\":\"ef5d869f-3be4-4e5c-af88-412fb93fb92f\",\"type\":\"ResetTool\"},{\"id\":\"436ac4c9-d50a-4fbe-bd76-f31f3914d770\",\"type\":\"HelpTool\"}]},\"id\":\"032ce90f-cf85-4ee7-98b8-8eba29122fe1\",\"type\":\"Toolbar\"},{\"attributes\":{\"source\":{\"id\":\"94bc01d2-37f0-4e23-9639-b408999ab6ae\",\"type\":\"ColumnDataSource\"}},\"id\":\"cd4fb7e2-4c49-4a31-ac2f-f9421cca88ba\",\"type\":\"CDSView\"},{\"attributes\":{\"source\":{\"id\":\"2d6db8bf-bcf2-4faf-98a3-289aba92a663\",\"type\":\"ColumnDataSource\"}},\"id\":\"df5001f0-94f5-467e-82ff-e9f5f14217cd\",\"type\":\"CDSView\"},{\"attributes\":{},\"id\":\"ef5d869f-3be4-4e5c-af88-412fb93fb92f\",\"type\":\"ResetTool\"},{\"attributes\":{},\"id\":\"aef0aaff-e05e-4266-a7b9-c62efc057a8d\",\"type\":\"BasicTickFormatter\"},{\"attributes\":{\"line_color\":\"rgb(249, 139, 96)\",\"line_width\":2,\"x\":{\"field\":\"x\"},\"y\":{\"field\":\"y\"}},\"id\":\"d0c93a17-f23f-472f-a58f-a94478b62b86\",\"type\":\"Line\"},{\"attributes\":{},\"id\":\"a1d1272e-8587-40f5-8b08-2f9e852c257a\",\"type\":\"UnionRenderers\"},{\"attributes\":{\"plot\":{\"id\":\"089f0e39-34ba-4aa8-a7be-2685ff6d8ed0\",\"subtype\":\"Figure\",\"type\":\"Plot\"},\"ticker\":{\"id\":\"40c0bc5d-a604-425c-a0d1-b8f1c1ebbbbb\",\"type\":\"BasicTicker\"}},\"id\":\"2b8a2cb2-6248-4bd3-b21d-272d9c2cfe96\",\"type\":\"Grid\"},{\"attributes\":{},\"id\":\"01714e8e-7b59-4c33-9394-a4b1f4114670\",\"type\":\"BasicTicker\"},{\"attributes\":{\"label\":{\"value\":\"Predicci\\u00f3n\"},\"renderers\":[{\"id\":\"0c6503d4-8339-4008-aad2-f1a7cc500906\",\"type\":\"GlyphRenderer\"}]},\"id\":\"af9b8a33-06bc-467e-901a-5cb561a799de\",\"type\":\"LegendItem\"},{\"attributes\":{},\"id\":\"38c013af-014a-4690-a1d3-f28c34acd65f\",\"type\":\"Selection\"},{\"attributes\":{\"formatter\":{\"id\":\"aef0aaff-e05e-4266-a7b9-c62efc057a8d\",\"type\":\"BasicTickFormatter\"},\"plot\":{\"id\":\"089f0e39-34ba-4aa8-a7be-2685ff6d8ed0\",\"subtype\":\"Figure\",\"type\":\"Plot\"},\"ticker\":{\"id\":\"40c0bc5d-a604-425c-a0d1-b8f1c1ebbbbb\",\"type\":\"BasicTicker\"}},\"id\":\"827816f7-e6b2-407f-9dcc-137e758d09ce\",\"type\":\"LinearAxis\"},{\"attributes\":{\"formatter\":{\"id\":\"fe1b2306-ead7-424b-aa9c-460b08a280e6\",\"type\":\"BasicTickFormatter\"},\"plot\":{\"id\":\"089f0e39-34ba-4aa8-a7be-2685ff6d8ed0\",\"subtype\":\"Figure\",\"type\":\"Plot\"},\"ticker\":{\"id\":\"01714e8e-7b59-4c33-9394-a4b1f4114670\",\"type\":\"BasicTicker\"}},\"id\":\"459c9221-5324-44d9-ad6d-105734003594\",\"type\":\"LinearAxis\"},{\"attributes\":{\"line_color\":\"rgb(100, 191, 163)\",\"line_width\":3,\"x\":{\"field\":\"x\"},\"y\":{\"field\":\"y\"}},\"id\":\"d02c5b16-1812-4b41-90ba-b015c03c0dbf\",\"type\":\"Line\"},{\"attributes\":{},\"id\":\"a1a73b79-f6be-4066-a291-403fb41243b1\",\"type\":\"LinearScale\"},{\"attributes\":{\"align\":\"center\",\"plot\":null,\"text\":\"BIMBO Train\",\"text_font_size\":{\"value\":\"20pt\"}},\"id\":\"427b7ef6-78e9-4b19-a923-7d46e981dd5d\",\"type\":\"Title\"},{\"attributes\":{\"fill_alpha\":{\"value\":0.6},\"fill_color\":{\"value\":\"rgb(100, 191, 163)\"},\"line_alpha\":{\"value\":0.6},\"line_color\":{\"value\":\"rgb(100, 191, 163)\"},\"size\":{\"units\":\"screen\",\"value\":9},\"x\":{\"field\":\"x\"},\"y\":{\"field\":\"y\"}},\"id\":\"a19674b9-3b58-4bd0-aa54-28436cb8d730\",\"type\":\"Circle\"},{\"attributes\":{},\"id\":\"9177e5fb-c620-4202-9ba5-9ae39d26e549\",\"type\":\"SaveTool\"}],\"root_ids\":[\"089f0e39-34ba-4aa8-a7be-2685ff6d8ed0\"]},\"title\":\"Bokeh Application\",\"version\":\"0.12.16\"}};\n",
       "  var render_items = [{\"docid\":\"bf703daa-fa6e-464e-b0a6-f36aeaac5c9a\",\"elementid\":\"8cb700f8-5698-4fdc-a7bb-a84302b3935f\",\"modelid\":\"089f0e39-34ba-4aa8-a7be-2685ff6d8ed0\"}];\n",
       "  root.Bokeh.embed.embed_items_notebook(docs_json, render_items);\n",
       "\n",
       "  }\n",
       "  if (root.Bokeh !== undefined) {\n",
       "    embed_document(root);\n",
       "  } else {\n",
       "    var attempts = 0;\n",
       "    var timer = setInterval(function(root) {\n",
       "      if (root.Bokeh !== undefined) {\n",
       "        embed_document(root);\n",
       "        clearInterval(timer);\n",
       "      }\n",
       "      attempts++;\n",
       "      if (attempts > 100) {\n",
       "        console.log(\"Bokeh: ERROR: Unable to run BokehJS code because BokehJS library is missing\")\n",
       "        clearInterval(timer);\n",
       "      }\n",
       "    }, 10, root)\n",
       "  }\n",
       "})(window);"
      ],
      "application/vnd.bokehjs_exec.v0+json": ""
     },
     "metadata": {
      "application/vnd.bokehjs_exec.v0+json": {
       "id": "089f0e39-34ba-4aa8-a7be-2685ff6d8ed0"
      }
     },
     "output_type": "display_data"
    }
   ],
   "source": [
    "plot_predict(y_real=scy.inverse_transform(yt[dia]).reshape(1,-1)[0], \n",
    "             y_pred=scy.inverse_transform(pd.DataFrame(model.predict(Xt))).reshape(1,-1)[0], \n",
    "             title=\"BIMBO Train\")"
   ]
  },
  {
   "cell_type": "code",
   "execution_count": 137,
   "metadata": {
    "scrolled": false
   },
   "outputs": [
    {
     "data": {
      "text/html": [
       "\n",
       "<div class=\"bk-root\">\n",
       "    <div class=\"bk-plotdiv\" id=\"931c7fd4-9c8d-4db6-98b2-db07f05bc87d\"></div>\n",
       "</div>"
      ]
     },
     "metadata": {},
     "output_type": "display_data"
    },
    {
     "data": {
      "application/javascript": [
       "(function(root) {\n",
       "  function embed_document(root) {\n",
       "    \n",
       "  var docs_json = {\"09a6bfe1-87f1-410f-ad83-ea3c2b33b329\":{\"roots\":{\"references\":[{\"attributes\":{\"plot\":{\"id\":\"3915deaf-4566-4d97-914a-21af4dc22971\",\"subtype\":\"Figure\",\"type\":\"Plot\"},\"ticker\":{\"id\":\"ce275820-e7c8-4064-9c60-bfa315eeb117\",\"type\":\"BasicTicker\"}},\"id\":\"7323b5e0-5865-4b7d-95b4-2a894ba45bbb\",\"type\":\"Grid\"},{\"attributes\":{\"line_alpha\":0.1,\"line_color\":\"#1f77b4\",\"line_width\":2,\"x\":{\"field\":\"x\"},\"y\":{\"field\":\"y\"}},\"id\":\"8e17d1df-fd87-4e3f-9233-61c7eead15d6\",\"type\":\"Line\"},{\"attributes\":{\"label\":{\"value\":\"Predicci\\u00f3n\"},\"renderers\":[{\"id\":\"68727bde-6e65-4e68-9358-b27c32da2e9a\",\"type\":\"GlyphRenderer\"}]},\"id\":\"7580659d-0307-4de7-ab29-c0c208f1bd91\",\"type\":\"LegendItem\"},{\"attributes\":{\"dimension\":1,\"plot\":{\"id\":\"3915deaf-4566-4d97-914a-21af4dc22971\",\"subtype\":\"Figure\",\"type\":\"Plot\"},\"ticker\":{\"id\":\"bbb4201f-d1cb-4150-a5cd-de8850fc633d\",\"type\":\"BasicTicker\"}},\"id\":\"541d1c51-6e69-4376-b0ab-b26b99ff1399\",\"type\":\"Grid\"},{\"attributes\":{\"overlay\":{\"id\":\"d18f19d0-0712-4626-8d6b-a4981e55534e\",\"type\":\"BoxAnnotation\"}},\"id\":\"f615802f-9b2a-4480-a5f9-be87b6404a17\",\"type\":\"BoxZoomTool\"},{\"attributes\":{\"bottom_units\":\"screen\",\"fill_alpha\":{\"value\":0.5},\"fill_color\":{\"value\":\"lightgrey\"},\"left_units\":\"screen\",\"level\":\"overlay\",\"line_alpha\":{\"value\":1.0},\"line_color\":{\"value\":\"black\"},\"line_dash\":[4,4],\"line_width\":{\"value\":2},\"plot\":null,\"render_mode\":\"css\",\"right_units\":\"screen\",\"top_units\":\"screen\"},\"id\":\"d18f19d0-0712-4626-8d6b-a4981e55534e\",\"type\":\"BoxAnnotation\"},{\"attributes\":{\"data_source\":{\"id\":\"76da9e4b-ec5d-47ce-97c2-97033867c885\",\"type\":\"ColumnDataSource\"},\"glyph\":{\"id\":\"ce3260e6-4136-42d2-9f94-1275e65c8235\",\"type\":\"Circle\"},\"hover_glyph\":null,\"muted_glyph\":null,\"nonselection_glyph\":{\"id\":\"464bdf19-e3b9-4177-a1a1-33488bf79cff\",\"type\":\"Circle\"},\"selection_glyph\":null,\"view\":{\"id\":\"2ade0830-8013-43ac-9c89-4ee31aa6251c\",\"type\":\"CDSView\"}},\"id\":\"eb10f258-a506-4576-a1dc-07c46a048ee9\",\"type\":\"GlyphRenderer\"},{\"attributes\":{\"fill_alpha\":{\"value\":0.1},\"fill_color\":{\"value\":\"#1f77b4\"},\"line_alpha\":{\"value\":0.1},\"line_color\":{\"value\":\"#1f77b4\"},\"size\":{\"units\":\"screen\",\"value\":9},\"x\":{\"field\":\"x\"},\"y\":{\"field\":\"y\"}},\"id\":\"44e41454-3c67-4e75-bf55-cb2a62dedbaf\",\"type\":\"Circle\"},{\"attributes\":{\"label\":{\"value\":\"Real\"},\"renderers\":[{\"id\":\"21427aa3-108e-4e34-bbd1-48e3ba4c3cc0\",\"type\":\"GlyphRenderer\"}]},\"id\":\"bbed0d39-4e52-42c8-bb8d-989286ad23ae\",\"type\":\"LegendItem\"},{\"attributes\":{\"formatter\":{\"id\":\"ef76b71f-1f45-4beb-a3d8-b58377f93f5c\",\"type\":\"BasicTickFormatter\"},\"plot\":{\"id\":\"3915deaf-4566-4d97-914a-21af4dc22971\",\"subtype\":\"Figure\",\"type\":\"Plot\"},\"ticker\":{\"id\":\"ce275820-e7c8-4064-9c60-bfa315eeb117\",\"type\":\"BasicTicker\"}},\"id\":\"379eabe5-8639-4cbb-83f3-913d0cc9d096\",\"type\":\"LinearAxis\"},{\"attributes\":{},\"id\":\"8f266b45-4c3a-4232-8262-3c08d3b6d94b\",\"type\":\"Selection\"},{\"attributes\":{\"callback\":null},\"id\":\"f2fe339d-df3e-46db-9612-fb9b8fde25b8\",\"type\":\"DataRange1d\"},{\"attributes\":{\"callback\":null,\"data\":{\"x\":[0,1,2,3,4,5,6,7,8,9,10,11,12,13,14,15,16,17,18,19,20,21,22,23,24,25,26,27,28,29,30,31,32,33,34,35,36,37,38,39,40,41,42,43,44,45,46,47,48,49,50,51,52,53,54,55,56,57,58,59,60,61,62,63,64,65,66,67,68,69,70,71,72,73,74,75,76,77,78,79,80,81,82,83,84,85,86,87,88,89,90,91,92,93,94,95,96,97,98,99,100,101,102,103,104,105,106,107,108,109,110,111,112,113,114,115,116,117,118,119,120,121,122,123,124,125,126,127,128,129,130,131,132,133,134,135,136,137,138,139,140,141,142,143,144,145,146,147,148,149,150,151,152,153,154,155,156,157,158,159,160,161,162,163,164,165,166,167,168,169,170,171,172,173,174,175,176,177,178,179,180,181,182,183,184,185,186,187,188,189,190,191,192,193,194,195,196,197,198],\"y\":{\"__ndarray__\":\"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\",\"dtype\":\"float64\",\"shape\":[199]}},\"selected\":{\"id\":\"6f5b33c1-f3ea-4eee-a117-3586d57a6c99\",\"type\":\"Selection\"},\"selection_policy\":{\"id\":\"45c3d2e1-10a3-40ec-9cf8-832a616c0ff4\",\"type\":\"UnionRenderers\"}},\"id\":\"666f5a97-74f3-4017-92d3-9463c634d85a\",\"type\":\"ColumnDataSource\"},{\"attributes\":{\"fill_alpha\":{\"value\":0.6},\"fill_color\":{\"value\":\"rgb(100, 191, 163)\"},\"line_alpha\":{\"value\":0.6},\"line_color\":{\"value\":\"rgb(100, 191, 163)\"},\"size\":{\"units\":\"screen\",\"value\":9},\"x\":{\"field\":\"x\"},\"y\":{\"field\":\"y\"}},\"id\":\"ad25aa63-4809-4034-92a7-eca9cad02885\",\"type\":\"Circle\"},{\"attributes\":{},\"id\":\"d3ecdad2-8d49-4324-8ec1-5985f2a2e16e\",\"type\":\"Selection\"},{\"attributes\":{\"fill_alpha\":{\"value\":0.1},\"fill_color\":{\"value\":\"#1f77b4\"},\"line_alpha\":{\"value\":0.1},\"line_color\":{\"value\":\"#1f77b4\"},\"size\":{\"units\":\"screen\",\"value\":9},\"x\":{\"field\":\"x\"},\"y\":{\"field\":\"y\"}},\"id\":\"464bdf19-e3b9-4177-a1a1-33488bf79cff\",\"type\":\"Circle\"},{\"attributes\":{},\"id\":\"88b1a13b-92b1-4922-b063-8dab1a9c3aa8\",\"type\":\"LinearScale\"},{\"attributes\":{\"callback\":null,\"data\":{\"x\":[0,1,2,3,4,5,6,7,8,9,10,11,12,13,14,15,16,17,18,19,20,21,22,23,24,25,26,27,28,29,30,31,32,33,34,35,36,37,38,39,40,41,42,43,44,45,46,47,48,49,50,51,52,53,54,55,56,57,58,59,60,61,62,63,64,65,66,67,68,69,70,71,72,73,74,75,76,77,78,79,80,81,82,83,84,85,86,87,88,89,90,91,92,93,94,95,96,97,98,99,100,101,102,103,104,105,106,107,108,109,110,111,112,113,114,115,116,117,118,119,120,121,122,123,124,125,126,127,128,129,130,131,132,133,134,135,136,137,138,139,140,141,142,143,144,145,146,147,148,149,150,151,152,153,154,155,156,157,158,159,160,161,162,163,164,165,166,167,168,169,170,171,172,173,174,175,176,177,178,179,180,181,182,183,184,185,186,187,188,189,190,191,192,193,194,195,196,197,198],\"y\":{\"__ndarray__\":\"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\",\"dtype\":\"float64\",\"shape\":[199]}},\"selected\":{\"id\":\"8f266b45-4c3a-4232-8262-3c08d3b6d94b\",\"type\":\"Selection\"},\"selection_policy\":{\"id\":\"3d9f2db7-89d8-4340-b049-ce837a397701\",\"type\":\"UnionRenderers\"}},\"id\":\"76da9e4b-ec5d-47ce-97c2-97033867c885\",\"type\":\"ColumnDataSource\"},{\"attributes\":{},\"id\":\"ce275820-e7c8-4064-9c60-bfa315eeb117\",\"type\":\"BasicTicker\"},{\"attributes\":{\"source\":{\"id\":\"666f5a97-74f3-4017-92d3-9463c634d85a\",\"type\":\"ColumnDataSource\"}},\"id\":\"e1f86582-f1e0-447e-bf74-29ea18c09425\",\"type\":\"CDSView\"},{\"attributes\":{},\"id\":\"86d10b6d-28f0-4c93-b58b-8bf7cc797dfb\",\"type\":\"LinearScale\"},{\"attributes\":{},\"id\":\"cd979642-8ca8-4bfd-b75a-93ab24ba0666\",\"type\":\"BasicTickFormatter\"},{\"attributes\":{\"align\":\"center\",\"plot\":null,\"text\":\"BIMBO Validate\",\"text_font_size\":{\"value\":\"20pt\"}},\"id\":\"862ab95e-e967-4654-bd6a-caa870a54ac4\",\"type\":\"Title\"},{\"attributes\":{\"data_source\":{\"id\":\"666f5a97-74f3-4017-92d3-9463c634d85a\",\"type\":\"ColumnDataSource\"},\"glyph\":{\"id\":\"3a068548-ebfd-402a-91d0-b2c8fc508329\",\"type\":\"Line\"},\"hover_glyph\":null,\"muted_glyph\":null,\"nonselection_glyph\":{\"id\":\"8e17d1df-fd87-4e3f-9233-61c7eead15d6\",\"type\":\"Line\"},\"selection_glyph\":null,\"view\":{\"id\":\"e1f86582-f1e0-447e-bf74-29ea18c09425\",\"type\":\"CDSView\"}},\"id\":\"68727bde-6e65-4e68-9358-b27c32da2e9a\",\"type\":\"GlyphRenderer\"},{\"attributes\":{},\"id\":\"0a13b4a4-f182-49c2-a31d-6fceaa2e414e\",\"type\":\"SaveTool\"},{\"attributes\":{\"items\":[{\"id\":\"bbed0d39-4e52-42c8-bb8d-989286ad23ae\",\"type\":\"LegendItem\"},{\"id\":\"7580659d-0307-4de7-ab29-c0c208f1bd91\",\"type\":\"LegendItem\"}],\"plot\":{\"id\":\"3915deaf-4566-4d97-914a-21af4dc22971\",\"subtype\":\"Figure\",\"type\":\"Plot\"}},\"id\":\"a591dc0e-3527-4bd0-af7e-141e3bcf0fea\",\"type\":\"Legend\"},{\"attributes\":{},\"id\":\"3d9f2db7-89d8-4340-b049-ce837a397701\",\"type\":\"UnionRenderers\"},{\"attributes\":{},\"id\":\"6f5b33c1-f3ea-4eee-a117-3586d57a6c99\",\"type\":\"Selection\"},{\"attributes\":{\"source\":{\"id\":\"8ccace07-ce37-4529-a28a-cd212440bb54\",\"type\":\"ColumnDataSource\"}},\"id\":\"eacac275-170b-492d-a263-66e3e1b31767\",\"type\":\"CDSView\"},{\"attributes\":{\"data_source\":{\"id\":\"384d1aca-6ae0-4576-86fb-69341834c88c\",\"type\":\"ColumnDataSource\"},\"glyph\":{\"id\":\"ad25aa63-4809-4034-92a7-eca9cad02885\",\"type\":\"Circle\"},\"hover_glyph\":null,\"muted_glyph\":null,\"nonselection_glyph\":{\"id\":\"44e41454-3c67-4e75-bf55-cb2a62dedbaf\",\"type\":\"Circle\"},\"selection_glyph\":null,\"view\":{\"id\":\"1b8f1551-ac9e-4cd1-a033-77eb39417a2c\",\"type\":\"CDSView\"}},\"id\":\"bd726078-45eb-4717-ba0a-59758bc25b82\",\"type\":\"GlyphRenderer\"},{\"attributes\":{},\"id\":\"a1fa52e1-a5e3-46e6-8969-f76c3739a5da\",\"type\":\"Selection\"},{\"attributes\":{\"callback\":null,\"data\":{\"x\":[0,1,2,3,4,5,6,7,8,9,10,11,12,13,14,15,16,17,18,19,20,21,22,23,24,25,26,27,28,29,30,31,32,33,34,35,36,37,38,39,40,41,42,43,44,45,46,47,48,49,50,51,52,53,54,55,56,57,58,59,60,61,62,63,64,65,66,67,68,69,70,71,72,73,74,75,76,77,78,79,80,81,82,83,84,85,86,87,88,89,90,91,92,93,94,95,96,97,98,99,100,101,102,103,104,105,106,107,108,109,110,111,112,113,114,115,116,117,118,119,120,121,122,123,124,125,126,127,128,129,130,131,132,133,134,135,136,137,138,139,140,141,142,143,144,145,146,147,148,149,150,151,152,153,154,155,156,157,158,159,160,161,162,163,164,165,166,167,168,169,170,171,172,173,174,175,176,177,178,179,180,181,182,183,184,185,186,187,188,189,190,191,192,193,194,195,196,197,198],\"y\":{\"__ndarray__\":\"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\",\"dtype\":\"float64\",\"shape\":[199]}},\"selected\":{\"id\":\"d3ecdad2-8d49-4324-8ec1-5985f2a2e16e\",\"type\":\"Selection\"},\"selection_policy\":{\"id\":\"f1861924-48c8-4d6f-bf00-8efa20f19795\",\"type\":\"UnionRenderers\"}},\"id\":\"8ccace07-ce37-4529-a28a-cd212440bb54\",\"type\":\"ColumnDataSource\"},{\"attributes\":{},\"id\":\"23436f74-12b8-479d-b59a-bd02fa067d04\",\"type\":\"PanTool\"},{\"attributes\":{},\"id\":\"bbb4201f-d1cb-4150-a5cd-de8850fc633d\",\"type\":\"BasicTicker\"},{\"attributes\":{},\"id\":\"ef76b71f-1f45-4beb-a3d8-b58377f93f5c\",\"type\":\"BasicTickFormatter\"},{\"attributes\":{\"line_color\":\"rgb(249, 139, 96)\",\"line_width\":2,\"x\":{\"field\":\"x\"},\"y\":{\"field\":\"y\"}},\"id\":\"3a068548-ebfd-402a-91d0-b2c8fc508329\",\"type\":\"Line\"},{\"attributes\":{\"formatter\":{\"id\":\"cd979642-8ca8-4bfd-b75a-93ab24ba0666\",\"type\":\"BasicTickFormatter\"},\"plot\":{\"id\":\"3915deaf-4566-4d97-914a-21af4dc22971\",\"subtype\":\"Figure\",\"type\":\"Plot\"},\"ticker\":{\"id\":\"bbb4201f-d1cb-4150-a5cd-de8850fc633d\",\"type\":\"BasicTicker\"}},\"id\":\"e95bc5df-7b71-4101-98a9-5bcf407eece7\",\"type\":\"LinearAxis\"},{\"attributes\":{\"source\":{\"id\":\"76da9e4b-ec5d-47ce-97c2-97033867c885\",\"type\":\"ColumnDataSource\"}},\"id\":\"2ade0830-8013-43ac-9c89-4ee31aa6251c\",\"type\":\"CDSView\"},{\"attributes\":{},\"id\":\"f1861924-48c8-4d6f-bf00-8efa20f19795\",\"type\":\"UnionRenderers\"},{\"attributes\":{},\"id\":\"8ab2a25a-2d74-48bb-8590-39ec233264da\",\"type\":\"ResetTool\"},{\"attributes\":{\"callback\":null,\"data\":{\"x\":[0,1,2,3,4,5,6,7,8,9,10,11,12,13,14,15,16,17,18,19,20,21,22,23,24,25,26,27,28,29,30,31,32,33,34,35,36,37,38,39,40,41,42,43,44,45,46,47,48,49,50,51,52,53,54,55,56,57,58,59,60,61,62,63,64,65,66,67,68,69,70,71,72,73,74,75,76,77,78,79,80,81,82,83,84,85,86,87,88,89,90,91,92,93,94,95,96,97,98,99,100,101,102,103,104,105,106,107,108,109,110,111,112,113,114,115,116,117,118,119,120,121,122,123,124,125,126,127,128,129,130,131,132,133,134,135,136,137,138,139,140,141,142,143,144,145,146,147,148,149,150,151,152,153,154,155,156,157,158,159,160,161,162,163,164,165,166,167,168,169,170,171,172,173,174,175,176,177,178,179,180,181,182,183,184,185,186,187,188,189,190,191,192,193,194,195,196,197,198],\"y\":{\"__ndarray__\":\"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\",\"dtype\":\"float64\",\"shape\":[199]}},\"selected\":{\"id\":\"a1fa52e1-a5e3-46e6-8969-f76c3739a5da\",\"type\":\"Selection\"},\"selection_policy\":{\"id\":\"02f56561-0b14-4d82-8ec3-bbf20cc9d19f\",\"type\":\"UnionRenderers\"}},\"id\":\"384d1aca-6ae0-4576-86fb-69341834c88c\",\"type\":\"ColumnDataSource\"},{\"attributes\":{\"data_source\":{\"id\":\"8ccace07-ce37-4529-a28a-cd212440bb54\",\"type\":\"ColumnDataSource\"},\"glyph\":{\"id\":\"21d9657f-b297-4d36-95da-6134399fa101\",\"type\":\"Line\"},\"hover_glyph\":null,\"muted_glyph\":null,\"nonselection_glyph\":{\"id\":\"d7405c0e-e5d7-4535-b579-c7704a5ffae9\",\"type\":\"Line\"},\"selection_glyph\":null,\"view\":{\"id\":\"eacac275-170b-492d-a263-66e3e1b31767\",\"type\":\"CDSView\"}},\"id\":\"21427aa3-108e-4e34-bbd1-48e3ba4c3cc0\",\"type\":\"GlyphRenderer\"},{\"attributes\":{},\"id\":\"02f56561-0b14-4d82-8ec3-bbf20cc9d19f\",\"type\":\"UnionRenderers\"},{\"attributes\":{\"callback\":null},\"id\":\"e12de442-f22b-4f61-ae63-10b2cdda4112\",\"type\":\"DataRange1d\"},{\"attributes\":{},\"id\":\"45c3d2e1-10a3-40ec-9cf8-832a616c0ff4\",\"type\":\"UnionRenderers\"},{\"attributes\":{\"fill_alpha\":{\"value\":0.4},\"fill_color\":{\"value\":\"rgb(249, 139, 96)\"},\"line_alpha\":{\"value\":0.4},\"line_color\":{\"value\":\"rgb(249, 139, 96)\"},\"size\":{\"units\":\"screen\",\"value\":9},\"x\":{\"field\":\"x\"},\"y\":{\"field\":\"y\"}},\"id\":\"ce3260e6-4136-42d2-9f94-1275e65c8235\",\"type\":\"Circle\"},{\"attributes\":{\"below\":[{\"id\":\"379eabe5-8639-4cbb-83f3-913d0cc9d096\",\"type\":\"LinearAxis\"}],\"left\":[{\"id\":\"e95bc5df-7b71-4101-98a9-5bcf407eece7\",\"type\":\"LinearAxis\"}],\"plot_height\":400,\"plot_width\":980,\"renderers\":[{\"id\":\"379eabe5-8639-4cbb-83f3-913d0cc9d096\",\"type\":\"LinearAxis\"},{\"id\":\"7323b5e0-5865-4b7d-95b4-2a894ba45bbb\",\"type\":\"Grid\"},{\"id\":\"e95bc5df-7b71-4101-98a9-5bcf407eece7\",\"type\":\"LinearAxis\"},{\"id\":\"541d1c51-6e69-4376-b0ab-b26b99ff1399\",\"type\":\"Grid\"},{\"id\":\"d18f19d0-0712-4626-8d6b-a4981e55534e\",\"type\":\"BoxAnnotation\"},{\"id\":\"a591dc0e-3527-4bd0-af7e-141e3bcf0fea\",\"type\":\"Legend\"},{\"id\":\"21427aa3-108e-4e34-bbd1-48e3ba4c3cc0\",\"type\":\"GlyphRenderer\"},{\"id\":\"bd726078-45eb-4717-ba0a-59758bc25b82\",\"type\":\"GlyphRenderer\"},{\"id\":\"68727bde-6e65-4e68-9358-b27c32da2e9a\",\"type\":\"GlyphRenderer\"},{\"id\":\"eb10f258-a506-4576-a1dc-07c46a048ee9\",\"type\":\"GlyphRenderer\"}],\"title\":{\"id\":\"862ab95e-e967-4654-bd6a-caa870a54ac4\",\"type\":\"Title\"},\"toolbar\":{\"id\":\"206d97b8-34c2-42f4-841d-2c2bf16a90c5\",\"type\":\"Toolbar\"},\"x_range\":{\"id\":\"f2fe339d-df3e-46db-9612-fb9b8fde25b8\",\"type\":\"DataRange1d\"},\"x_scale\":{\"id\":\"86d10b6d-28f0-4c93-b58b-8bf7cc797dfb\",\"type\":\"LinearScale\"},\"y_range\":{\"id\":\"e12de442-f22b-4f61-ae63-10b2cdda4112\",\"type\":\"DataRange1d\"},\"y_scale\":{\"id\":\"88b1a13b-92b1-4922-b063-8dab1a9c3aa8\",\"type\":\"LinearScale\"}},\"id\":\"3915deaf-4566-4d97-914a-21af4dc22971\",\"subtype\":\"Figure\",\"type\":\"Plot\"},{\"attributes\":{\"active_drag\":\"auto\",\"active_inspect\":\"auto\",\"active_scroll\":\"auto\",\"active_tap\":\"auto\",\"tools\":[{\"id\":\"23436f74-12b8-479d-b59a-bd02fa067d04\",\"type\":\"PanTool\"},{\"id\":\"2cfdc343-5197-4256-a3b5-68b58977ae88\",\"type\":\"WheelZoomTool\"},{\"id\":\"f615802f-9b2a-4480-a5f9-be87b6404a17\",\"type\":\"BoxZoomTool\"},{\"id\":\"0a13b4a4-f182-49c2-a31d-6fceaa2e414e\",\"type\":\"SaveTool\"},{\"id\":\"8ab2a25a-2d74-48bb-8590-39ec233264da\",\"type\":\"ResetTool\"},{\"id\":\"88d0dc76-c611-4047-94a1-fe6ff98cace8\",\"type\":\"HelpTool\"}]},\"id\":\"206d97b8-34c2-42f4-841d-2c2bf16a90c5\",\"type\":\"Toolbar\"},{\"attributes\":{\"line_color\":\"rgb(100, 191, 163)\",\"line_width\":3,\"x\":{\"field\":\"x\"},\"y\":{\"field\":\"y\"}},\"id\":\"21d9657f-b297-4d36-95da-6134399fa101\",\"type\":\"Line\"},{\"attributes\":{},\"id\":\"2cfdc343-5197-4256-a3b5-68b58977ae88\",\"type\":\"WheelZoomTool\"},{\"attributes\":{},\"id\":\"88d0dc76-c611-4047-94a1-fe6ff98cace8\",\"type\":\"HelpTool\"},{\"attributes\":{\"source\":{\"id\":\"384d1aca-6ae0-4576-86fb-69341834c88c\",\"type\":\"ColumnDataSource\"}},\"id\":\"1b8f1551-ac9e-4cd1-a033-77eb39417a2c\",\"type\":\"CDSView\"},{\"attributes\":{\"line_alpha\":0.1,\"line_color\":\"#1f77b4\",\"line_width\":3,\"x\":{\"field\":\"x\"},\"y\":{\"field\":\"y\"}},\"id\":\"d7405c0e-e5d7-4535-b579-c7704a5ffae9\",\"type\":\"Line\"}],\"root_ids\":[\"3915deaf-4566-4d97-914a-21af4dc22971\"]},\"title\":\"Bokeh Application\",\"version\":\"0.12.16\"}};\n",
       "  var render_items = [{\"docid\":\"09a6bfe1-87f1-410f-ad83-ea3c2b33b329\",\"elementid\":\"931c7fd4-9c8d-4db6-98b2-db07f05bc87d\",\"modelid\":\"3915deaf-4566-4d97-914a-21af4dc22971\"}];\n",
       "  root.Bokeh.embed.embed_items_notebook(docs_json, render_items);\n",
       "\n",
       "  }\n",
       "  if (root.Bokeh !== undefined) {\n",
       "    embed_document(root);\n",
       "  } else {\n",
       "    var attempts = 0;\n",
       "    var timer = setInterval(function(root) {\n",
       "      if (root.Bokeh !== undefined) {\n",
       "        embed_document(root);\n",
       "        clearInterval(timer);\n",
       "      }\n",
       "      attempts++;\n",
       "      if (attempts > 100) {\n",
       "        console.log(\"Bokeh: ERROR: Unable to run BokehJS code because BokehJS library is missing\")\n",
       "        clearInterval(timer);\n",
       "      }\n",
       "    }, 10, root)\n",
       "  }\n",
       "})(window);"
      ],
      "application/vnd.bokehjs_exec.v0+json": ""
     },
     "metadata": {
      "application/vnd.bokehjs_exec.v0+json": {
       "id": "3915deaf-4566-4d97-914a-21af4dc22971"
      }
     },
     "output_type": "display_data"
    }
   ],
   "source": [
    "plot_predict(y_real=scy.inverse_transform(yv[dia]).reshape(1,-1)[0], \n",
    "             y_pred=scy.inverse_transform(pd.DataFrame(model.predict(Xv))).reshape(1,-1)[0], \n",
    "             title=\"BIMBO Validate\")"
   ]
  },
  {
   "cell_type": "code",
   "execution_count": 138,
   "metadata": {},
   "outputs": [
    {
     "data": {
      "text/html": [
       "\n",
       "<div class=\"bk-root\">\n",
       "    <div class=\"bk-plotdiv\" id=\"c348e98b-12ff-42b0-8225-1b3c5b1d3844\"></div>\n",
       "</div>"
      ]
     },
     "metadata": {},
     "output_type": "display_data"
    },
    {
     "data": {
      "application/javascript": [
       "(function(root) {\n",
       "  function embed_document(root) {\n",
       "    \n",
       "  var docs_json = {\"62bda0fb-57de-4dc8-b0f6-613781a27f09\":{\"roots\":{\"references\":[{\"attributes\":{\"line_color\":\"rgb(100, 191, 163)\",\"line_width\":3,\"x\":{\"field\":\"x\"},\"y\":{\"field\":\"y\"}},\"id\":\"08b81507-e37f-4272-b669-23f791d296a1\",\"type\":\"Line\"},{\"attributes\":{},\"id\":\"1bf5f65a-7339-4f1f-b1a9-1206c1bc85b8\",\"type\":\"Selection\"},{\"attributes\":{},\"id\":\"116a21fd-1c84-4f63-9f28-2ad569914562\",\"type\":\"ResetTool\"},{\"attributes\":{},\"id\":\"d09c3790-e231-400f-8360-d146cd6bd50e\",\"type\":\"Selection\"},{\"attributes\":{},\"id\":\"aede07aa-49ca-4ce3-94cb-81d2a6477b6d\",\"type\":\"UnionRenderers\"},{\"attributes\":{},\"id\":\"c09acadc-e2bd-4a60-b5e7-332aa9f3f44b\",\"type\":\"BasicTickFormatter\"},{\"attributes\":{},\"id\":\"384ddd5e-31e1-4773-8d83-0eb276345c03\",\"type\":\"BasicTicker\"},{\"attributes\":{\"callback\":null,\"data\":{\"x\":[0,1,2,3,4,5,6,7,8,9,10,11,12,13,14,15,16,17,18,19,20,21,22,23,24,25,26,27,28,29,30,31,32,33,34,35,36,37,38,39,40,41,42,43,44,45,46,47,48,49,50,51,52,53,54,55,56,57,58,59,60,61,62,63,64,65,66,67,68,69,70,71,72,73,74,75,76,77,78,79,80,81,82,83,84,85,86,87,88,89,90,91,92,93,94,95,96,97,98,99,100,101,102,103,104,105,106,107,108,109,110,111,112,113,114,115,116,117,118,119,120,121,122,123,124,125,126,127,128,129,130,131,132,133,134,135,136,137,138,139,140,141,142,143,144,145,146,147,148,149,150,151,152,153,154,155,156,157,158,159,160,161,162,163,164,165,166,167,168,169,170,171,172,173,174,175,176,177,178,179,180,181,182,183,184,185,186,187,188,189,190,191,192,193,194,195,196,197,198,199,200,201,202,203,204,205,206,207,208,209,210,211,212,213,214,215,216,217,218,219,220,221,222,223,224,225,226,227,228,229,230,231,232,233,234,235,236,237,238,239,240,241,242,243,244,245,246,247,248,249,250,251,252,253,254,255,256,257,258,259,260,261,262,263,264,265,266,267,268,269,270,271,272,273,274,275,276,277,278,279,280,281,282,283,284,285,286,287,288,289,290,291,292,293,294,295,296,297,298,299,300,301,302,303,304,305,306,307,308,309,310,311,312,313,314,315,316,317,318,319,320,321,322,323,324,325,326,327,328,329,330,331,332,333,334,335,336,337,338,339,340,341,342,343,344,345,346,347,348,349,350,351,352,353,354,355,356,357,358,359,360,361,362,363,364,365,366,367,368,369,370,371,372,373,374,375,376,377,378,379,380,381,382,383,384,385,386,387,388,389,390,391,392,393,394,395,396,397,398,399,400,401,402,403,404,405,406,407,408,409,410,411,412,413,414,415,416,417,418,419,420,421,422,423,424,425,426,427,428,429,430,431,432,433,434,435,436,437,438,439,440,441,442,443,444,445,446,447,448,449,450,451,452,453,454,455,456,457,458,459,460,461,462,463,464,465,466,467,468,469,470,471,472,473,474,475,476,477,478,479,480,481,482,483,484,485,486,487,488,489,490,491,492,493,494,495,496,497,498,499,500,501,502,503,504,505,506,507,508,509,510,511,512,513,514,515,516,517,518,519,520,521,522,523,524,525,526,527,528,529,530,531,532,533,534,535,536,537,538,539,540,541,542,543,544,545,546,547,548,549,550,551,552,553,554,555,556,557,558,559,560,561,562,563,564,565,566,567,568,569,570,571,572,573,574,575,576,577,578,579,580,581,582,583,584,585,586,587,588,589,590,591,592,593,594,595,596,597,598,599,600,601,602,603,604,605,606,607,608,609,610,611,612,613,614,615,616,617,618,619,620,621,622,623,624,625,626,627,628,629,630,631,632,633,634,635,636,637,638,639,640,641,642,643,644,645,646,647,648,649,650,651,652,653,654,655,656,657,658,659,660,661,662],\"y\":{\"__ndarray__\":\"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\",\"dtype\":\"float64\",\"shape\":[663]}},\"selected\":{\"id\":\"d09c3790-e231-400f-8360-d146cd6bd50e\",\"type\":\"Selection\"},\"selection_policy\":{\"id\":\"aede07aa-49ca-4ce3-94cb-81d2a6477b6d\",\"type\":\"UnionRenderers\"}},\"id\":\"cb21add3-4b7c-4584-8b02-ba1fdbcf779c\",\"type\":\"ColumnDataSource\"},{\"attributes\":{\"formatter\":{\"id\":\"c09acadc-e2bd-4a60-b5e7-332aa9f3f44b\",\"type\":\"BasicTickFormatter\"},\"plot\":{\"id\":\"035c5677-5a33-4785-840b-e28f34f74293\",\"subtype\":\"Figure\",\"type\":\"Plot\"},\"ticker\":{\"id\":\"384ddd5e-31e1-4773-8d83-0eb276345c03\",\"type\":\"BasicTicker\"}},\"id\":\"6477b879-4cb7-4cfd-877c-03c019b57e2b\",\"type\":\"LinearAxis\"},{\"attributes\":{\"source\":{\"id\":\"4fb95ccd-ed39-435d-b194-89ad39b20a0a\",\"type\":\"ColumnDataSource\"}},\"id\":\"2ccb998a-19d3-44e4-94fb-1c3d47bd5d70\",\"type\":\"CDSView\"},{\"attributes\":{\"plot\":{\"id\":\"035c5677-5a33-4785-840b-e28f34f74293\",\"subtype\":\"Figure\",\"type\":\"Plot\"},\"ticker\":{\"id\":\"a7d11fc9-734b-464a-953e-4cce4c887c42\",\"type\":\"BasicTicker\"}},\"id\":\"314d6add-7074-445d-a603-c8e63dde164c\",\"type\":\"Grid\"},{\"attributes\":{},\"id\":\"185b57af-4b83-413e-8ebc-1f1c197760d9\",\"type\":\"SaveTool\"},{\"attributes\":{\"label\":{\"value\":\"Real\"},\"renderers\":[{\"id\":\"11ae4392-0ce9-474f-b64c-40cf54f0c260\",\"type\":\"GlyphRenderer\"}]},\"id\":\"3aa92a11-1cba-4bb5-87b3-7f065e92cd31\",\"type\":\"LegendItem\"},{\"attributes\":{},\"id\":\"e138a456-1ded-4fa1-9db8-2223e08920ea\",\"type\":\"BasicTickFormatter\"},{\"attributes\":{\"dimension\":1,\"plot\":{\"id\":\"035c5677-5a33-4785-840b-e28f34f74293\",\"subtype\":\"Figure\",\"type\":\"Plot\"},\"ticker\":{\"id\":\"384ddd5e-31e1-4773-8d83-0eb276345c03\",\"type\":\"BasicTicker\"}},\"id\":\"431419b2-3633-490a-aaca-ed3aee8c7b64\",\"type\":\"Grid\"},{\"attributes\":{\"callback\":null},\"id\":\"a2419be8-7eb2-4fe3-a1f9-2424082d6abd\",\"type\":\"DataRange1d\"},{\"attributes\":{\"callback\":null},\"id\":\"ffc63041-e063-4afe-a9c5-964f1e938f22\",\"type\":\"DataRange1d\"},{\"attributes\":{},\"id\":\"1d9f5c05-5cca-42af-be68-ced2f7981b32\",\"type\":\"LinearScale\"},{\"attributes\":{\"active_drag\":\"auto\",\"active_inspect\":\"auto\",\"active_scroll\":\"auto\",\"active_tap\":\"auto\",\"tools\":[{\"id\":\"6d9b30aa-6e75-4bef-a3ab-aff01a0b6483\",\"type\":\"PanTool\"},{\"id\":\"8762a4ea-e61c-42af-a5a6-9f410b37f7fe\",\"type\":\"WheelZoomTool\"},{\"id\":\"a6f23991-d0a9-4e17-ab41-da0cf3ca8e33\",\"type\":\"BoxZoomTool\"},{\"id\":\"185b57af-4b83-413e-8ebc-1f1c197760d9\",\"type\":\"SaveTool\"},{\"id\":\"116a21fd-1c84-4f63-9f28-2ad569914562\",\"type\":\"ResetTool\"},{\"id\":\"f3b2eae9-36aa-48bf-86a7-cca99d9ecaac\",\"type\":\"HelpTool\"}]},\"id\":\"de72eeea-733b-494b-ac64-198203400fc8\",\"type\":\"Toolbar\"},{\"attributes\":{},\"id\":\"80c182ff-daa7-4cc2-8b87-98b23dbf9fa5\",\"type\":\"UnionRenderers\"},{\"attributes\":{\"line_alpha\":0.1,\"line_color\":\"#1f77b4\",\"line_width\":2,\"x\":{\"field\":\"x\"},\"y\":{\"field\":\"y\"}},\"id\":\"22c08e36-2e3d-4ac0-bdbf-5127adeb761b\",\"type\":\"Line\"},{\"attributes\":{\"source\":{\"id\":\"cb21add3-4b7c-4584-8b02-ba1fdbcf779c\",\"type\":\"ColumnDataSource\"}},\"id\":\"ecbb59f0-9442-4b23-a624-316c617f45ca\",\"type\":\"CDSView\"},{\"attributes\":{},\"id\":\"f3b2eae9-36aa-48bf-86a7-cca99d9ecaac\",\"type\":\"HelpTool\"},{\"attributes\":{\"formatter\":{\"id\":\"e138a456-1ded-4fa1-9db8-2223e08920ea\",\"type\":\"BasicTickFormatter\"},\"plot\":{\"id\":\"035c5677-5a33-4785-840b-e28f34f74293\",\"subtype\":\"Figure\",\"type\":\"Plot\"},\"ticker\":{\"id\":\"a7d11fc9-734b-464a-953e-4cce4c887c42\",\"type\":\"BasicTicker\"}},\"id\":\"6d8cdf04-0ddc-460c-9411-83094b749acb\",\"type\":\"LinearAxis\"},{\"attributes\":{},\"id\":\"8762a4ea-e61c-42af-a5a6-9f410b37f7fe\",\"type\":\"WheelZoomTool\"},{\"attributes\":{\"below\":[{\"id\":\"6d8cdf04-0ddc-460c-9411-83094b749acb\",\"type\":\"LinearAxis\"}],\"left\":[{\"id\":\"6477b879-4cb7-4cfd-877c-03c019b57e2b\",\"type\":\"LinearAxis\"}],\"plot_height\":400,\"plot_width\":980,\"renderers\":[{\"id\":\"6d8cdf04-0ddc-460c-9411-83094b749acb\",\"type\":\"LinearAxis\"},{\"id\":\"314d6add-7074-445d-a603-c8e63dde164c\",\"type\":\"Grid\"},{\"id\":\"6477b879-4cb7-4cfd-877c-03c019b57e2b\",\"type\":\"LinearAxis\"},{\"id\":\"431419b2-3633-490a-aaca-ed3aee8c7b64\",\"type\":\"Grid\"},{\"id\":\"c048533e-a616-40ef-afc2-6e768cf12e4f\",\"type\":\"BoxAnnotation\"},{\"id\":\"f3b598cb-941d-4344-a4d6-613ea56bcc31\",\"type\":\"Legend\"},{\"id\":\"11ae4392-0ce9-474f-b64c-40cf54f0c260\",\"type\":\"GlyphRenderer\"},{\"id\":\"162d9ca6-3d69-44bc-b7cd-30ee1484015b\",\"type\":\"GlyphRenderer\"}],\"title\":{\"id\":\"f31eb08b-18b5-44d7-917f-ff31d6917a07\",\"type\":\"Title\"},\"toolbar\":{\"id\":\"de72eeea-733b-494b-ac64-198203400fc8\",\"type\":\"Toolbar\"},\"x_range\":{\"id\":\"ffc63041-e063-4afe-a9c5-964f1e938f22\",\"type\":\"DataRange1d\"},\"x_scale\":{\"id\":\"684ace3c-df6f-468b-8941-b4431dee4d76\",\"type\":\"LinearScale\"},\"y_range\":{\"id\":\"a2419be8-7eb2-4fe3-a1f9-2424082d6abd\",\"type\":\"DataRange1d\"},\"y_scale\":{\"id\":\"1d9f5c05-5cca-42af-be68-ced2f7981b32\",\"type\":\"LinearScale\"}},\"id\":\"035c5677-5a33-4785-840b-e28f34f74293\",\"subtype\":\"Figure\",\"type\":\"Plot\"},{\"attributes\":{},\"id\":\"684ace3c-df6f-468b-8941-b4431dee4d76\",\"type\":\"LinearScale\"},{\"attributes\":{},\"id\":\"a7d11fc9-734b-464a-953e-4cce4c887c42\",\"type\":\"BasicTicker\"},{\"attributes\":{\"data_source\":{\"id\":\"4fb95ccd-ed39-435d-b194-89ad39b20a0a\",\"type\":\"ColumnDataSource\"},\"glyph\":{\"id\":\"08b81507-e37f-4272-b669-23f791d296a1\",\"type\":\"Line\"},\"hover_glyph\":null,\"muted_glyph\":null,\"nonselection_glyph\":{\"id\":\"e332a77c-71b9-4ffd-ab56-2b1ba7905c00\",\"type\":\"Line\"},\"selection_glyph\":null,\"view\":{\"id\":\"2ccb998a-19d3-44e4-94fb-1c3d47bd5d70\",\"type\":\"CDSView\"}},\"id\":\"11ae4392-0ce9-474f-b64c-40cf54f0c260\",\"type\":\"GlyphRenderer\"},{\"attributes\":{\"bottom_units\":\"screen\",\"fill_alpha\":{\"value\":0.5},\"fill_color\":{\"value\":\"lightgrey\"},\"left_units\":\"screen\",\"level\":\"overlay\",\"line_alpha\":{\"value\":1.0},\"line_color\":{\"value\":\"black\"},\"line_dash\":[4,4],\"line_width\":{\"value\":2},\"plot\":null,\"render_mode\":\"css\",\"right_units\":\"screen\",\"top_units\":\"screen\"},\"id\":\"c048533e-a616-40ef-afc2-6e768cf12e4f\",\"type\":\"BoxAnnotation\"},{\"attributes\":{\"line_color\":\"rgb(249, 139, 96)\",\"line_width\":2,\"x\":{\"field\":\"x\"},\"y\":{\"field\":\"y\"}},\"id\":\"df6dc7f9-cb51-4a5a-986b-d4642c5c6e4c\",\"type\":\"Line\"},{\"attributes\":{\"data_source\":{\"id\":\"cb21add3-4b7c-4584-8b02-ba1fdbcf779c\",\"type\":\"ColumnDataSource\"},\"glyph\":{\"id\":\"df6dc7f9-cb51-4a5a-986b-d4642c5c6e4c\",\"type\":\"Line\"},\"hover_glyph\":null,\"muted_glyph\":null,\"nonselection_glyph\":{\"id\":\"22c08e36-2e3d-4ac0-bdbf-5127adeb761b\",\"type\":\"Line\"},\"selection_glyph\":null,\"view\":{\"id\":\"ecbb59f0-9442-4b23-a624-316c617f45ca\",\"type\":\"CDSView\"}},\"id\":\"162d9ca6-3d69-44bc-b7cd-30ee1484015b\",\"type\":\"GlyphRenderer\"},{\"attributes\":{\"line_alpha\":0.1,\"line_color\":\"#1f77b4\",\"line_width\":3,\"x\":{\"field\":\"x\"},\"y\":{\"field\":\"y\"}},\"id\":\"e332a77c-71b9-4ffd-ab56-2b1ba7905c00\",\"type\":\"Line\"},{\"attributes\":{},\"id\":\"6d9b30aa-6e75-4bef-a3ab-aff01a0b6483\",\"type\":\"PanTool\"},{\"attributes\":{\"overlay\":{\"id\":\"c048533e-a616-40ef-afc2-6e768cf12e4f\",\"type\":\"BoxAnnotation\"}},\"id\":\"a6f23991-d0a9-4e17-ab41-da0cf3ca8e33\",\"type\":\"BoxZoomTool\"},{\"attributes\":{\"align\":\"center\",\"plot\":null,\"text\":\"BIMBO Validate\",\"text_font_size\":{\"value\":\"20pt\"}},\"id\":\"f31eb08b-18b5-44d7-917f-ff31d6917a07\",\"type\":\"Title\"},{\"attributes\":{\"items\":[{\"id\":\"3aa92a11-1cba-4bb5-87b3-7f065e92cd31\",\"type\":\"LegendItem\"},{\"id\":\"0310a484-b7c0-4db5-811b-e2893733fe83\",\"type\":\"LegendItem\"}],\"plot\":{\"id\":\"035c5677-5a33-4785-840b-e28f34f74293\",\"subtype\":\"Figure\",\"type\":\"Plot\"}},\"id\":\"f3b598cb-941d-4344-a4d6-613ea56bcc31\",\"type\":\"Legend\"},{\"attributes\":{\"callback\":null,\"data\":{\"x\":[0,1,2,3,4,5,6,7,8,9,10,11,12,13,14,15,16,17,18,19,20,21,22,23,24,25,26,27,28,29,30,31,32,33,34,35,36,37,38,39,40,41,42,43,44,45,46,47,48,49,50,51,52,53,54,55,56,57,58,59,60,61,62,63,64,65,66,67,68,69,70,71,72,73,74,75,76,77,78,79,80,81,82,83,84,85,86,87,88,89,90,91,92,93,94,95,96,97,98,99,100,101,102,103,104,105,106,107,108,109,110,111,112,113,114,115,116,117,118,119,120,121,122,123,124,125,126,127,128,129,130,131,132,133,134,135,136,137,138,139,140,141,142,143,144,145,146,147,148,149,150,151,152,153,154,155,156,157,158,159,160,161,162,163,164,165,166,167,168,169,170,171,172,173,174,175,176,177,178,179,180,181,182,183,184,185,186,187,188,189,190,191,192,193,194,195,196,197,198,199,200,201,202,203,204,205,206,207,208,209,210,211,212,213,214,215,216,217,218,219,220,221,222,223,224,225,226,227,228,229,230,231,232,233,234,235,236,237,238,239,240,241,242,243,244,245,246,247,248,249,250,251,252,253,254,255,256,257,258,259,260,261,262,263,264,265,266,267,268,269,270,271,272,273,274,275,276,277,278,279,280,281,282,283,284,285,286,287,288,289,290,291,292,293,294,295,296,297,298,299,300,301,302,303,304,305,306,307,308,309,310,311,312,313,314,315,316,317,318,319,320,321,322,323,324,325,326,327,328,329,330,331,332,333,334,335,336,337,338,339,340,341,342,343,344,345,346,347,348,349,350,351,352,353,354,355,356,357,358,359,360,361,362,363,364,365,366,367,368,369,370,371,372,373,374,375,376,377,378,379,380,381,382,383,384,385,386,387,388,389,390,391,392,393,394,395,396,397,398,399,400,401,402,403,404,405,406,407,408,409,410,411,412,413,414,415,416,417,418,419,420,421,422,423,424,425,426,427,428,429,430,431,432,433,434,435,436,437,438,439,440,441,442,443,444,445,446,447,448,449,450,451,452,453,454,455,456,457,458,459,460,461,462,463,464,465,466,467,468,469,470,471,472,473,474,475,476,477,478,479,480,481,482,483,484,485,486,487,488,489,490,491,492,493,494,495,496,497,498,499,500,501,502,503,504,505,506,507,508,509,510,511,512,513,514,515,516,517,518,519,520,521,522,523,524,525,526,527,528,529,530,531,532,533,534,535,536,537,538,539,540,541,542,543,544,545,546,547,548,549,550,551,552,553,554,555,556,557,558,559,560,561,562,563,564,565,566,567,568,569,570,571,572,573,574,575,576,577,578,579,580,581,582,583,584,585,586,587,588,589,590,591,592,593,594,595,596,597,598,599,600,601,602,603,604,605,606,607,608,609,610,611,612,613,614,615,616,617,618,619,620,621,622,623,624,625,626,627,628,629,630,631,632,633,634,635,636,637,638,639,640,641,642,643,644,645,646,647,648,649,650,651,652,653,654,655,656,657,658,659,660,661,662],\"y\":{\"__ndarray__\":\"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\",\"dtype\":\"float64\",\"shape\":[663]}},\"selected\":{\"id\":\"1bf5f65a-7339-4f1f-b1a9-1206c1bc85b8\",\"type\":\"Selection\"},\"selection_policy\":{\"id\":\"80c182ff-daa7-4cc2-8b87-98b23dbf9fa5\",\"type\":\"UnionRenderers\"}},\"id\":\"4fb95ccd-ed39-435d-b194-89ad39b20a0a\",\"type\":\"ColumnDataSource\"},{\"attributes\":{\"label\":{\"value\":\"Predicci\\u00f3n\"},\"renderers\":[{\"id\":\"162d9ca6-3d69-44bc-b7cd-30ee1484015b\",\"type\":\"GlyphRenderer\"}]},\"id\":\"0310a484-b7c0-4db5-811b-e2893733fe83\",\"type\":\"LegendItem\"}],\"root_ids\":[\"035c5677-5a33-4785-840b-e28f34f74293\"]},\"title\":\"Bokeh Application\",\"version\":\"0.12.16\"}};\n",
       "  var render_items = [{\"docid\":\"62bda0fb-57de-4dc8-b0f6-613781a27f09\",\"elementid\":\"c348e98b-12ff-42b0-8225-1b3c5b1d3844\",\"modelid\":\"035c5677-5a33-4785-840b-e28f34f74293\"}];\n",
       "  root.Bokeh.embed.embed_items_notebook(docs_json, render_items);\n",
       "\n",
       "  }\n",
       "  if (root.Bokeh !== undefined) {\n",
       "    embed_document(root);\n",
       "  } else {\n",
       "    var attempts = 0;\n",
       "    var timer = setInterval(function(root) {\n",
       "      if (root.Bokeh !== undefined) {\n",
       "        embed_document(root);\n",
       "        clearInterval(timer);\n",
       "      }\n",
       "      attempts++;\n",
       "      if (attempts > 100) {\n",
       "        console.log(\"Bokeh: ERROR: Unable to run BokehJS code because BokehJS library is missing\")\n",
       "        clearInterval(timer);\n",
       "      }\n",
       "    }, 10, root)\n",
       "  }\n",
       "})(window);"
      ],
      "application/vnd.bokehjs_exec.v0+json": ""
     },
     "metadata": {
      "application/vnd.bokehjs_exec.v0+json": {
       "id": "035c5677-5a33-4785-840b-e28f34f74293"
      }
     },
     "output_type": "display_data"
    }
   ],
   "source": [
    "plot_predict(y_real=scy.inverse_transform(ys[dia]).reshape(1,-1)[0], \n",
    "             y_pred=scy.inverse_transform(pd.DataFrame(model.predict(Xs))).reshape(1,-1)[0], \n",
    "             title=\"BIMBO Validate\", circle=False)"
   ]
  },
  {
   "cell_type": "code",
   "execution_count": 193,
   "metadata": {},
   "outputs": [],
   "source": [
    "\n",
    "Obv_mean=lambda n: df.iloc[-n:][dia].mean()\n",
    "Obv_std=lambda n: df.iloc[-n:][dia].std()\n",
    "Cierre_anterior=df.tail(1)[dia].iloc[0]\n",
    "Volumen_anterior=df.tail(1)[\"Vol.\"].iloc[0]\n",
    "Dia_manana=df.tail(1)[\"Dia\"].iloc[0]+1\n",
    "\n",
    "\n",
    "\n",
    "\n",
    "predict=np.array([39.995, 4, 9,3430000.0,39.995 \n",
    "        ,Obv_std(2), Obv_mean(2),Obv_std(5), Obv_mean(5), Obv_std(7), \n",
    "         Obv_mean(7), Obv_std(10), Obv_mean(10) ]).reshape(-1,1)\n",
    "\n",
    "prediccion=scy.inverse_transform(model.predict(pd.DataFrame(scx.transform(predict.T), \n",
    "                columns=X.columns)).reshape(-1,1))[0][0]"
   ]
  },
  {
   "cell_type": "code",
   "execution_count": 194,
   "metadata": {
    "scrolled": true
   },
   "outputs": [
    {
     "data": {
      "text/plain": [
       "Cierre_dia1    39.8725\n",
       "dtype: float64"
      ]
     },
     "execution_count": 194,
     "metadata": {},
     "output_type": "execute_result"
    }
   ],
   "source": [
    "Obv_mean(2)"
   ]
  },
  {
   "cell_type": "code",
   "execution_count": 195,
   "metadata": {},
   "outputs": [
    {
     "name": "stdout",
     "output_type": "stream",
     "text": [
      "El precio de cierre para mañana es: 39.784775\n"
     ]
    }
   ],
   "source": [
    "print \"El precio de cierre para mañana es: %f\" %prediccion"
   ]
  },
  {
   "cell_type": "code",
   "execution_count": null,
   "metadata": {},
   "outputs": [],
   "source": []
  }
 ],
 "metadata": {
  "kernelspec": {
   "display_name": "Python 2",
   "language": "python",
   "name": "python2"
  },
  "language_info": {
   "codemirror_mode": {
    "name": "ipython",
    "version": 2
   },
   "file_extension": ".py",
   "mimetype": "text/x-python",
   "name": "python",
   "nbconvert_exporter": "python",
   "pygments_lexer": "ipython2",
   "version": "2.7.15"
  }
 },
 "nbformat": 4,
 "nbformat_minor": 2
}
